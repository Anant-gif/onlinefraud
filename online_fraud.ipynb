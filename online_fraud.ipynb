{
  "cells": [
    {
      "cell_type": "markdown",
      "metadata": {
        "colab_type": "text",
        "id": "view-in-github"
      },
      "source": [
        "<a href=\"https://colab.research.google.com/github/Anant-gif/onlinefraud/blob/main/online_fraud.iipynb\" target=\"_parent\"><img src=\"https://colab.research.google.com/assets/colab-badge.svg\" alt=\"Open In Colab\"/></a>"
      ]
    },
    {
      "cell_type": "markdown",
      "metadata": {
        "hidden": true,
        "id": "hYajQSbK0uL-"
      },
      "source": [
        "## 0.1 Imports"
      ]
    },
    {
      "cell_type": "code",
      "execution_count": 1,
      "metadata": {
        "ExecuteTime": {
          "end_time": "2021-01-11T18:47:33.819432Z",
          "start_time": "2021-01-11T18:47:33.805991Z"
        },
        "hidden": true,
        "id": "sEj0nuTm0uL-"
      },
      "outputs": [
        {
          "ename": "ModuleNotFoundError",
          "evalue": "No module named 'joblib'",
          "output_type": "error",
          "traceback": [
            "\u001b[0;31m---------------------------------------------------------------------------\u001b[0m",
            "\u001b[0;31mModuleNotFoundError\u001b[0m                       Traceback (most recent call last)",
            "\u001b[1;32m/home/anant/Documents/onlinefraud/online_fraud.ipynb Cell 3\u001b[0m line \u001b[0;36m1\n\u001b[0;32m----> <a href='vscode-notebook-cell:/home/anant/Documents/onlinefraud/online_fraud.ipynb#W2sZmlsZQ%3D%3D?line=0'>1</a>\u001b[0m \u001b[39mimport\u001b[39;00m \u001b[39mjoblib\u001b[39;00m\n\u001b[1;32m      <a href='vscode-notebook-cell:/home/anant/Documents/onlinefraud/online_fraud.ipynb#W2sZmlsZQ%3D%3D?line=1'>2</a>\u001b[0m \u001b[39mimport\u001b[39;00m \u001b[39mwarnings\u001b[39;00m\n\u001b[1;32m      <a href='vscode-notebook-cell:/home/anant/Documents/onlinefraud/online_fraud.ipynb#W2sZmlsZQ%3D%3D?line=2'>3</a>\u001b[0m \u001b[39mimport\u001b[39;00m \u001b[39minflection\u001b[39;00m\n",
            "\u001b[0;31mModuleNotFoundError\u001b[0m: No module named 'joblib'"
          ]
        }
      ],
      "source": [
        "import joblib\n",
        "import warnings\n",
        "import inflection\n",
        "import numpy             as np\n",
        "import pandas            as pd\n",
        "import seaborn           as sns\n",
        "from category_encoders import OneHotEncoder\n",
        "import matplotlib.pyplot as plt\n",
        "\n",
        "from scipy   import stats\n",
        "\n",
        "from xgboost  import XGBClassifier\n",
        "\n",
        "from sklearn.svm          import SVC\n",
        "from sklearn.ensemble     import RandomForestClassifier\n",
        "from sklearn.neighbors    import KNeighborsClassifier\n",
        "from sklearn.linear_model import LogisticRegression\n",
        "\n",
        "from sklearn.metrics         import balanced_accuracy_score, precision_score, classification_report\n",
        "from sklearn.metrics         import recall_score, f1_score, make_scorer, roc_auc_score\n",
        "from sklearn.preprocessing   import MinMaxScaler\n",
        "from sklearn.model_selection import train_test_split, StratifiedKFold"
      ]
    },
    {
      "cell_type": "markdown",
      "metadata": {
        "hidden": true,
        "id": "U1GnHjfy0uL_"
      },
      "source": [
        "## 0.2 Helper Functions"
      ]
    },
    {
      "cell_type": "code",
      "execution_count": 2,
      "metadata": {
        "ExecuteTime": {
          "end_time": "2021-01-11T18:47:34.604129Z",
          "start_time": "2021-01-11T18:47:34.599974Z"
        },
        "hidden": true,
        "id": "pJJpPqn20uL_"
      },
      "outputs": [],
      "source": [
        "warnings.filterwarnings('ignore')\n",
        "\n",
        "seed = 42\n",
        "np.random.seed(seed)"
      ]
    },
    {
      "cell_type": "code",
      "execution_count": null,
      "metadata": {
        "colab": {
          "base_uri": "https://localhost:8080/"
        },
        "id": "WcywLgli1pew",
        "outputId": "016e3b03-1e3e-4370-dc2e-275727a134c7"
      },
      "outputs": [
        {
          "name": "stdout",
          "output_type": "stream",
          "text": [
            "Drive already mounted at /content/drive; to attempt to forcibly remount, call drive.mount(\"/content/drive\", force_remount=True).\n"
          ]
        }
      ],
      "source": [
        "from google.colab import drive\n",
        "drive.mount('/content/drive')"
      ]
    },
    {
      "cell_type": "markdown",
      "metadata": {
        "heading_collapsed": true,
        "id": "-FwwxAnY0uMB"
      },
      "source": [
        "# 1.0 Data Description"
      ]
    },
    {
      "cell_type": "markdown",
      "metadata": {
        "hidden": true,
        "id": "fGinyayM0uMB"
      },
      "source": [
        "## 1.1 Loading Data"
      ]
    },
    {
      "cell_type": "code",
      "execution_count": 3,
      "metadata": {
        "ExecuteTime": {
          "end_time": "2021-01-11T18:47:37.450936Z",
          "start_time": "2021-01-11T18:47:36.044298Z"
        },
        "hidden": true,
        "id": "gZopuE3w0uMC"
      },
      "outputs": [],
      "source": [
        "df1 = pd.read_csv('PS_20174392719_1491204439457_log.csv')"
      ]
    },
    {
      "cell_type": "code",
      "execution_count": 4,
      "metadata": {
        "ExecuteTime": {
          "end_time": "2021-01-11T18:47:37.474072Z",
          "start_time": "2021-01-11T18:47:37.453989Z"
        },
        "colab": {
          "base_uri": "https://localhost:8080/",
          "height": 206
        },
        "hidden": true,
        "id": "NpCxnOA00uMC",
        "outputId": "76ab2ab9-0e74-4339-e7b6-9162606d6209"
      },
      "outputs": [
        {
          "data": {
            "text/html": [
              "<div>\n",
              "<style scoped>\n",
              "    .dataframe tbody tr th:only-of-type {\n",
              "        vertical-align: middle;\n",
              "    }\n",
              "\n",
              "    .dataframe tbody tr th {\n",
              "        vertical-align: top;\n",
              "    }\n",
              "\n",
              "    .dataframe thead th {\n",
              "        text-align: right;\n",
              "    }\n",
              "</style>\n",
              "<table border=\"1\" class=\"dataframe\">\n",
              "  <thead>\n",
              "    <tr style=\"text-align: right;\">\n",
              "      <th></th>\n",
              "      <th>step</th>\n",
              "      <th>type</th>\n",
              "      <th>amount</th>\n",
              "      <th>nameOrig</th>\n",
              "      <th>oldbalanceOrg</th>\n",
              "      <th>newbalanceOrig</th>\n",
              "      <th>nameDest</th>\n",
              "      <th>oldbalanceDest</th>\n",
              "      <th>newbalanceDest</th>\n",
              "      <th>isFraud</th>\n",
              "      <th>isFlaggedFraud</th>\n",
              "    </tr>\n",
              "  </thead>\n",
              "  <tbody>\n",
              "    <tr>\n",
              "      <th>0</th>\n",
              "      <td>1</td>\n",
              "      <td>PAYMENT</td>\n",
              "      <td>9839.64</td>\n",
              "      <td>C1231006815</td>\n",
              "      <td>170136.0</td>\n",
              "      <td>160296.36</td>\n",
              "      <td>M1979787155</td>\n",
              "      <td>0.0</td>\n",
              "      <td>0.0</td>\n",
              "      <td>0</td>\n",
              "      <td>0</td>\n",
              "    </tr>\n",
              "    <tr>\n",
              "      <th>1</th>\n",
              "      <td>1</td>\n",
              "      <td>PAYMENT</td>\n",
              "      <td>1864.28</td>\n",
              "      <td>C1666544295</td>\n",
              "      <td>21249.0</td>\n",
              "      <td>19384.72</td>\n",
              "      <td>M2044282225</td>\n",
              "      <td>0.0</td>\n",
              "      <td>0.0</td>\n",
              "      <td>0</td>\n",
              "      <td>0</td>\n",
              "    </tr>\n",
              "    <tr>\n",
              "      <th>2</th>\n",
              "      <td>1</td>\n",
              "      <td>TRANSFER</td>\n",
              "      <td>181.00</td>\n",
              "      <td>C1305486145</td>\n",
              "      <td>181.0</td>\n",
              "      <td>0.00</td>\n",
              "      <td>C553264065</td>\n",
              "      <td>0.0</td>\n",
              "      <td>0.0</td>\n",
              "      <td>1</td>\n",
              "      <td>0</td>\n",
              "    </tr>\n",
              "    <tr>\n",
              "      <th>3</th>\n",
              "      <td>1</td>\n",
              "      <td>CASH_OUT</td>\n",
              "      <td>181.00</td>\n",
              "      <td>C840083671</td>\n",
              "      <td>181.0</td>\n",
              "      <td>0.00</td>\n",
              "      <td>C38997010</td>\n",
              "      <td>21182.0</td>\n",
              "      <td>0.0</td>\n",
              "      <td>1</td>\n",
              "      <td>0</td>\n",
              "    </tr>\n",
              "    <tr>\n",
              "      <th>4</th>\n",
              "      <td>1</td>\n",
              "      <td>PAYMENT</td>\n",
              "      <td>11668.14</td>\n",
              "      <td>C2048537720</td>\n",
              "      <td>41554.0</td>\n",
              "      <td>29885.86</td>\n",
              "      <td>M1230701703</td>\n",
              "      <td>0.0</td>\n",
              "      <td>0.0</td>\n",
              "      <td>0</td>\n",
              "      <td>0</td>\n",
              "    </tr>\n",
              "  </tbody>\n",
              "</table>\n",
              "</div>"
            ],
            "text/plain": [
              "   step      type    amount     nameOrig  oldbalanceOrg  newbalanceOrig  \\\n",
              "0     1   PAYMENT   9839.64  C1231006815       170136.0       160296.36   \n",
              "1     1   PAYMENT   1864.28  C1666544295        21249.0        19384.72   \n",
              "2     1  TRANSFER    181.00  C1305486145          181.0            0.00   \n",
              "3     1  CASH_OUT    181.00   C840083671          181.0            0.00   \n",
              "4     1   PAYMENT  11668.14  C2048537720        41554.0        29885.86   \n",
              "\n",
              "    .colab-df-convert {\n",
              "      background-color: #E8F0FE;\n",
              "      border: none;\n",
              "      border-radius: 50%;\n",
              "      cursor: pointer;\n",
              "      display: none;\n",
              "      fill: #1967D2;\n",
              "      height: 32px;\n",
              "      padding: 0 0 0 0;\n",
              "      width: 32px;\n",
              "    }\n",
              "\n",
              "    .colab-df-convert:hover {\n",
              "      background-color: #E2EBFA;\n",
              "      box-shadow: 0px 1px 2px rgba(60, 64, 67, 0.3), 0px 1px 3px 1px rgba(60, 64, 67, 0.15);\n",
              "      fill: #174EA6;\n",
              "    }\n",
              "\n",
              "    [theme=dark] .colab-df-convert {\n",
              "      background-color: #3B4455;\n",
              "      fill: #D2E3FC;\n",
              "    }\n",
              "\n",
              "    [theme=dark] .colab-df-convert:hover {\n",
              "      background-color: #434B5C;\n",
              "      box-shadow: 0px 1px 3px 1px rgba(0, 0, 0, 0.15);\n",
              "      filter: drop-shadow(0px 1px 2px rgba(0, 0, 0, 0.3));\n",
              "      fill: #FFFFFF;\n",
              "    }\n",
              "  </style>\n",
              "\n",
              "      <script>\n",
              "        const buttonEl =\n",
              "          document.querySelector('#df-1b3fec47-9aa1-40a0-b804-cb4abfc7fdf8 button.colab-df-convert');\n",
              "        buttonEl.style.display =\n",
              "          google.colab.kernel.accessAllowed ? 'block' : 'none';\n",
              "\n",
              "        async function convertToInteractive(key) {\n",
              "          const element = document.querySelector('#df-1b3fec47-9aa1-40a0-b804-cb4abfc7fdf8');\n",
              "          const dataTable =\n",
              "            await google.colab.kernel.invokeFunction('convertToInteractive',\n",
              "                                                     [key], {});\n",
              "          if (!dataTable) return;\n",
              "\n",
              "          const docLinkHtml = 'Like what you see? Visit the ' +\n",
              "            '<a target=\"_blank\" href=https://colab.research.google.com/notebooks/data_table.ipynb>data table notebook</a>'\n",
              "            + ' to learn more about interactive tables.';\n",
              "          element.innerHTML = '';\n",
              "          dataTable['output_type'] = 'display_data';\n",
              "          await google.colab.output.renderOutput(dataTable, element);\n",
              "          const docLink = document.createElement('div');\n",
              "          docLink.innerHTML = docLinkHtml;\n",
              "          element.appendChild(docLink);\n",
              "        }\n",
              "      </script>\n",
              "    </div>\n",
              "  </div>\n",
              "  "
            ],
            "text/plain": [
              "   step      type     amount     nameOrig  oldbalanceOrg  newbalanceOrig  \\\n",
              "0   283   CASH_IN  210329.84  C1159819632     3778062.79      3988392.64   \n",
              "1   132  CASH_OUT  215489.19  C1372369468       21518.00            0.00   \n",
              "2   355     DEBIT    4431.05  C1059822709       20674.00        16242.95   \n",
              "3   135  CASH_OUT  214026.20  C1464960643       46909.73            0.00   \n",
              "4   381  CASH_OUT    8858.45   C831134427           0.00            0.00   \n",
              "\n",
              "      nameDest  oldbalanceDest  newbalanceDest  isFraud  isFlaggedFraud  \n",
              "0  C1218876138      1519266.60      1308936.76        0               0  \n",
              "1   C467105520      6345756.55      6794954.89        0               0  \n",
              "2    C76588246        80876.56        85307.61        0               0  \n",
              "3  C1059379810     13467450.36     13681476.56        0               0  \n",
              "4   C579876929      1667180.58      1676039.03        0               0  "
            ]
          },
          "execution_count": 453,
              "      nameDest  oldbalanceDest  newbalanceDest  isFraud  isFlaggedFraud  \n",
              "0  M1979787155             0.0             0.0        0               0  \n",
              "1  M2044282225             0.0             0.0        0               0  \n",
              "2   C553264065             0.0             0.0        1               0  \n",
              "3    C38997010         21182.0             0.0        1               0  \n",
              "4  M1230701703             0.0             0.0        0               0  "
            ]
          },
          "execution_count": 4,
          "metadata": {},
          "output_type": "execute_result"
        }
      ],
      "source": [
        "df1.head()"
      ]
    },
    {
      "cell_type": "code",
      "execution_count": 5,
      "metadata": {
        "ExecuteTime": {
          "end_time": "2021-01-11T18:47:37.491715Z",
          "start_time": "2021-01-11T18:47:37.476639Z"
        },
        "colab": {
          "base_uri": "https://localhost:8080/",
          "height": 206
        },
        "hidden": true,
        "id": "qzOj2z3a0uMC",
        "outputId": "4f9dcef4-48b3-4fb4-f86c-f5575afe5246"
      },
      "outputs": [
        {
          "data": {
            "text/html": [
              "<div>\n",
              "<style scoped>\n",
              "    .dataframe tbody tr th:only-of-type {\n",
              "        vertical-align: middle;\n",
              "    }\n",
              "\n",
              "    .dataframe tbody tr th {\n",
              "        vertical-align: top;\n",
              "    }\n",
              "\n",
              "    .dataframe thead th {\n",
              "        text-align: right;\n",
              "    }\n",
              "</style>\n",
              "<table border=\"1\" class=\"dataframe\">\n",
              "  <thead>\n",
              "    <tr style=\"text-align: right;\">\n",
              "      <th></th>\n",
              "      <th>step</th>\n",
              "      <th>type</th>\n",
              "      <th>amount</th>\n",
              "      <th>nameOrig</th>\n",
              "      <th>oldbalanceOrg</th>\n",
              "      <th>newbalanceOrig</th>\n",
              "      <th>nameDest</th>\n",
              "      <th>oldbalanceDest</th>\n",
              "      <th>newbalanceDest</th>\n",
              "      <th>isFraud</th>\n",
              "      <th>isFlaggedFraud</th>\n",
              "    </tr>\n",
              "  </thead>\n",
              "  <tbody>\n",
              "    <tr>\n",
              "      <th>6362615</th>\n",
              "      <td>743</td>\n",
              "      <td>CASH_OUT</td>\n",
              "      <td>339682.13</td>\n",
              "      <td>C786484425</td>\n",
              "      <td>339682.13</td>\n",
              "      <td>0.0</td>\n",
              "      <td>C776919290</td>\n",
              "      <td>0.00</td>\n",
              "      <td>339682.13</td>\n",
              "      <td>1</td>\n",
              "      <td>0</td>\n",
              "    </tr>\n",
              "    <tr>\n",
              "      <th>6362616</th>\n",
              "      <td>743</td>\n",
              "      <td>TRANSFER</td>\n",
              "      <td>6311409.28</td>\n",
              "      <td>C1529008245</td>\n",
              "      <td>6311409.28</td>\n",
              "      <td>0.0</td>\n",
              "      <td>C1881841831</td>\n",
              "      <td>0.00</td>\n",
              "      <td>0.00</td>\n",
              "      <td>1</td>\n",
              "      <td>0</td>\n",
              "    </tr>\n",
              "    <tr>\n",
              "      <th>6362617</th>\n",
              "      <td>743</td>\n",
              "      <td>CASH_OUT</td>\n",
              "      <td>6311409.28</td>\n",
              "      <td>C1162922333</td>\n",
              "      <td>6311409.28</td>\n",
              "      <td>0.0</td>\n",
              "      <td>C1365125890</td>\n",
              "      <td>68488.84</td>\n",
              "      <td>6379898.11</td>\n",
              "      <td>1</td>\n",
              "      <td>0</td>\n",
              "    </tr>\n",
              "    <tr>\n",
              "      <th>6362618</th>\n",
              "      <td>743</td>\n",
              "      <td>TRANSFER</td>\n",
              "      <td>850002.52</td>\n",
              "      <td>C1685995037</td>\n",
              "      <td>850002.52</td>\n",
              "      <td>0.0</td>\n",
              "      <td>C2080388513</td>\n",
              "      <td>0.00</td>\n",
              "      <td>0.00</td>\n",
              "      <td>1</td>\n",
              "      <td>0</td>\n",
              "    </tr>\n",
              "    <tr>\n",
              "      <th>6362619</th>\n",
              "      <td>743</td>\n",
              "      <td>CASH_OUT</td>\n",
              "      <td>850002.52</td>\n",
              "      <td>C1280323807</td>\n",
              "      <td>850002.52</td>\n",
              "      <td>0.0</td>\n",
              "      <td>C873221189</td>\n",
              "      <td>6510099.11</td>\n",
              "      <td>7360101.63</td>\n",
              "      <td>1</td>\n",
              "      <td>0</td>\n",
              "    </tr>\n",
              "  </tbody>\n",
              "</table>\n",
              "</div>"
            ],
            "text/plain": [
              "         step      type      amount     nameOrig  oldbalanceOrg  \\\n",
              "6362615   743  CASH_OUT   339682.13   C786484425      339682.13   \n",
              "6362616   743  TRANSFER  6311409.28  C1529008245     6311409.28   \n",
              "6362617   743  CASH_OUT  6311409.28  C1162922333     6311409.28   \n",
              "6362618   743  TRANSFER   850002.52  C1685995037      850002.52   \n",
              "6362619   743  CASH_OUT   850002.52  C1280323807      850002.52   \n",
              "\n",
              "         newbalanceOrig     nameDest  oldbalanceDest  newbalanceDest  isFraud  \\\n",
              "6362615             0.0   C776919290            0.00       339682.13        1   \n",
              "6362616             0.0  C1881841831            0.00            0.00        1   \n",
              "6362617             0.0  C1365125890        68488.84      6379898.11        1   \n",
              "6362618             0.0  C2080388513            0.00            0.00        1   \n",
              "6362619             0.0   C873221189      6510099.11      7360101.63        1   \n",
              "\n",
              "    .colab-df-convert:hover {\n",
              "      background-color: #E2EBFA;\n",
              "      box-shadow: 0px 1px 2px rgba(60, 64, 67, 0.3), 0px 1px 3px 1px rgba(60, 64, 67, 0.15);\n",
              "      fill: #174EA6;\n",
              "    }\n",
              "\n",
              "    [theme=dark] .colab-df-convert {\n",
              "      background-color: #3B4455;\n",
              "      fill: #D2E3FC;\n",
              "    }\n",
              "\n",
              "    [theme=dark] .colab-df-convert:hover {\n",
              "      background-color: #434B5C;\n",
              "      box-shadow: 0px 1px 3px 1px rgba(0, 0, 0, 0.15);\n",
              "      filter: drop-shadow(0px 1px 2px rgba(0, 0, 0, 0.3));\n",
              "      fill: #FFFFFF;\n",
              "    }\n",
              "  </style>\n",
              "\n",
              "      <script>\n",
              "        const buttonEl =\n",
              "          document.querySelector('#df-104c6b4a-916a-4c35-92e3-2641fa835041 button.colab-df-convert');\n",
              "        buttonEl.style.display =\n",
              "          google.colab.kernel.accessAllowed ? 'block' : 'none';\n",
              "\n",
              "        async function convertToInteractive(key) {\n",
              "          const element = document.querySelector('#df-104c6b4a-916a-4c35-92e3-2641fa835041');\n",
              "          const dataTable =\n",
              "            await google.colab.kernel.invokeFunction('convertToInteractive',\n",
              "                                                     [key], {});\n",
              "          if (!dataTable) return;\n",
              "\n",
              "          const docLinkHtml = 'Like what you see? Visit the ' +\n",
              "            '<a target=\"_blank\" href=https://colab.research.google.com/notebooks/data_table.ipynb>data table notebook</a>'\n",
              "            + ' to learn more about interactive tables.';\n",
              "          element.innerHTML = '';\n",
              "          dataTable['output_type'] = 'display_data';\n",
              "          await google.colab.output.renderOutput(dataTable, element);\n",
              "          const docLink = document.createElement('div');\n",
              "          docLink.innerHTML = docLinkHtml;\n",
              "          element.appendChild(docLink);\n",
              "        }\n",
              "      </script>\n",
              "    </div>\n",
              "  </div>\n",
              "  "
            ],
            "text/plain": [
              "        step      type     amount     nameOrig  oldbalanceOrg  newbalanceOrig  \\\n",
              "636257   351  CASH_OUT   28761.10   C742050657            0.0            0.00   \n",
              "636258   184  CASH_OUT  167820.71   C561181412        62265.0            0.00   \n",
              "636259    35   PAYMENT    8898.12  C1773417333        30808.0        21909.88   \n",
              "636260   277  CASH_OUT  176147.90  C1423233247        83669.0            0.00   \n",
              "636261   304  CASH_OUT   95142.89   C874575079            0.0            0.00   \n",
              "\n",
              "           nameDest  oldbalanceDest  newbalanceDest  isFraud  isFlaggedFraud  \n",
              "636257   C568407561       328534.52       357295.62        0               0  \n",
              "636258  C1852953580       106429.48       274250.18        0               0  \n",
              "636259   M445701551            0.00            0.00        0               0  \n",
              "636260  C1328739120            0.00       176147.90        0               0  \n",
              "636261   C666451134       431380.07       526522.96        0               0  "
            ]
          },
          "execution_count": 454,
              "         isFlaggedFraud  \n",
              "6362615               0  \n",
              "6362616               0  \n",
              "6362617               0  \n",
              "6362618               0  \n",
              "6362619               0  "
            ]
          },
          "execution_count": 5,
          "metadata": {},
          "output_type": "execute_result"
        }
      ],
      "source": [
        "df1.tail()"
      ]
    },
    {
      "cell_type": "markdown",
      "metadata": {
        "hidden": true,
        "id": "QjSZpios0uMC"
      },
      "source": [
        "## 1.2 Columns"
      ]
    },
    {
      "cell_type": "markdown",
      "metadata": {
        "hidden": true,
        "id": "GmYeyOuJ0uMD"
      },
      "source": [
        "### 1.2.1 Column Descriptions"
      ]
    },
    {
      "cell_type": "markdown",
      "metadata": {
        "hidden": true,
        "id": "FfR-lfkU0uMD"
      },
      "source": [
        "**step:** maps a unit of time in the real world. In this case 1 step is 1 hour of time. Total steps 744 (30 days simulation).\n",
        "\n",
        "**type:** CASH-IN, CASH-OUT, DEBIT, PAYMENT and TRANSFER.\n",
        "\n",
        "**amount:** amount of the transaction in local currency.\n",
        "\n",
        "**nameOrig:** customer who started the transaction\n",
        "\n",
        "**oldbalanceOrg:** initial balance before the transaction\n",
        "\n",
        "**newbalanceOrig:** new balance after the transaction\n",
        "\n",
        "**nameDest:** customer who is the recipient of the transaction\n",
        "\n",
        "**oldbalanceDest:** initial balance recipient before the transaction. Note that there is not information for customers that start with M (Merchants).\n",
        "\n",
        "**newbalanceDest:** new balance recipient after the transaction. Note that there is not information for customers that start with M (Merchants).\n",
        "\n",
        "**isFraud:** This is the transactions made by the fraudulent agents inside the simulation. In this specific dataset the fraudulent behavior of the agents aims to profit by taking control or customers accounts and try to empty the funds by transferring to another account and then cashing out of the system.\n",
        "\n",
        "**isFlaggedFraud:** The business model aims to control massive transfers from one account to another and flags illegal attempts. An illegal attempt in this dataset is an attempt to transfer more than 200.000 in a single transaction."
      ]
    },
    {
      "cell_type": "markdown",
      "metadata": {
        "ExecuteTime": {
          "end_time": "2020-12-12T21:31:42.617142Z",
          "start_time": "2020-12-12T21:31:42.609502Z"
        },
        "hidden": true,
        "id": "aiVPKeRv0uMD"
      },
      "source": [
        "### 1.2.2 Column Rename"
      ]
    },
    {
      "cell_type": "code",
      "execution_count": 6,
      "metadata": {
        "ExecuteTime": {
          "end_time": "2021-01-11T18:47:37.498900Z",
          "start_time": "2021-01-11T18:47:37.494994Z"
        },
        "hidden": true,
        "id": "fDXGUnyd0uMD"
      },
      "outputs": [],
      "source": [
        "cols_old = df1.columns.tolist()\n",
        "\n",
        "snakecase = lambda x: inflection.underscore(x)\n",
        "cols_new = list(map(snakecase, cols_old))\n",
        "\n",
        "df1.columns = cols_new"
      ]
    },
    {
      "cell_type": "code",
      "execution_count": 7,
      "metadata": {
        "ExecuteTime": {
          "end_time": "2021-01-11T18:47:37.505663Z",
          "start_time": "2021-01-11T18:47:37.501235Z"
        },
        "colab": {
          "base_uri": "https://localhost:8080/"
        },
        "hidden": true,
        "id": "8dRkCe3n0uMD",
        "outputId": "ce1fb6d4-b60d-4246-a976-43848da4b3f7"
      },
      "outputs": [
        {
          "data": {
            "text/plain": [
              "Index(['step', 'type', 'amount', 'name_orig', 'oldbalance_org',\n",
              "       'newbalance_orig', 'name_dest', 'oldbalance_dest', 'newbalance_dest',\n",
              "       'is_fraud', 'is_flagged_fraud'],\n",
              "      dtype='object')"
            ]
          },
          "execution_count": 7,
          "metadata": {},
          "output_type": "execute_result"
        }
      ],
      "source": [
        "df1.columns"
      ]
    },
    {
      "cell_type": "markdown",
      "metadata": {
        "hidden": true,
        "id": "VPhzQ0100uMD"
      },
      "source": [
        "## 1.3 Data Dimension"
      ]
    },
    {
      "cell_type": "code",
      "execution_count": 8,
      "metadata": {
        "ExecuteTime": {
          "end_time": "2021-01-11T18:47:37.851622Z",
          "start_time": "2021-01-11T18:47:37.847980Z"
        },
        "colab": {
          "base_uri": "https://localhost:8080/"
        },
        "hidden": true,
        "id": "UEtefaFE0uMD",
        "outputId": "669ae2c2-910c-4849-ea08-41b85742aff2"
      },
      "outputs": [
        {
          "name": "stdout",
          "output_type": "stream",
          "text": [
            "Number of Rows: 6362620\n",
            "Number of Cols: 11\n"
          ]
        }
      ],
      "source": [
        "print('Number of Rows: {}'.format(df1.shape[0]))\n",
        "print('Number of Cols: {}'.format(df1.shape[1]))"
      ]
    },
    {
      "cell_type": "markdown",
      "metadata": {
        "hidden": true,
        "id": "erlsTmpG0uME"
      },
      "source": [
        "## 1.4 Data Types and Structure"
      ]
    },
    {
      "cell_type": "code",
      "execution_count": 9,
      "metadata": {
        "ExecuteTime": {
          "end_time": "2021-01-11T18:47:38.334664Z",
          "start_time": "2021-01-11T18:47:38.201896Z"
        },
        "colab": {
          "base_uri": "https://localhost:8080/"
        },
        "hidden": true,
        "id": "FcbiX49F0uME",
        "outputId": "8635f179-a949-46b7-a221-d03d1569b7c0"
      },
      "outputs": [
        {
          "name": "stdout",
          "output_type": "stream",
          "text": [
            "<class 'pandas.core.frame.DataFrame'>\n",
            "RangeIndex: 6362620 entries, 0 to 6362619\n",
            "Data columns (total 11 columns):\n",
            " #   Column            Dtype  \n",
            "---  ------            -----  \n",
            " 0   step              int64  \n",
            " 1   type              object \n",
            " 2   amount            float64\n",
            " 3   name_orig         object \n",
            " 4   oldbalance_org    float64\n",
            " 5   newbalance_orig   float64\n",
            " 6   name_dest         object \n",
            " 7   oldbalance_dest   float64\n",
            " 8   newbalance_dest   float64\n",
            " 9   is_fraud          int64  \n",
            " 10  is_flagged_fraud  int64  \n",
            "dtypes: float64(5), int64(3), object(3)\n",
            "memory usage: 534.0+ MB\n"
          ]
        }
      ],
      "source": [
        "df1.info()"
      ]
    },
    {
      "cell_type": "markdown",
      "metadata": {
        "hidden": true,
        "id": "ItTwEqoC0uME"
      },
      "source": [
        "## 1.5 Check NA"
      ]
    },
    {
      "cell_type": "code",
      "execution_count": 10,
      "metadata": {
        "ExecuteTime": {
          "end_time": "2021-01-11T18:47:38.655459Z",
          "start_time": "2021-01-11T18:47:38.542451Z"
        },
        "colab": {
          "base_uri": "https://localhost:8080/"
        },
        "hidden": true,
        "id": "DU9TFkLv0uME",
        "outputId": "369ba539-001e-4f8b-8446-cfc2aaa2c294"
      },
      "outputs": [
        {
          "data": {
            "text/plain": [
              "step                0.0\n",
              "type                0.0\n",
              "amount              0.0\n",
              "name_orig           0.0\n",
              "oldbalance_org      0.0\n",
              "newbalance_orig     0.0\n",
              "name_dest           0.0\n",
              "oldbalance_dest     0.0\n",
              "newbalance_dest     0.0\n",
              "is_fraud            0.0\n",
              "is_flagged_fraud    0.0\n",
              "dtype: float64"
            ]
          },
          "execution_count": 10,
          "metadata": {},
          "output_type": "execute_result"
        }
      ],
      "source": [
        "df1.isna().mean()"
      ]
    },
    {
      "cell_type": "markdown",
      "metadata": {
        "heading_collapsed": true,
        "id": "l69HCOHb0uML"
      },
      "source": [
        "# 2.0 Exploratory Data Analisys"
      ]
    },
    {
      "cell_type": "code",
      "execution_count": 11,
      "metadata": {
        "ExecuteTime": {
          "end_time": "2021-01-11T18:47:45.536329Z",
          "start_time": "2021-01-11T18:47:45.479614Z"
        },
        "hidden": true,
        "id": "JjL-o0xn0uML"
      },
      "outputs": [],
      "source": [
        "df2 = df1.copy()"
      ]
    },
    {
      "cell_type": "markdown",
      "metadata": {
        "id": "zVdCQfAd-QPj"
      },
      "source": [
        "Highly imbalanced dataset"
      ]
    },
    {
      "cell_type": "code",
      "execution_count": 12,
      "metadata": {
        "ExecuteTime": {
          "end_time": "2021-01-11T18:47:46.652434Z",
          "start_time": "2021-01-11T18:47:46.010096Z"
        },
        "colab": {
          "base_uri": "https://localhost:8080/",
          "height": 449
        },
        "hidden": true,
        "id": "lcJrKFvh0uML",
        "outputId": "31906571-a26a-43d7-c0bc-40373dff28e9"
      },
      "outputs": [
        {
          "data": {
<<<<<<< HEAD
            "image/png": "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",
=======
            "image/png": "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",
>>>>>>> flask
            "text/plain": [
              "<Figure size 640x480 with 1 Axes>"
            ]
          },
          "metadata": {},
          "output_type": "display_data"
        }
      ],
      "source": [
        "ax = sns.countplot(y='is_fraud', data=df2);\n",
        "total = df2['is_fraud'].size\n",
        "for p in ax.patches:\n",
        "        percentage = ' {:.1f}%'.format(100 * p.get_width()/total)\n",
        "        x = p.get_x() + p.get_width() + 0.02\n",
        "        y = p.get_y() + p.get_height()/2\n",
        "        ax.annotate(percentage, (x, y))"
      ]
    },
    {
      "cell_type": "code",
<<<<<<< HEAD
      "execution_count": null,
=======
      "execution_count": 13,
>>>>>>> flask
      "metadata": {
        "colab": {
          "base_uri": "https://localhost:8080/",
          "height": 413
        },
        "id": "SmxctLV4Vt1_",
        "outputId": "73483688-f09d-4bf7-da3e-4790a7a8cc72"
      },
      "outputs": [
        {
          "data": {
<<<<<<< HEAD
            "image/png": "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",
=======
            "image/png": "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",
>>>>>>> flask
            "text/plain": [
              "<Figure size 640x480 with 1 Axes>"
            ]
          },
          "metadata": {},
          "output_type": "display_data"
        }
      ],
      "source": [
        "labels = df2['type'].astype('category').cat.categories.tolist()\n",
        "counts = df2['type'].value_counts()\n",
        "sizes = [counts[var_cat] for var_cat in labels]\n",
        "fig1, ax1 = plt.subplots()\n",
        "ax1.pie(sizes, labels=labels, autopct='%1.1f%%', shadow=True) #autopct is show the % on plot\n",
        "ax1.axis('equal')\n",
        "plt.show()"
      ]
    },
    {
      "cell_type": "code",
<<<<<<< HEAD
      "execution_count": null,
=======
      "execution_count": 14,
>>>>>>> flask
      "metadata": {
        "colab": {
          "base_uri": "https://localhost:8080/",
          "height": 449
        },
        "id": "dETje-aiy3uT",
        "outputId": "85e35468-3d9f-4462-8f44-0033d599097a"
      },
      "outputs": [
        {
          "data": {
<<<<<<< HEAD
            "image/png": "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",
=======
            "image/png": "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",
>>>>>>> flask
            "text/plain": [
              "<Figure size 640x480 with 1 Axes>"
            ]
          },
          "metadata": {},
          "output_type": "display_data"
        }
      ],
      "source": [
        "\n",
<<<<<<< HEAD
        "ax = sns.countplot(y='type', hue='is_fraud', data=df3)\n",
=======
        "ax = sns.countplot(y='type', hue='is_fraud', data=df2)\n",
>>>>>>> flask
        "\n",
        "total = df2['type'].size\n",
        "for p in ax.patches:\n",
        "        percentage = ' {:.1f}%'.format(100 * p.get_width()/total)\n",
        "        x = p.get_x() + p.get_width() + 0.02\n",
        "        y = p.get_y() + p.get_height()/2\n",
        "        ax.annotate(percentage, (x, y))\n",
        "\n"
      ]
    },
    {
      "cell_type": "markdown",
      "metadata": {
        "id": "bnpvgRfLzA5k"
      },
      "source": [
        "Fraud Transactions in CASH_OUT and TRANSFER only"
      ]
    },
    {
      "cell_type": "code",
<<<<<<< HEAD
      "execution_count": null,
=======
      "execution_count": 15,
>>>>>>> flask
      "metadata": {
        "colab": {
          "base_uri": "https://localhost:8080/"
        },
        "id": "bLTe6qvY0CyU",
        "outputId": "5afe0518-f641-4efb-915f-dfc94a1de07b"
      },
      "outputs": [
        {
          "name": "stdout",
          "output_type": "stream",
          "text": [
            "\n",
<<<<<<< HEAD
            " The types of fraudulent transactions are ['CASH_OUT', 'TRANSFER']\n",
            "\n",
            " The number of fraudulent TRANSFERs = 414\n",
            "\n",
            " The number of fraudulent CASH_OUTs = 407\n"
=======
            " The types of fraudulent transactions are ['TRANSFER', 'CASH_OUT']\n",
            "\n",
            " The number of fraudulent TRANSFERs = 4097\n",
            "\n",
            " The number of fraudulent CASH_OUTs = 4116\n"
>>>>>>> flask
          ]
        }
      ],
      "source": [
        "print('\\n The types of fraudulent transactions are {}'.format(\\\n",
        "list(df2.loc[df2.is_fraud == 1].type.drop_duplicates().values))) # only 'CASH_OUT'\n",
        "                                                             # & 'TRANSFER'\n",
        "\n",
        "dfFraudTransfer = df2.loc[(df2.is_fraud == 1) & (df2.type == 'TRANSFER')]\n",
        "dfFraudCashout = df2.loc[(df2.is_fraud == 1) & (df2.type == 'CASH_OUT')]\n",
        "\n",
        "print ('\\n The number of fraudulent TRANSFERs = {}'.\\\n",
        "       format(len(dfFraudTransfer)))\n",
        "\n",
        "print ('\\n The number of fraudulent CASH_OUTs = {}'.\\\n",
        "       format(len(dfFraudCashout)))"
      ]
    },
    {
      "cell_type": "markdown",
      "metadata": {
        "id": "yUVCkEHY-Vpc"
      },
      "source": [
        "\n",
        "\n",
        "The data has several transactions with zero balances in the destination account both before and after a non-zero amount is transacted. The fraction of such transactions, where zero likely denotes a missing value, is much larger in fraudulent (50%) compared to genuine transactions"
      ]
    },
    {
      "cell_type": "code",
<<<<<<< HEAD
      "execution_count": null,
=======
      "execution_count": 16,
>>>>>>> flask
      "metadata": {
        "colab": {
          "base_uri": "https://localhost:8080/"
        },
        "id": "XiwpcUqQ0zw0",
        "outputId": "ff46712b-ad3a-47a9-cb2c-fc25761210ef"
      },
      "outputs": [
        {
          "name": "stdout",
          "output_type": "stream",
          "text": [
            "\n",
            "The fraction of fraudulent transactions with 'oldbalance_dest' = 'newbalance_dest' = 0 although the transacted 'amount' is non-zero is: 0.4955558261293072\n"
          ]
        }
      ],
      "source": [
        "X_fraud = df2.loc[df2.is_fraud == 1]\n",
        "Xnon_fraud = df2.loc[df2.is_fraud == 0]\n",
        "print('\\nThe fraction of fraudulent transactions with \\'oldbalance_dest\\' = \\\n",
        "\\'newbalance_dest\\' = 0 although the transacted \\'amount\\' is non-zero is: {}'.\\\n",
        "format(len(X_fraud.loc[(X_fraud.oldbalance_dest == 0) & \\\n",
        "(X_fraud.newbalance_dest == 0) & (X_fraud.amount)]) / (1.0 * len(X_fraud))))\n"
      ]
    },
    {
      "cell_type": "markdown",
      "metadata": {
        "heading_collapsed": true,
        "id": "UVjM8Y_Q0uMH"
      },
      "source": [
        "# 3.0 Feature Engineering"
      ]
    },
    {
      "cell_type": "code",
      "execution_count": 17,
      "metadata": {
        "ExecuteTime": {
          "end_time": "2021-01-11T18:47:42.876765Z",
          "start_time": "2021-01-11T18:47:42.823469Z"
        },
        "hidden": true,
        "id": "USsUvfgh0uMH"
      },
      "outputs": [],
      "source": [
        "df3 = df2.copy()"
      ]
    },
    {
      "cell_type": "code",
      "execution_count": 18,
      "metadata": {
        "ExecuteTime": {
          "end_time": "2021-01-11T18:47:44.922596Z",
          "start_time": "2021-01-11T18:47:43.999043Z"
        },
        "colab": {
          "base_uri": "https://localhost:8080/",
          "height": 488
        },
        "hidden": true,
        "id": "rXMN50yM0uMK",
        "outputId": "8a77210c-4efe-4475-d5c2-77f83b29c958"
      },
      "outputs": [
        {
          "data": {
            "text/html": [
              "<div>\n",
              "<style scoped>\n",
              "    .dataframe tbody tr th:only-of-type {\n",
              "        vertical-align: middle;\n",
              "    }\n",
              "\n",
              "    .dataframe tbody tr th {\n",
              "        vertical-align: top;\n",
              "    }\n",
              "\n",
              "    .dataframe thead th {\n",
              "        text-align: right;\n",
              "    }\n",
              "</style>\n",
              "<table border=\"1\" class=\"dataframe\">\n",
              "  <thead>\n",
              "    <tr style=\"text-align: right;\">\n",
              "      <th></th>\n",
              "      <th>step</th>\n",
              "      <th>type</th>\n",
              "      <th>amount</th>\n",
              "      <th>name_orig</th>\n",
              "      <th>oldbalance_org</th>\n",
              "      <th>newbalance_orig</th>\n",
              "      <th>name_dest</th>\n",
              "      <th>oldbalance_dest</th>\n",
              "      <th>newbalance_dest</th>\n",
              "      <th>is_fraud</th>\n",
              "      <th>is_flagged_fraud</th>\n",
              "      <th>step_days</th>\n",
              "      <th>step_weeks</th>\n",
              "      <th>diff_new_old_balance</th>\n",
              "      <th>diff_new_old_destiny</th>\n",
              "    </tr>\n",
              "  </thead>\n",
              "  <tbody>\n",
              "    <tr>\n",
              "      <th>0</th>\n",
              "      <td>1</td>\n",
              "      <td>PAYMENT</td>\n",
              "      <td>9839.64</td>\n",
              "      <td>C</td>\n",
              "      <td>170136.00</td>\n",
              "      <td>160296.36</td>\n",
              "      <td>M</td>\n",
              "      <td>0.00</td>\n",
              "      <td>0.00</td>\n",
              "      <td>0</td>\n",
              "      <td>0</td>\n",
              "      <td>0.041667</td>\n",
              "      <td>0.005952</td>\n",
              "      <td>-9839.64</td>\n",
              "      <td>0.00</td>\n",
              "    </tr>\n",
              "    <tr>\n",
              "      <th>1</th>\n",
              "      <td>1</td>\n",
              "      <td>PAYMENT</td>\n",
              "      <td>1864.28</td>\n",
              "      <td>C</td>\n",
              "      <td>21249.00</td>\n",
              "      <td>19384.72</td>\n",
              "      <td>M</td>\n",
              "      <td>0.00</td>\n",
              "      <td>0.00</td>\n",
              "      <td>0</td>\n",
              "      <td>0</td>\n",
              "      <td>0.041667</td>\n",
              "      <td>0.005952</td>\n",
              "      <td>-1864.28</td>\n",
              "      <td>0.00</td>\n",
              "    </tr>\n",
              "    <tr>\n",
              "      <th>2</th>\n",
              "      <td>1</td>\n",
              "      <td>TRANSFER</td>\n",
              "      <td>181.00</td>\n",
              "      <td>C</td>\n",
              "      <td>181.00</td>\n",
              "      <td>0.00</td>\n",
              "      <td>C</td>\n",
              "      <td>0.00</td>\n",
              "      <td>0.00</td>\n",
              "      <td>1</td>\n",
              "      <td>0</td>\n",
              "      <td>0.041667</td>\n",
              "      <td>0.005952</td>\n",
              "      <td>-181.00</td>\n",
              "      <td>0.00</td>\n",
              "    </tr>\n",
              "    <tr>\n",
              "      <th>3</th>\n",
              "      <td>1</td>\n",
              "      <td>CASH_OUT</td>\n",
              "      <td>181.00</td>\n",
              "      <td>C</td>\n",
              "      <td>181.00</td>\n",
              "      <td>0.00</td>\n",
              "      <td>C</td>\n",
              "      <td>21182.00</td>\n",
              "      <td>0.00</td>\n",
              "      <td>1</td>\n",
              "      <td>0</td>\n",
              "      <td>0.041667</td>\n",
              "      <td>0.005952</td>\n",
              "      <td>-181.00</td>\n",
              "      <td>-21182.00</td>\n",
              "    </tr>\n",
              "    <tr>\n",
              "      <th>4</th>\n",
              "      <td>1</td>\n",
              "      <td>PAYMENT</td>\n",
              "      <td>11668.14</td>\n",
              "      <td>C</td>\n",
              "      <td>41554.00</td>\n",
              "      <td>29885.86</td>\n",
              "      <td>M</td>\n",
              "      <td>0.00</td>\n",
              "      <td>0.00</td>\n",
              "      <td>0</td>\n",
              "      <td>0</td>\n",
              "      <td>0.041667</td>\n",
              "      <td>0.005952</td>\n",
              "      <td>-11668.14</td>\n",
              "      <td>0.00</td>\n",
              "    </tr>\n",
              "    <tr>\n",
              "      <th>...</th>\n",
              "      <td>...</td>\n",
              "      <td>...</td>\n",
              "      <td>...</td>\n",
              "      <td>...</td>\n",
              "      <td>...</td>\n",
              "      <td>...</td>\n",
              "      <td>...</td>\n",
              "      <td>...</td>\n",
              "      <td>...</td>\n",
              "      <td>...</td>\n",
              "      <td>...</td>\n",
              "      <td>...</td>\n",
              "      <td>...</td>\n",
              "      <td>...</td>\n",
              "      <td>...</td>\n",
              "    </tr>\n",
              "    <tr>\n",
              "      <th>6362615</th>\n",
              "      <td>743</td>\n",
              "      <td>CASH_OUT</td>\n",
              "      <td>339682.13</td>\n",
              "      <td>C</td>\n",
              "      <td>339682.13</td>\n",
              "      <td>0.00</td>\n",
              "      <td>C</td>\n",
              "      <td>0.00</td>\n",
              "      <td>339682.13</td>\n",
              "      <td>1</td>\n",
              "      <td>0</td>\n",
              "      <td>30.958333</td>\n",
              "      <td>4.422619</td>\n",
              "      <td>-339682.13</td>\n",
              "      <td>339682.13</td>\n",
              "    </tr>\n",
              "    <tr>\n",
              "      <th>6362616</th>\n",
              "      <td>743</td>\n",
              "      <td>TRANSFER</td>\n",
              "      <td>6311409.28</td>\n",
              "      <td>C</td>\n",
              "      <td>6311409.28</td>\n",
              "      <td>0.00</td>\n",
              "      <td>C</td>\n",
              "      <td>0.00</td>\n",
              "      <td>0.00</td>\n",
              "      <td>1</td>\n",
              "      <td>0</td>\n",
              "      <td>30.958333</td>\n",
              "      <td>4.422619</td>\n",
              "      <td>-6311409.28</td>\n",
              "      <td>0.00</td>\n",
              "    </tr>\n",
              "    <tr>\n",
              "      <th>6362617</th>\n",
              "      <td>743</td>\n",
              "      <td>CASH_OUT</td>\n",
              "      <td>6311409.28</td>\n",
              "      <td>C</td>\n",
              "      <td>6311409.28</td>\n",
              "      <td>0.00</td>\n",
              "      <td>C</td>\n",
              "      <td>68488.84</td>\n",
              "      <td>6379898.11</td>\n",
              "      <td>1</td>\n",
              "      <td>0</td>\n",
              "      <td>30.958333</td>\n",
              "      <td>4.422619</td>\n",
              "      <td>-6311409.28</td>\n",
              "      <td>6311409.27</td>\n",
              "    </tr>\n",
              "    <tr>\n",
              "      <th>6362618</th>\n",
              "      <td>743</td>\n",
              "      <td>TRANSFER</td>\n",
              "      <td>850002.52</td>\n",
              "      <td>C</td>\n",
              "      <td>850002.52</td>\n",
              "      <td>0.00</td>\n",
              "      <td>C</td>\n",
              "      <td>0.00</td>\n",
              "      <td>0.00</td>\n",
              "      <td>1</td>\n",
              "      <td>0</td>\n",
              "      <td>30.958333</td>\n",
              "      <td>4.422619</td>\n",
              "      <td>-850002.52</td>\n",
              "      <td>0.00</td>\n",
              "    </tr>\n",
              "    <tr>\n",
              "      <th>6362619</th>\n",
              "      <td>743</td>\n",
              "      <td>CASH_OUT</td>\n",
              "      <td>850002.52</td>\n",
              "      <td>C</td>\n",
              "      <td>850002.52</td>\n",
              "      <td>0.00</td>\n",
              "      <td>C</td>\n",
              "      <td>6510099.11</td>\n",
              "      <td>7360101.63</td>\n",
              "      <td>1</td>\n",
              "      <td>0</td>\n",
              "      <td>30.958333</td>\n",
              "      <td>4.422619</td>\n",
              "      <td>-850002.52</td>\n",
              "      <td>850002.52</td>\n",
              "    </tr>\n",
              "  </tbody>\n",
              "</table>\n",
              "<p>6362620 rows × 15 columns</p>\n",
              "</div>"
            ],
            "text/plain": [
              "         step      type      amount name_orig  oldbalance_org  \\\n",
              "0           1   PAYMENT     9839.64         C       170136.00   \n",
              "1           1   PAYMENT     1864.28         C        21249.00   \n",
              "2           1  TRANSFER      181.00         C          181.00   \n",
              "3           1  CASH_OUT      181.00         C          181.00   \n",
              "4           1   PAYMENT    11668.14         C        41554.00   \n",
              "...       ...       ...         ...       ...             ...   \n",
              "6362615   743  CASH_OUT   339682.13         C       339682.13   \n",
              "6362616   743  TRANSFER  6311409.28         C      6311409.28   \n",
              "6362617   743  CASH_OUT  6311409.28         C      6311409.28   \n",
              "6362618   743  TRANSFER   850002.52         C       850002.52   \n",
              "6362619   743  CASH_OUT   850002.52         C       850002.52   \n",
              "\n",
              "         newbalance_orig name_dest  oldbalance_dest  newbalance_dest  \\\n",
              "0              160296.36         M             0.00             0.00   \n",
              "1               19384.72         M             0.00             0.00   \n",
              "2                   0.00         C             0.00             0.00   \n",
              "3                   0.00         C         21182.00             0.00   \n",
              "4               29885.86         M             0.00             0.00   \n",
              "...                  ...       ...              ...              ...   \n",
              "6362615             0.00         C             0.00        339682.13   \n",
              "6362616             0.00         C             0.00             0.00   \n",
              "6362617             0.00         C         68488.84       6379898.11   \n",
              "6362618             0.00         C             0.00             0.00   \n",
              "6362619             0.00         C       6510099.11       7360101.63   \n",
              "\n",
              "         is_fraud  is_flagged_fraud  step_days  step_weeks  \\\n",
              "0               0                 0   0.041667    0.005952   \n",
              "1               0                 0   0.041667    0.005952   \n",
              "2               1                 0   0.041667    0.005952   \n",
              "3               1                 0   0.041667    0.005952   \n",
              "4               0                 0   0.041667    0.005952   \n",
              "...           ...               ...        ...         ...   \n",
              "6362615         1                 0  30.958333    4.422619   \n",
              "6362616         1                 0  30.958333    4.422619   \n",
              "6362617         1                 0  30.958333    4.422619   \n",
              "6362618         1                 0  30.958333    4.422619   \n",
              "6362619         1                 0  30.958333    4.422619   \n",
              "\n",
              "         diff_new_old_balance  diff_new_old_destiny  \n",
              "0                    -9839.64                  0.00  \n",
              "1                    -1864.28                  0.00  \n",
              "2                     -181.00                  0.00  \n",
              "3                     -181.00             -21182.00  \n",
              "4                   -11668.14                  0.00  \n",
              "...                       ...                   ...  \n",
              "6362615            -339682.13             339682.13  \n",
              "6362616           -6311409.28                  0.00  \n",
              "6362617           -6311409.28            6311409.27  \n",
              "6362618            -850002.52                  0.00  \n",
              "6362619            -850002.52             850002.52  \n",
              "\n",
<<<<<<< HEAD
              "    [theme=dark] .colab-df-convert:hover {\n",
              "      background-color: #434B5C;\n",
              "      box-shadow: 0px 1px 3px 1px rgba(0, 0, 0, 0.15);\n",
              "      filter: drop-shadow(0px 1px 2px rgba(0, 0, 0, 0.3));\n",
              "      fill: #FFFFFF;\n",
              "    }\n",
              "  </style>\n",
              "\n",
              "      <script>\n",
              "        const buttonEl =\n",
              "          document.querySelector('#df-c284c553-5fb9-4d32-b981-d0290189476e button.colab-df-convert');\n",
              "        buttonEl.style.display =\n",
              "          google.colab.kernel.accessAllowed ? 'block' : 'none';\n",
              "\n",
              "        async function convertToInteractive(key) {\n",
              "          const element = document.querySelector('#df-c284c553-5fb9-4d32-b981-d0290189476e');\n",
              "          const dataTable =\n",
              "            await google.colab.kernel.invokeFunction('convertToInteractive',\n",
              "                                                     [key], {});\n",
              "          if (!dataTable) return;\n",
              "\n",
              "          const docLinkHtml = 'Like what you see? Visit the ' +\n",
              "            '<a target=\"_blank\" href=https://colab.research.google.com/notebooks/data_table.ipynb>data table notebook</a>'\n",
              "            + ' to learn more about interactive tables.';\n",
              "          element.innerHTML = '';\n",
              "          dataTable['output_type'] = 'display_data';\n",
              "          await google.colab.output.renderOutput(dataTable, element);\n",
              "          const docLink = document.createElement('div');\n",
              "          docLink.innerHTML = docLinkHtml;\n",
              "          element.appendChild(docLink);\n",
              "        }\n",
              "      </script>\n",
              "    </div>\n",
              "  </div>\n",
              "  "
            ],
            "text/plain": [
              "        step      type     amount name_orig  oldbalance_org  newbalance_orig  \\\n",
              "0        283   CASH_IN  210329.84         C      3778062.79       3988392.64   \n",
              "1        132  CASH_OUT  215489.19         C        21518.00             0.00   \n",
              "2        355     DEBIT    4431.05         C        20674.00         16242.95   \n",
              "3        135  CASH_OUT  214026.20         C        46909.73             0.00   \n",
              "4        381  CASH_OUT    8858.45         C            0.00             0.00   \n",
              "...      ...       ...        ...       ...             ...              ...   \n",
              "636257   351  CASH_OUT   28761.10         C            0.00             0.00   \n",
              "636258   184  CASH_OUT  167820.71         C        62265.00             0.00   \n",
              "636259    35   PAYMENT    8898.12         C        30808.00         21909.88   \n",
              "636260   277  CASH_OUT  176147.90         C        83669.00             0.00   \n",
              "636261   304  CASH_OUT   95142.89         C            0.00             0.00   \n",
              "\n",
              "       name_dest  oldbalance_dest  newbalance_dest  is_fraud  \\\n",
              "0              C       1519266.60       1308936.76         0   \n",
              "1              C       6345756.55       6794954.89         0   \n",
              "2              C         80876.56         85307.61         0   \n",
              "3              C      13467450.36      13681476.56         0   \n",
              "4              C       1667180.58       1676039.03         0   \n",
              "...          ...              ...              ...       ...   \n",
              "636257         C        328534.52        357295.62         0   \n",
              "636258         C        106429.48        274250.18         0   \n",
              "636259         M             0.00             0.00         0   \n",
              "636260         C             0.00        176147.90         0   \n",
              "636261         C        431380.07        526522.96         0   \n",
              "\n",
              "        is_flagged_fraud  step_days  step_weeks  diff_new_old_balance  \\\n",
              "0                      0  11.791667    1.684524             210329.85   \n",
              "1                      0   5.500000    0.785714             -21518.00   \n",
              "2                      0  14.791667    2.113095              -4431.05   \n",
              "3                      0   5.625000    0.803571             -46909.73   \n",
              "4                      0  15.875000    2.267857                  0.00   \n",
              "...                  ...        ...         ...                   ...   \n",
              "636257                 0  14.625000    2.089286                  0.00   \n",
              "636258                 0   7.666667    1.095238             -62265.00   \n",
              "636259                 0   1.458333    0.208333              -8898.12   \n",
              "636260                 0  11.541667    1.648810             -83669.00   \n",
              "636261                 0  12.666667    1.809524                  0.00   \n",
              "\n",
              "        diff_new_old_destiny  \n",
              "0                 -210329.84  \n",
              "1                  449198.34  \n",
              "2                    4431.05  \n",
              "3                  214026.20  \n",
              "4                    8858.45  \n",
              "...                      ...  \n",
              "636257              28761.10  \n",
              "636258             167820.70  \n",
              "636259                  0.00  \n",
              "636260             176147.90  \n",
              "636261              95142.89  \n",
              "\n",
              "[636262 rows x 15 columns]"
            ]
          },
          "execution_count": 467,
=======
              "[6362620 rows x 15 columns]"
            ]
          },
          "execution_count": 18,
>>>>>>> flask
          "metadata": {},
          "output_type": "execute_result"
        }
      ],
      "source": [
        "# step\n",
        "df3['step_days'] = df3['step'].apply(lambda i: i/24)\n",
        "df3['step_weeks'] = df3['step'].apply(lambda i: i/(24*7))\n",
        "\n",
        "# difference between initial balance before the transaction and new balance after the transaction\n",
        "df3['diff_new_old_balance'] = df3['newbalance_orig'] - df3['oldbalance_org']\n",
        "\n",
        "# difference between initial balance recipient before the transaction and new balance recipient after the transaction.\n",
        "df3['diff_new_old_destiny'] = df3['newbalance_dest'] - df3['oldbalance_dest']\n",
        "\n",
        "# name orig and name dest\n",
        "df3['name_orig'] = df3['name_orig'].apply(lambda i: i[0])\n",
        "df3['name_dest'] = df3['name_dest'].apply(lambda i: i[0])\n",
        "df3"
      ]
    },
    {
      "cell_type": "markdown",
      "metadata": {
        "heading_collapsed": true,
        "id": "uu_x45Kq0uMQ"
      },
      "source": [
        "# 4.0 Data Preparation"
      ]
    },
    {
      "cell_type": "code",
      "execution_count": 19,
      "metadata": {
        "ExecuteTime": {
          "end_time": "2021-01-11T21:08:18.459835Z",
          "start_time": "2021-01-11T21:08:18.344976Z"
        },
        "hidden": true,
        "id": "N-1o_Srg0uMR"
      },
      "outputs": [],
      "source": [
        "df4 = df3.copy()"
      ]
    },
    {
      "cell_type": "markdown",
      "metadata": {
        "hidden": true,
        "id": "C49Fb7pe0uMR"
      },
      "source": [
        "## 4.1 Spliting into Train and Test"
      ]
    },
    {
      "cell_type": "code",
      "execution_count": 20,
      "metadata": {
        "ExecuteTime": {
          "end_time": "2021-01-11T21:08:28.207352Z",
          "start_time": "2021-01-11T21:08:28.110364Z"
        },
        "hidden": true,
        "id": "RGGDckbm0uMR"
      },
      "outputs": [],
      "source": [
        "y = df4['is_fraud']\n",
        "X = df4.drop(columns=['is_fraud', 'is_flagged_fraud', 'name_orig', 'name_dest','step_weeks', 'step_days'], axis=1)"
      ]
    },
    {
      "cell_type": "code",
      "execution_count": 21,
      "metadata": {
        "ExecuteTime": {
          "end_time": "2021-01-11T21:08:29.045814Z",
          "start_time": "2021-01-11T21:08:28.582692Z"
        },
        "hidden": true,
        "id": "hqGYWTDJ0uMR"
      },
      "outputs": [],
      "source": [
        "# spliting into temp and test\n",
        "X_train, X_test, y_train, y_test = train_test_split(X, y, test_size=.2, stratify=y)"
      ]
    },
    {
      "cell_type": "markdown",
      "metadata": {
        "hidden": true,
        "id": "r1yPGlVw0uMR"
      },
      "source": [
        "## 4.2 One Hot Encoder"
      ]
    },
    {
      "cell_type": "code",
      "execution_count": 22,
      "metadata": {
        "ExecuteTime": {
          "end_time": "2021-01-11T21:08:32.964462Z",
          "start_time": "2021-01-11T21:08:31.876822Z"
        },
        "colab": {
          "base_uri": "https://localhost:8080/",
          "height": 270
        },
        "hidden": true,
        "id": "i5lqtOne0uMS",
        "outputId": "91ca07ae-6115-4dc6-f8bb-cf418980a605"
      },
      "outputs": [
        {
          "data": {
            "text/html": [
              "<div>\n",
              "<style scoped>\n",
              "    .dataframe tbody tr th:only-of-type {\n",
              "        vertical-align: middle;\n",
              "    }\n",
              "\n",
              "    .dataframe tbody tr th {\n",
              "        vertical-align: top;\n",
              "    }\n",
              "\n",
              "    .dataframe thead th {\n",
              "        text-align: right;\n",
              "    }\n",
              "</style>\n",
              "<table border=\"1\" class=\"dataframe\">\n",
              "  <thead>\n",
              "    <tr style=\"text-align: right;\">\n",
              "      <th></th>\n",
              "      <th>step</th>\n",
              "      <th>type_PAYMENT</th>\n",
              "      <th>type_CASH_OUT</th>\n",
              "      <th>type_CASH_IN</th>\n",
              "      <th>type_TRANSFER</th>\n",
              "      <th>type_DEBIT</th>\n",
              "      <th>amount</th>\n",
              "      <th>oldbalance_org</th>\n",
              "      <th>newbalance_orig</th>\n",
              "      <th>oldbalance_dest</th>\n",
              "      <th>newbalance_dest</th>\n",
              "      <th>diff_new_old_balance</th>\n",
              "      <th>diff_new_old_destiny</th>\n",
              "    </tr>\n",
              "  </thead>\n",
              "  <tbody>\n",
              "    <tr>\n",
              "      <th>4051353</th>\n",
              "      <td>300</td>\n",
              "      <td>0</td>\n",
              "      <td>0</td>\n",
              "      <td>0</td>\n",
              "      <td>1</td>\n",
              "      <td>0</td>\n",
              "      <td>890577.21</td>\n",
              "      <td>218.00</td>\n",
              "      <td>0.00</td>\n",
              "      <td>0.00</td>\n",
              "      <td>890577.21</td>\n",
              "      <td>-218.00</td>\n",
              "      <td>890577.21</td>\n",
              "    </tr>\n",
              "    <tr>\n",
              "      <th>5746321</th>\n",
              "      <td>399</td>\n",
              "      <td>0</td>\n",
              "      <td>0</td>\n",
              "      <td>1</td>\n",
              "      <td>0</td>\n",
              "      <td>0</td>\n",
              "      <td>97734.24</td>\n",
              "      <td>2096258.84</td>\n",
              "      <td>2193993.08</td>\n",
              "      <td>320136.00</td>\n",
              "      <td>222401.76</td>\n",
              "      <td>97734.24</td>\n",
              "      <td>-97734.24</td>\n",
              "    </tr>\n",
              "    <tr>\n",
              "      <th>6361797</th>\n",
              "      <td>718</td>\n",
              "      <td>1</td>\n",
              "      <td>0</td>\n",
              "      <td>0</td>\n",
              "      <td>0</td>\n",
              "      <td>0</td>\n",
              "      <td>5907.41</td>\n",
              "      <td>315.00</td>\n",
              "      <td>0.00</td>\n",
              "      <td>0.00</td>\n",
              "      <td>0.00</td>\n",
              "      <td>-315.00</td>\n",
              "      <td>0.00</td>\n",
              "    </tr>\n",
              "    <tr>\n",
              "      <th>2247309</th>\n",
              "      <td>186</td>\n",
              "      <td>0</td>\n",
              "      <td>1</td>\n",
              "      <td>0</td>\n",
              "      <td>0</td>\n",
              "      <td>0</td>\n",
              "      <td>187696.30</td>\n",
              "      <td>11057.00</td>\n",
              "      <td>0.00</td>\n",
              "      <td>1798095.21</td>\n",
              "      <td>1985791.51</td>\n",
              "      <td>-11057.00</td>\n",
              "      <td>187696.30</td>\n",
              "    </tr>\n",
              "    <tr>\n",
              "      <th>4692207</th>\n",
              "      <td>331</td>\n",
              "      <td>0</td>\n",
              "      <td>1</td>\n",
              "      <td>0</td>\n",
              "      <td>0</td>\n",
              "      <td>0</td>\n",
              "      <td>82646.52</td>\n",
              "      <td>0.00</td>\n",
              "      <td>0.00</td>\n",
              "      <td>1047805.87</td>\n",
              "      <td>1130452.39</td>\n",
              "      <td>0.00</td>\n",
              "      <td>82646.52</td>\n",
              "    </tr>\n",
              "  </tbody>\n",
              "</table>\n",
              "</div>"
            ],
            "text/plain": [
              "         step  type_PAYMENT  type_CASH_OUT  type_CASH_IN  type_TRANSFER  \\\n",
              "4051353   300             0              0             0              1   \n",
              "5746321   399             0              0             1              0   \n",
              "6361797   718             1              0             0              0   \n",
              "2247309   186             0              1             0              0   \n",
              "4692207   331             0              1             0              0   \n",
              "\n",
              "         type_DEBIT     amount  oldbalance_org  newbalance_orig  \\\n",
              "4051353           0  890577.21          218.00             0.00   \n",
              "5746321           0   97734.24      2096258.84       2193993.08   \n",
              "6361797           0    5907.41          315.00             0.00   \n",
              "2247309           0  187696.30        11057.00             0.00   \n",
              "4692207           0   82646.52            0.00             0.00   \n",
              "\n",
              "         oldbalance_dest  newbalance_dest  diff_new_old_balance  \\\n",
              "4051353             0.00        890577.21               -218.00   \n",
              "5746321        320136.00        222401.76              97734.24   \n",
              "6361797             0.00             0.00               -315.00   \n",
              "2247309       1798095.21       1985791.51             -11057.00   \n",
              "4692207       1047805.87       1130452.39                  0.00   \n",
              "\n",
<<<<<<< HEAD
              "    [theme=dark] .colab-df-convert {\n",
              "      background-color: #3B4455;\n",
              "      fill: #D2E3FC;\n",
              "    }\n",
              "\n",
              "    [theme=dark] .colab-df-convert:hover {\n",
              "      background-color: #434B5C;\n",
              "      box-shadow: 0px 1px 3px 1px rgba(0, 0, 0, 0.15);\n",
              "      filter: drop-shadow(0px 1px 2px rgba(0, 0, 0, 0.3));\n",
              "      fill: #FFFFFF;\n",
              "    }\n",
              "  </style>\n",
              "\n",
              "      <script>\n",
              "        const buttonEl =\n",
              "          document.querySelector('#df-66655e51-3bf9-4ffe-81ba-cebe8fb4a143 button.colab-df-convert');\n",
              "        buttonEl.style.display =\n",
              "          google.colab.kernel.accessAllowed ? 'block' : 'none';\n",
              "\n",
              "        async function convertToInteractive(key) {\n",
              "          const element = document.querySelector('#df-66655e51-3bf9-4ffe-81ba-cebe8fb4a143');\n",
              "          const dataTable =\n",
              "            await google.colab.kernel.invokeFunction('convertToInteractive',\n",
              "                                                     [key], {});\n",
              "          if (!dataTable) return;\n",
              "\n",
              "          const docLinkHtml = 'Like what you see? Visit the ' +\n",
              "            '<a target=\"_blank\" href=https://colab.research.google.com/notebooks/data_table.ipynb>data table notebook</a>'\n",
              "            + ' to learn more about interactive tables.';\n",
              "          element.innerHTML = '';\n",
              "          dataTable['output_type'] = 'display_data';\n",
              "          await google.colab.output.renderOutput(dataTable, element);\n",
              "          const docLink = document.createElement('div');\n",
              "          docLink.innerHTML = docLinkHtml;\n",
              "          element.appendChild(docLink);\n",
              "        }\n",
              "      </script>\n",
              "    </div>\n",
              "  </div>\n",
              "  "
            ],
            "text/plain": [
              "        step  type_PAYMENT  type_CASH_OUT  type_CASH_IN  type_TRANSFER  \\\n",
              "578630    94             0              0             0              1   \n",
              "248692   234             0              1             0              0   \n",
              "43980    231             0              0             0              0   \n",
              "331603   358             0              0             1              0   \n",
              "123136    33             0              0             1              0   \n",
              "\n",
              "        type_DEBIT     amount  oldbalance_org  newbalance_orig  \\\n",
              "578630           0  672901.28            0.00             0.00   \n",
              "248692           0   42319.66            0.00             0.00   \n",
              "43980            1    5635.52       133346.00        127710.48   \n",
              "331603           0  156974.98       425464.73        582439.71   \n",
              "123136           0  321256.73        10501.00        331757.73   \n",
              "\n",
              "        oldbalance_dest  newbalance_dest  diff_new_old_balance  \\\n",
              "578630       8881502.26      10664836.01                  0.00   \n",
              "248692        273167.66        315487.32                  0.00   \n",
              "43980          45858.49         51494.02              -5635.52   \n",
              "331603       1033044.87        876069.89             156974.98   \n",
              "123136         87655.83             0.00             321256.73   \n",
              "\n",
              "        diff_new_old_destiny  \n",
              "578630            1783333.75  \n",
              "248692              42319.66  \n",
              "43980                5635.53  \n",
              "331603            -156974.98  \n",
              "123136             -87655.83  "
            ]
          },
          "execution_count": 471,
=======
              "         diff_new_old_destiny  \n",
              "4051353             890577.21  \n",
              "5746321             -97734.24  \n",
              "6361797                  0.00  \n",
              "2247309             187696.30  \n",
              "4692207              82646.52  "
            ]
          },
          "execution_count": 22,
>>>>>>> flask
          "metadata": {},
          "output_type": "execute_result"
        }
      ],
      "source": [
        "ohe = OneHotEncoder(cols=['type'], use_cat_names=True)\n",
        "\n",
        "X_train = ohe.fit_transform(X_train)\n",
        "X_test = ohe.transform(X_test)\n",
        "X_train.head()\n",
        "X_test.head()"
      ]
    },
    {
      "cell_type": "markdown",
      "metadata": {
        "hidden": true,
        "id": "k4Q5UIs60uMS"
      },
      "source": [
        "## 4.3 Rescaling"
      ]
    },
    {
      "cell_type": "code",
      "execution_count": 23,
      "metadata": {
        "ExecuteTime": {
          "end_time": "2021-01-11T18:49:00.603027Z",
          "start_time": "2021-01-11T18:48:59.044877Z"
        },
        "hidden": true,
        "id": "QBpoYsw70uMS"
      },
      "outputs": [],
      "source": [
        "num_columns = ['amount', 'oldbalance_org', 'newbalance_orig', 'oldbalance_dest', 'newbalance_dest',\n",
        "               'diff_new_old_balance', 'diff_new_old_destiny']\n",
        "mm = MinMaxScaler()\n",
        "X_params = X_train.copy()\n",
        "\n",
        "X_train[num_columns] = mm.fit_transform(X_train[num_columns])\n",
        "X_test[num_columns] = mm.transform(X_test[num_columns])\n",
        "\n",
        "X_params[num_columns] = mm.fit_transform(X_train[num_columns])\n",
        "X_test[num_columns] = mm.transform(X_test[num_columns])"
      ]
    },
    {
      "cell_type": "code",
      "execution_count": 28,
      "metadata": {},
      "outputs": [
        {
          "data": {
            "text/plain": [
              "['minmaxscaler_cycle1.joblib']"
            ]
          },
          "execution_count": 28,
          "metadata": {},
          "output_type": "execute_result"
        }
      ],
      "source": [
        "mm = MinMaxScaler()\n",
        "mm.fit(X_train[num_columns])\n",
        "\n",
        "joblib.dump(mm, 'minmaxscaler_cycle1.joblib')"
      ]
    },
    {
      "cell_type": "markdown",
      "metadata": {
        "heading_collapsed": true,
        "id": "4eaFdHn90uMS"
      },
      "source": [
        "# 5.0 Feature Selection"
      ]
    },
    {
      "cell_type": "code",
      "execution_count": 1,
      "metadata": {},
      "outputs": [
        {
          "ename": "NameError",
          "evalue": "name 'X_train' is not defined",
          "output_type": "error",
          "traceback": [
            "\u001b[0;31m---------------------------------------------------------------------------\u001b[0m",
            "\u001b[0;31mNameError\u001b[0m                                 Traceback (most recent call last)",
            "\u001b[1;32m/home/anant/Documents/onlinefraud/online_fraud.ipynb Cell 47\u001b[0m line \u001b[0;36m1\n\u001b[0;32m----> <a href='vscode-notebook-cell:/home/anant/Documents/onlinefraud/online_fraud.ipynb#Y213sZmlsZQ%3D%3D?line=0'>1</a>\u001b[0m X_train\n",
            "\u001b[0;31mNameError\u001b[0m: name 'X_train' is not defined"
          ]
        }
      ],
      "source": [
        "X_train"
      ]
    },
    {
      "cell_type": "code",
      "execution_count": 24,
      "metadata": {
        "ExecuteTime": {
          "end_time": "2021-01-11T18:49:11.686754Z",
          "start_time": "2021-01-11T18:49:11.682897Z"
        },
        "hidden": true,
        "id": "9F2egAcK0uMT"
      },
      "outputs": [],
      "source": [
        "\n",
        "\n",
        "final_columns_selected = ['step', 'oldbalance_org', \n",
        "                          'newbalance_orig', 'newbalance_dest', \n",
        "                          'diff_new_old_balance', 'diff_new_old_destiny', \n",
        "                          'type_TRANSFER']\n",
        "\n"
      ]
    },
    {
      "cell_type": "markdown",
      "metadata": {
        "heading_collapsed": true,
        "id": "u_2ZWB7N0uMT"
      },
      "source": [
        "# 6.0 Machine Learning Modeling"
      ]
    },
    {
      "cell_type": "code",
      "execution_count": 25,
      "metadata": {
        "ExecuteTime": {
          "end_time": "2021-01-11T18:49:15.589482Z",
          "start_time": "2021-01-11T18:49:15.542574Z"
        },
        "hidden": true,
        "id": "ERhro45U0uMU"
      },
      "outputs": [],
      "source": [
        "X_train_cs = X_train[final_columns_selected]\n",
        "\n",
        "X_test_cs = X_test[final_columns_selected]\n",
        "\n",
        "X_params_cs = X_params[final_columns_selected]"
      ]
    },
    {
      "cell_type": "code",
      "execution_count": 26,
      "metadata": {},
      "outputs": [
        {
          "data": {
            "text/html": [
              "<div>\n",
              "<style scoped>\n",
              "    .dataframe tbody tr th:only-of-type {\n",
              "        vertical-align: middle;\n",
              "    }\n",
              "\n",
              "    .dataframe tbody tr th {\n",
              "        vertical-align: top;\n",
              "    }\n",
              "\n",
              "    .dataframe thead th {\n",
              "        text-align: right;\n",
              "    }\n",
              "</style>\n",
              "<table border=\"1\" class=\"dataframe\">\n",
              "  <thead>\n",
              "    <tr style=\"text-align: right;\">\n",
              "      <th></th>\n",
              "      <th>step</th>\n",
              "      <th>oldbalance_org</th>\n",
              "      <th>newbalance_orig</th>\n",
              "      <th>newbalance_dest</th>\n",
              "      <th>diff_new_old_balance</th>\n",
              "      <th>diff_new_old_destiny</th>\n",
              "      <th>type_TRANSFER</th>\n",
              "    </tr>\n",
              "  </thead>\n",
              "  <tbody>\n",
              "    <tr>\n",
              "      <th>292779</th>\n",
              "      <td>15</td>\n",
              "      <td>0.000743</td>\n",
              "      <td>0.000692</td>\n",
              "      <td>0.000000</td>\n",
              "      <td>0.838427</td>\n",
              "      <td>0.109987</td>\n",
              "      <td>0</td>\n",
              "    </tr>\n",
              "    <tr>\n",
              "      <th>499763</th>\n",
              "      <td>20</td>\n",
              "      <td>0.000000</td>\n",
              "      <td>0.000000</td>\n",
              "      <td>0.000000</td>\n",
              "      <td>0.839259</td>\n",
              "      <td>0.109987</td>\n",
              "      <td>0</td>\n",
              "    </tr>\n",
              "    <tr>\n",
              "      <th>2970411</th>\n",
              "      <td>231</td>\n",
              "      <td>0.000000</td>\n",
              "      <td>0.000000</td>\n",
              "      <td>0.002389</td>\n",
              "      <td>0.839259</td>\n",
              "      <td>0.113029</td>\n",
              "      <td>0</td>\n",
              "    </tr>\n",
              "    <tr>\n",
              "      <th>3137549</th>\n",
              "      <td>236</td>\n",
              "      <td>0.000000</td>\n",
              "      <td>0.000000</td>\n",
              "      <td>0.000000</td>\n",
              "      <td>0.839259</td>\n",
              "      <td>0.109987</td>\n",
              "      <td>0</td>\n",
              "    </tr>\n",
              "    <tr>\n",
              "      <th>1500682</th>\n",
              "      <td>143</td>\n",
              "      <td>0.218942</td>\n",
              "      <td>0.267494</td>\n",
              "      <td>0.006233</td>\n",
              "      <td>0.857557</td>\n",
              "      <td>0.108151</td>\n",
              "      <td>0</td>\n",
              "    </tr>\n",
              "  </tbody>\n",
              "</table>\n",
              "</div>"
            ],
            "text/plain": [
              "         step  oldbalance_org  newbalance_orig  newbalance_dest  \\\n",
              "292779     15        0.000743         0.000692         0.000000   \n",
              "499763     20        0.000000         0.000000         0.000000   \n",
              "2970411   231        0.000000         0.000000         0.002389   \n",
              "3137549   236        0.000000         0.000000         0.000000   \n",
              "1500682   143        0.218942         0.267494         0.006233   \n",
              "\n",
              "         diff_new_old_balance  diff_new_old_destiny  type_TRANSFER  \n",
              "292779               0.838427              0.109987              0  \n",
              "499763               0.839259              0.109987              0  \n",
              "2970411              0.839259              0.113029              0  \n",
              "3137549              0.839259              0.109987              0  \n",
              "1500682              0.857557              0.108151              0  "
            ]
          },
          "execution_count": 26,
          "metadata": {},
          "output_type": "execute_result"
        }
      ],
      "source": [
        "X_params_cs.head()"
      ]
    },
    {
      "cell_type": "markdown",
      "metadata": {
        "hidden": true,
        "id": "apVOG-4X0uMX"
      },
      "source": [
        "## 6.1 Logistic Regression"
      ]
    },
    {
      "cell_type": "code",
<<<<<<< HEAD
      "execution_count": null,
=======
      "execution_count": 27,
>>>>>>> flask
      "metadata": {
        "id": "4yEo9k9aTFil"
      },
      "outputs": [],
      "source": [
        "def ml_scores(model_name, y_true, y_pred,y_probs):\n",
        "\n",
        "    accuracy = balanced_accuracy_score(y_true, y_pred)\n",
        "    precision = precision_score(y_true, y_pred)\n",
        "    recall = recall_score(y_true, y_pred)\n",
        "    f1 = f1_score(y_true, y_pred)\n",
        "    auc= roc_auc_score(y_test,y_probs[:,1])\n",
        "\n",
        "    return pd.DataFrame({'Balanced Accuracy':accuracy,\n",
        "                         'Precision': precision,\n",
        "                         'Recall': recall,\n",
        "                         'F1': f1,\n",
        "                         'auc': auc},\n",
        "                        index=[model_name])\n"
      ]
    },
    {
      "cell_type": "code",
      "execution_count": 28,
      "metadata": {
        "ExecuteTime": {
          "end_time": "2021-01-11T18:49:26.692331Z",
          "start_time": "2021-01-11T18:49:20.044652Z"
        },
        "hidden": true,
        "id": "VHs9wGvK0uMY"
      },
      "outputs": [],
      "source": [
        "lg = LogisticRegression()\n",
        "lg.fit(X_train_cs, y_train)\n",
        "\n",
        "y_pred = lg.predict(X_test_cs)\n",
        "y_probs = lg.predict_proba(X_test_cs)"
      ]
    },
    {
      "cell_type": "code",
<<<<<<< HEAD
      "execution_count": null,
=======
      "execution_count": 29,
>>>>>>> flask
      "metadata": {
        "colab": {
          "base_uri": "https://localhost:8080/",
          "height": 81
        },
        "id": "6XtwBTTtUPoz",
        "outputId": "038294bd-73e8-4355-ba5e-29756e9865a1"
      },
      "outputs": [
        {
          "data": {
            "text/html": [
              "<div>\n",
              "<style scoped>\n",
              "    .dataframe tbody tr th:only-of-type {\n",
              "        vertical-align: middle;\n",
              "    }\n",
              "\n",
              "    .dataframe tbody tr th {\n",
              "        vertical-align: top;\n",
              "    }\n",
              "\n",
              "    .dataframe thead th {\n",
              "        text-align: right;\n",
              "    }\n",
              "</style>\n",
              "<table border=\"1\" class=\"dataframe\">\n",
              "  <thead>\n",
              "    <tr style=\"text-align: right;\">\n",
              "      <th></th>\n",
              "      <th>Balanced Accuracy</th>\n",
              "      <th>Precision</th>\n",
              "      <th>Recall</th>\n",
              "      <th>F1</th>\n",
              "      <th>auc</th>\n",
              "    </tr>\n",
              "  </thead>\n",
              "  <tbody>\n",
              "    <tr>\n",
              "      <th>Logistic Regression</th>\n",
              "      <td>0.657321</td>\n",
              "      <td>0.94</td>\n",
              "      <td>0.314668</td>\n",
              "      <td>0.4715</td>\n",
              "      <td>0.943923</td>\n",
              "    </tr>\n",
              "  </tbody>\n",
              "</table>\n",
<<<<<<< HEAD
              "</div>\n",
              "      <button class=\"colab-df-convert\" onclick=\"convertToInteractive('df-3137f172-80c2-405b-89f4-6285f13655ff')\"\n",
              "              title=\"Convert this dataframe to an interactive table.\"\n",
              "              style=\"display:none;\">\n",
              "        \n",
              "  <svg xmlns=\"http://www.w3.org/2000/svg\" height=\"24px\"viewBox=\"0 0 24 24\"\n",
              "       width=\"24px\">\n",
              "    <path d=\"M0 0h24v24H0V0z\" fill=\"none\"/>\n",
              "    <path d=\"M18.56 5.44l.94 2.06.94-2.06 2.06-.94-2.06-.94-.94-2.06-.94 2.06-2.06.94zm-11 1L8.5 8.5l.94-2.06 2.06-.94-2.06-.94L8.5 2.5l-.94 2.06-2.06.94zm10 10l.94 2.06.94-2.06 2.06-.94-2.06-.94-.94-2.06-.94 2.06-2.06.94z\"/><path d=\"M17.41 7.96l-1.37-1.37c-.4-.4-.92-.59-1.43-.59-.52 0-1.04.2-1.43.59L10.3 9.45l-7.72 7.72c-.78.78-.78 2.05 0 2.83L4 21.41c.39.39.9.59 1.41.59.51 0 1.02-.2 1.41-.59l7.78-7.78 2.81-2.81c.8-.78.8-2.07 0-2.86zM5.41 20L4 18.59l7.72-7.72 1.47 1.35L5.41 20z\"/>\n",
              "  </svg>\n",
              "      </button>\n",
              "      \n",
              "  <style>\n",
              "    .colab-df-container {\n",
              "      display:flex;\n",
              "      flex-wrap:wrap;\n",
              "      gap: 12px;\n",
              "    }\n",
              "\n",
              "    .colab-df-convert {\n",
              "      background-color: #E8F0FE;\n",
              "      border: none;\n",
              "      border-radius: 50%;\n",
              "      cursor: pointer;\n",
              "      display: none;\n",
              "      fill: #1967D2;\n",
              "      height: 32px;\n",
              "      padding: 0 0 0 0;\n",
              "      width: 32px;\n",
              "    }\n",
              "\n",
              "    .colab-df-convert:hover {\n",
              "      background-color: #E2EBFA;\n",
              "      box-shadow: 0px 1px 2px rgba(60, 64, 67, 0.3), 0px 1px 3px 1px rgba(60, 64, 67, 0.15);\n",
              "      fill: #174EA6;\n",
              "    }\n",
              "\n",
              "    [theme=dark] .colab-df-convert {\n",
              "      background-color: #3B4455;\n",
              "      fill: #D2E3FC;\n",
              "    }\n",
              "\n",
              "    [theme=dark] .colab-df-convert:hover {\n",
              "      background-color: #434B5C;\n",
              "      box-shadow: 0px 1px 3px 1px rgba(0, 0, 0, 0.15);\n",
              "      filter: drop-shadow(0px 1px 2px rgba(0, 0, 0, 0.3));\n",
              "      fill: #FFFFFF;\n",
              "    }\n",
              "  </style>\n",
              "\n",
              "      <script>\n",
              "        const buttonEl =\n",
              "          document.querySelector('#df-3137f172-80c2-405b-89f4-6285f13655ff button.colab-df-convert');\n",
              "        buttonEl.style.display =\n",
              "          google.colab.kernel.accessAllowed ? 'block' : 'none';\n",
              "\n",
              "        async function convertToInteractive(key) {\n",
              "          const element = document.querySelector('#df-3137f172-80c2-405b-89f4-6285f13655ff');\n",
              "          const dataTable =\n",
              "            await google.colab.kernel.invokeFunction('convertToInteractive',\n",
              "                                                     [key], {});\n",
              "          if (!dataTable) return;\n",
              "\n",
              "          const docLinkHtml = 'Like what you see? Visit the ' +\n",
              "            '<a target=\"_blank\" href=https://colab.research.google.com/notebooks/data_table.ipynb>data table notebook</a>'\n",
              "            + ' to learn more about interactive tables.';\n",
              "          element.innerHTML = '';\n",
              "          dataTable['output_type'] = 'display_data';\n",
              "          await google.colab.output.renderOutput(dataTable, element);\n",
              "          const docLink = document.createElement('div');\n",
              "          docLink.innerHTML = docLinkHtml;\n",
              "          element.appendChild(docLink);\n",
              "        }\n",
              "      </script>\n",
              "    </div>\n",
              "  </div>\n",
              "  "
            ],
            "text/plain": [
              "                     Balanced Accuracy  Precision    Recall        F1  \\\n",
              "Logistic Regression           0.594512        1.0  0.189024  0.317949   \n",
              "\n",
              "                          auc  \n",
              "Logistic Regression  0.914964  "
            ]
          },
          "execution_count": 477,
=======
              "</div>"
            ],
            "text/plain": [
              "                     Balanced Accuracy  Precision    Recall      F1       auc\n",
              "Logistic Regression           0.657321       0.94  0.314668  0.4715  0.943923"
            ]
          },
          "execution_count": 29,
>>>>>>> flask
          "metadata": {},
          "output_type": "execute_result"
        }
      ],
      "source": [
        "\n",
        "lg_results = ml_scores('Logistic Regression', y_test, y_pred,y_probs)\n",
        "lg_results\n"
      ]
    },
    {
      "cell_type": "markdown",
      "metadata": {
        "hidden": true,
        "id": "FnGcNkE70uMZ"
      },
      "source": [
        "### 6.1.1 Classification Report"
      ]
    },
    {
      "cell_type": "code",
      "execution_count": 30,
      "metadata": {
        "ExecuteTime": {
          "end_time": "2021-01-11T18:49:27.359204Z",
          "start_time": "2021-01-11T18:49:27.138782Z"
        },
        "colab": {
          "base_uri": "https://localhost:8080/"
        },
        "hidden": true,
        "id": "reo9SebM0uMZ",
        "outputId": "c5d78fff-f65d-4693-fd3c-7c7a3de97f94"
      },
      "outputs": [
        {
          "name": "stdout",
          "output_type": "stream",
          "text": [
            "              precision    recall  f1-score   support\n",
            "\n",
            "           0       1.00      1.00      1.00   1270881\n",
            "           1       0.94      0.31      0.47      1643\n",
            "\n",
            "    accuracy                           1.00   1272524\n",
            "   macro avg       0.97      0.66      0.74   1272524\n",
            "weighted avg       1.00      1.00      1.00   1272524\n",
            "\n"
          ]
        }
      ],
      "source": [
        "print(classification_report(y_test, y_pred))"
      ]
    },
    {
      "cell_type": "markdown",
      "metadata": {
        "hidden": true,
        "id": "np2-mHkP0uMb"
      },
      "source": [
        "## 6.2 K Nearest Neighbors"
      ]
    },
    {
      "cell_type": "code",
      "execution_count": 32,
      "metadata": {
        "ExecuteTime": {
          "end_time": "2021-01-11T18:49:57.229314Z",
          "start_time": "2021-01-11T18:49:45.059296Z"
        },
        "hidden": true,
        "id": "Ee5PoNnf0uMc"
      },
      "outputs": [],
      "source": [
        "knn = KNeighborsClassifier()\n",
        "knn.fit(X_train_cs, y_train)\n",
        "\n",
        "y_pred = knn.predict(X_test_cs)\n",
        "y_probs = knn.predict_proba(X_test_cs)"
      ]
    },
    {
      "cell_type": "code",
      "execution_count": null,
      "metadata": {
        "colab": {
          "base_uri": "https://localhost:8080/",
          "height": 81
        },
        "id": "8h6gUkgaUpov",
        "outputId": "0c03ed50-df62-4355-90da-5ce2063b9dfc"
      },
      "outputs": [
        {
          "data": {
            "text/html": [
              "\n",
              "  <div id=\"df-20760f6c-6928-4aa1-9753-c5905b5d8d69\">\n",
              "    <div class=\"colab-df-container\">\n",
              "      <div>\n",
              "<style scoped>\n",
              "    .dataframe tbody tr th:only-of-type {\n",
              "        vertical-align: middle;\n",
              "    }\n",
              "\n",
              "    .dataframe tbody tr th {\n",
              "        vertical-align: top;\n",
              "    }\n",
              "\n",
              "    .dataframe thead th {\n",
              "        text-align: right;\n",
              "    }\n",
              "</style>\n",
              "<table border=\"1\" class=\"dataframe\">\n",
              "  <thead>\n",
              "    <tr style=\"text-align: right;\">\n",
              "      <th></th>\n",
              "      <th>Balanced Accuracy</th>\n",
              "      <th>Precision</th>\n",
              "      <th>Recall</th>\n",
              "      <th>F1</th>\n",
              "      <th>auc</th>\n",
              "    </tr>\n",
              "  </thead>\n",
              "  <tbody>\n",
              "    <tr>\n",
              "      <th>K Nearest Neighbors</th>\n",
              "      <td>0.628041</td>\n",
              "      <td>0.954545</td>\n",
              "      <td>0.256098</td>\n",
              "      <td>0.403846</td>\n",
              "      <td>0.76482</td>\n",
              "    </tr>\n",
              "  </tbody>\n",
              "</table>\n",
              "</div>\n",
              "      <button class=\"colab-df-convert\" onclick=\"convertToInteractive('df-20760f6c-6928-4aa1-9753-c5905b5d8d69')\"\n",
              "              title=\"Convert this dataframe to an interactive table.\"\n",
              "              style=\"display:none;\">\n",
              "        \n",
              "  <svg xmlns=\"http://www.w3.org/2000/svg\" height=\"24px\"viewBox=\"0 0 24 24\"\n",
              "       width=\"24px\">\n",
              "    <path d=\"M0 0h24v24H0V0z\" fill=\"none\"/>\n",
              "    <path d=\"M18.56 5.44l.94 2.06.94-2.06 2.06-.94-2.06-.94-.94-2.06-.94 2.06-2.06.94zm-11 1L8.5 8.5l.94-2.06 2.06-.94-2.06-.94L8.5 2.5l-.94 2.06-2.06.94zm10 10l.94 2.06.94-2.06 2.06-.94-2.06-.94-.94-2.06-.94 2.06-2.06.94z\"/><path d=\"M17.41 7.96l-1.37-1.37c-.4-.4-.92-.59-1.43-.59-.52 0-1.04.2-1.43.59L10.3 9.45l-7.72 7.72c-.78.78-.78 2.05 0 2.83L4 21.41c.39.39.9.59 1.41.59.51 0 1.02-.2 1.41-.59l7.78-7.78 2.81-2.81c.8-.78.8-2.07 0-2.86zM5.41 20L4 18.59l7.72-7.72 1.47 1.35L5.41 20z\"/>\n",
              "  </svg>\n",
              "      </button>\n",
              "      \n",
              "  <style>\n",
              "    .colab-df-container {\n",
              "      display:flex;\n",
              "      flex-wrap:wrap;\n",
              "      gap: 12px;\n",
              "    }\n",
              "\n",
              "    .colab-df-convert {\n",
              "      background-color: #E8F0FE;\n",
              "      border: none;\n",
              "      border-radius: 50%;\n",
              "      cursor: pointer;\n",
              "      display: none;\n",
              "      fill: #1967D2;\n",
              "      height: 32px;\n",
              "      padding: 0 0 0 0;\n",
              "      width: 32px;\n",
              "    }\n",
              "\n",
              "    .colab-df-convert:hover {\n",
              "      background-color: #E2EBFA;\n",
              "      box-shadow: 0px 1px 2px rgba(60, 64, 67, 0.3), 0px 1px 3px 1px rgba(60, 64, 67, 0.15);\n",
              "      fill: #174EA6;\n",
              "    }\n",
              "\n",
              "    [theme=dark] .colab-df-convert {\n",
              "      background-color: #3B4455;\n",
              "      fill: #D2E3FC;\n",
              "    }\n",
              "\n",
              "    [theme=dark] .colab-df-convert:hover {\n",
              "      background-color: #434B5C;\n",
              "      box-shadow: 0px 1px 3px 1px rgba(0, 0, 0, 0.15);\n",
              "      filter: drop-shadow(0px 1px 2px rgba(0, 0, 0, 0.3));\n",
              "      fill: #FFFFFF;\n",
              "    }\n",
              "  </style>\n",
              "\n",
              "      <script>\n",
              "        const buttonEl =\n",
              "          document.querySelector('#df-20760f6c-6928-4aa1-9753-c5905b5d8d69 button.colab-df-convert');\n",
              "        buttonEl.style.display =\n",
              "          google.colab.kernel.accessAllowed ? 'block' : 'none';\n",
              "\n",
              "        async function convertToInteractive(key) {\n",
              "          const element = document.querySelector('#df-20760f6c-6928-4aa1-9753-c5905b5d8d69');\n",
              "          const dataTable =\n",
              "            await google.colab.kernel.invokeFunction('convertToInteractive',\n",
              "                                                     [key], {});\n",
              "          if (!dataTable) return;\n",
              "\n",
              "          const docLinkHtml = 'Like what you see? Visit the ' +\n",
              "            '<a target=\"_blank\" href=https://colab.research.google.com/notebooks/data_table.ipynb>data table notebook</a>'\n",
              "            + ' to learn more about interactive tables.';\n",
              "          element.innerHTML = '';\n",
              "          dataTable['output_type'] = 'display_data';\n",
              "          await google.colab.output.renderOutput(dataTable, element);\n",
              "          const docLink = document.createElement('div');\n",
              "          docLink.innerHTML = docLinkHtml;\n",
              "          element.appendChild(docLink);\n",
              "        }\n",
              "      </script>\n",
              "    </div>\n",
              "  </div>\n",
              "  "
            ],
            "text/plain": [
              "                     Balanced Accuracy  Precision    Recall        F1      auc\n",
              "K Nearest Neighbors           0.628041   0.954545  0.256098  0.403846  0.76482"
            ]
          },
          "execution_count": 480,
          "metadata": {},
          "output_type": "execute_result"
        }
      ],
      "source": [
        "knn_results = ml_scores('K Nearest Neighbors', y_test, y_pred,y_probs)\n",
        "knn_results"
      ]
    },
    {
      "cell_type": "markdown",
      "metadata": {
        "hidden": true,
        "id": "JBg10oHd0uMc"
      },
      "source": [
        "### 6.2.1 Classification Report"
      ]
    },
    {
      "cell_type": "code",
      "execution_count": null,
      "metadata": {
        "ExecuteTime": {
          "end_time": "2021-01-11T18:49:57.762156Z",
          "start_time": "2021-01-11T18:49:57.586973Z"
        },
        "colab": {
          "base_uri": "https://localhost:8080/"
        },
        "hidden": true,
        "id": "Xh48347H0uMc",
        "outputId": "2f175770-4678-4477-ff91-ed5b5b44ed8e"
      },
      "outputs": [
        {
          "name": "stdout",
          "output_type": "stream",
          "text": [
            "              precision    recall  f1-score   support\n",
            "\n",
            "           0       1.00      1.00      1.00    127089\n",
            "           1       0.95      0.26      0.40       164\n",
            "\n",
            "    accuracy                           1.00    127253\n",
            "   macro avg       0.98      0.63      0.70    127253\n",
            "weighted avg       1.00      1.00      1.00    127253\n",
            "\n"
          ]
        }
      ],
      "source": [
        "print(classification_report(y_test, y_pred))"
      ]
    },
    {
      "cell_type": "markdown",
      "metadata": {
        "hidden": true,
        "id": "Tb_UjDh40uMe"
      },
      "source": [
        "## 6.3 Random Forest"
      ]
    },
    {
      "cell_type": "code",
      "execution_count": null,
      "metadata": {
        "ExecuteTime": {
          "end_time": "2021-01-11T19:10:42.703370Z",
          "start_time": "2021-01-11T19:09:56.805739Z"
        },
        "hidden": true,
        "id": "5UZoCC-30uMe"
      },
      "outputs": [],
      "source": [
        "rf = RandomForestClassifier(class_weight='balanced')\n",
        "rf.fit(X_train_cs, y_train)\n",
        "\n",
        "y_pred = rf.predict(X_test_cs)\n",
        "y_probs = rf.predict_proba(X_test_cs)\n"
      ]
    },
    {
      "cell_type": "code",
      "execution_count": null,
      "metadata": {
        "colab": {
          "base_uri": "https://localhost:8080/",
          "height": 81
        },
        "id": "CNS4IL_DVAbG",
        "outputId": "174ecd18-7831-442b-eef9-d038e33dbd02"
      },
      "outputs": [
        {
          "data": {
            "text/html": [
              "\n",
              "  <div id=\"df-6e7cf3aa-b6cb-4192-bce3-bcecf03ba727\">\n",
              "    <div class=\"colab-df-container\">\n",
              "      <div>\n",
              "<style scoped>\n",
              "    .dataframe tbody tr th:only-of-type {\n",
              "        vertical-align: middle;\n",
              "    }\n",
              "\n",
              "    .dataframe tbody tr th {\n",
              "        vertical-align: top;\n",
              "    }\n",
              "\n",
              "    .dataframe thead th {\n",
              "        text-align: right;\n",
              "    }\n",
              "</style>\n",
              "<table border=\"1\" class=\"dataframe\">\n",
              "  <thead>\n",
              "    <tr style=\"text-align: right;\">\n",
              "      <th></th>\n",
              "      <th>Balanced Accuracy</th>\n",
              "      <th>Precision</th>\n",
              "      <th>Recall</th>\n",
              "      <th>F1</th>\n",
              "      <th>auc</th>\n",
              "    </tr>\n",
              "  </thead>\n",
              "  <tbody>\n",
              "    <tr>\n",
              "      <th>Random Forest</th>\n",
              "      <td>0.884135</td>\n",
              "      <td>0.976744</td>\n",
              "      <td>0.768293</td>\n",
              "      <td>0.860068</td>\n",
              "      <td>0.983481</td>\n",
              "    </tr>\n",
              "  </tbody>\n",
              "</table>\n",
              "</div>\n",
              "      <button class=\"colab-df-convert\" onclick=\"convertToInteractive('df-6e7cf3aa-b6cb-4192-bce3-bcecf03ba727')\"\n",
              "              title=\"Convert this dataframe to an interactive table.\"\n",
              "              style=\"display:none;\">\n",
              "        \n",
              "  <svg xmlns=\"http://www.w3.org/2000/svg\" height=\"24px\"viewBox=\"0 0 24 24\"\n",
              "       width=\"24px\">\n",
              "    <path d=\"M0 0h24v24H0V0z\" fill=\"none\"/>\n",
              "    <path d=\"M18.56 5.44l.94 2.06.94-2.06 2.06-.94-2.06-.94-.94-2.06-.94 2.06-2.06.94zm-11 1L8.5 8.5l.94-2.06 2.06-.94-2.06-.94L8.5 2.5l-.94 2.06-2.06.94zm10 10l.94 2.06.94-2.06 2.06-.94-2.06-.94-.94-2.06-.94 2.06-2.06.94z\"/><path d=\"M17.41 7.96l-1.37-1.37c-.4-.4-.92-.59-1.43-.59-.52 0-1.04.2-1.43.59L10.3 9.45l-7.72 7.72c-.78.78-.78 2.05 0 2.83L4 21.41c.39.39.9.59 1.41.59.51 0 1.02-.2 1.41-.59l7.78-7.78 2.81-2.81c.8-.78.8-2.07 0-2.86zM5.41 20L4 18.59l7.72-7.72 1.47 1.35L5.41 20z\"/>\n",
              "  </svg>\n",
              "      </button>\n",
              "      \n",
              "  <style>\n",
              "    .colab-df-container {\n",
              "      display:flex;\n",
              "      flex-wrap:wrap;\n",
              "      gap: 12px;\n",
              "    }\n",
              "\n",
              "    .colab-df-convert {\n",
              "      background-color: #E8F0FE;\n",
              "      border: none;\n",
              "      border-radius: 50%;\n",
              "      cursor: pointer;\n",
              "      display: none;\n",
              "      fill: #1967D2;\n",
              "      height: 32px;\n",
              "      padding: 0 0 0 0;\n",
              "      width: 32px;\n",
              "    }\n",
              "\n",
              "    .colab-df-convert:hover {\n",
              "      background-color: #E2EBFA;\n",
              "      box-shadow: 0px 1px 2px rgba(60, 64, 67, 0.3), 0px 1px 3px 1px rgba(60, 64, 67, 0.15);\n",
              "      fill: #174EA6;\n",
              "    }\n",
              "\n",
              "    [theme=dark] .colab-df-convert {\n",
              "      background-color: #3B4455;\n",
              "      fill: #D2E3FC;\n",
              "    }\n",
              "\n",
              "    [theme=dark] .colab-df-convert:hover {\n",
              "      background-color: #434B5C;\n",
              "      box-shadow: 0px 1px 3px 1px rgba(0, 0, 0, 0.15);\n",
              "      filter: drop-shadow(0px 1px 2px rgba(0, 0, 0, 0.3));\n",
              "      fill: #FFFFFF;\n",
              "    }\n",
              "  </style>\n",
              "\n",
              "      <script>\n",
              "        const buttonEl =\n",
              "          document.querySelector('#df-6e7cf3aa-b6cb-4192-bce3-bcecf03ba727 button.colab-df-convert');\n",
              "        buttonEl.style.display =\n",
              "          google.colab.kernel.accessAllowed ? 'block' : 'none';\n",
              "\n",
              "        async function convertToInteractive(key) {\n",
              "          const element = document.querySelector('#df-6e7cf3aa-b6cb-4192-bce3-bcecf03ba727');\n",
              "          const dataTable =\n",
              "            await google.colab.kernel.invokeFunction('convertToInteractive',\n",
              "                                                     [key], {});\n",
              "          if (!dataTable) return;\n",
              "\n",
              "          const docLinkHtml = 'Like what you see? Visit the ' +\n",
              "            '<a target=\"_blank\" href=https://colab.research.google.com/notebooks/data_table.ipynb>data table notebook</a>'\n",
              "            + ' to learn more about interactive tables.';\n",
              "          element.innerHTML = '';\n",
              "          dataTable['output_type'] = 'display_data';\n",
              "          await google.colab.output.renderOutput(dataTable, element);\n",
              "          const docLink = document.createElement('div');\n",
              "          docLink.innerHTML = docLinkHtml;\n",
              "          element.appendChild(docLink);\n",
              "        }\n",
              "      </script>\n",
              "    </div>\n",
              "  </div>\n",
              "  "
            ],
            "text/plain": [
              "               Balanced Accuracy  Precision    Recall        F1       auc\n",
              "Random Forest           0.884135   0.976744  0.768293  0.860068  0.983481"
            ]
          },
          "execution_count": 483,
          "metadata": {},
          "output_type": "execute_result"
        }
      ],
      "source": [
        "rf_results = ml_scores('Random Forest', y_test, y_pred,y_probs)\n",
        "rf_results"
      ]
    },
    {
      "cell_type": "markdown",
      "metadata": {
        "hidden": true,
        "id": "DBuV7tbp0uMf"
      },
      "source": [
        "### 6.3.1 Classification Report"
      ]
    },
    {
      "cell_type": "code",
      "execution_count": null,
      "metadata": {
        "ExecuteTime": {
          "end_time": "2021-01-11T19:10:43.220005Z",
          "start_time": "2021-01-11T19:10:43.043253Z"
        },
        "colab": {
          "base_uri": "https://localhost:8080/"
        },
        "hidden": true,
        "id": "AffS9aJI0uMf",
        "outputId": "27012455-00c0-4329-fc67-80f3491a0084"
      },
      "outputs": [
        {
          "name": "stdout",
          "output_type": "stream",
          "text": [
            "              precision    recall  f1-score   support\n",
            "\n",
            "           0       1.00      1.00      1.00    127089\n",
            "           1       0.98      0.77      0.86       164\n",
            "\n",
            "    accuracy                           1.00    127253\n",
            "   macro avg       0.99      0.88      0.93    127253\n",
            "weighted avg       1.00      1.00      1.00    127253\n",
            "\n"
          ]
        }
      ],
      "source": [
        "print(classification_report(y_test, y_pred))"
      ]
    },
    {
      "cell_type": "markdown",
      "metadata": {
        "hidden": true,
        "id": "50QQo5zV0uMk"
      },
      "source": [
        "## 6.4 XGBoost"
      ]
    },
    {
      "cell_type": "code",
      "execution_count": 31,
      "metadata": {
        "ExecuteTime": {
          "end_time": "2021-01-11T19:17:29.668827Z",
          "start_time": "2021-01-11T19:17:03.475475Z"
        },
        "hidden": true,
        "id": "wu6Y_cZS0uMl"
      },
      "outputs": [],
      "source": [
        "xgb = XGBClassifier()\n",
        "xgb.fit(X_train_cs, y_train)\n",
        "\n",
        "y_pred = xgb.predict(X_test_cs)\n",
        "y_probs = xgb.predict_proba(X_test_cs)"
      ]
    },
    {
      "cell_type": "code",
<<<<<<< HEAD
      "execution_count": null,
=======
      "execution_count": 32,
>>>>>>> flask
      "metadata": {
        "colab": {
          "base_uri": "https://localhost:8080/",
          "height": 81
        },
        "id": "8tDgK5B4VJX5",
        "outputId": "9e52d14a-e92e-4346-96ed-d7b260f924f8"
      },
      "outputs": [
        {
          "data": {
            "text/html": [
              "<div>\n",
              "<style scoped>\n",
              "    .dataframe tbody tr th:only-of-type {\n",
              "        vertical-align: middle;\n",
              "    }\n",
              "\n",
              "    .dataframe tbody tr th {\n",
              "        vertical-align: top;\n",
              "    }\n",
              "\n",
              "    .dataframe thead th {\n",
              "        text-align: right;\n",
              "    }\n",
              "</style>\n",
              "<table border=\"1\" class=\"dataframe\">\n",
              "  <thead>\n",
              "    <tr style=\"text-align: right;\">\n",
              "      <th></th>\n",
              "      <th>Balanced Accuracy</th>\n",
              "      <th>Precision</th>\n",
              "      <th>Recall</th>\n",
              "      <th>F1</th>\n",
              "      <th>auc</th>\n",
              "    </tr>\n",
              "  </thead>\n",
              "  <tbody>\n",
              "    <tr>\n",
              "      <th>XGB</th>\n",
              "      <td>0.920855</td>\n",
              "      <td>0.961752</td>\n",
              "      <td>0.841753</td>\n",
              "      <td>0.89776</td>\n",
              "      <td>0.999075</td>\n",
              "    </tr>\n",
              "  </tbody>\n",
              "</table>\n",
<<<<<<< HEAD
              "</div>\n",
              "      <button class=\"colab-df-convert\" onclick=\"convertToInteractive('df-0d95169a-10cc-4892-8ca3-f4ece2e2d83a')\"\n",
              "              title=\"Convert this dataframe to an interactive table.\"\n",
              "              style=\"display:none;\">\n",
              "        \n",
              "  <svg xmlns=\"http://www.w3.org/2000/svg\" height=\"24px\"viewBox=\"0 0 24 24\"\n",
              "       width=\"24px\">\n",
              "    <path d=\"M0 0h24v24H0V0z\" fill=\"none\"/>\n",
              "    <path d=\"M18.56 5.44l.94 2.06.94-2.06 2.06-.94-2.06-.94-.94-2.06-.94 2.06-2.06.94zm-11 1L8.5 8.5l.94-2.06 2.06-.94-2.06-.94L8.5 2.5l-.94 2.06-2.06.94zm10 10l.94 2.06.94-2.06 2.06-.94-2.06-.94-.94-2.06-.94 2.06-2.06.94z\"/><path d=\"M17.41 7.96l-1.37-1.37c-.4-.4-.92-.59-1.43-.59-.52 0-1.04.2-1.43.59L10.3 9.45l-7.72 7.72c-.78.78-.78 2.05 0 2.83L4 21.41c.39.39.9.59 1.41.59.51 0 1.02-.2 1.41-.59l7.78-7.78 2.81-2.81c.8-.78.8-2.07 0-2.86zM5.41 20L4 18.59l7.72-7.72 1.47 1.35L5.41 20z\"/>\n",
              "  </svg>\n",
              "      </button>\n",
              "      \n",
              "  <style>\n",
              "    .colab-df-container {\n",
              "      display:flex;\n",
              "      flex-wrap:wrap;\n",
              "      gap: 12px;\n",
              "    }\n",
              "\n",
              "    .colab-df-convert {\n",
              "      background-color: #E8F0FE;\n",
              "      border: none;\n",
              "      border-radius: 50%;\n",
              "      cursor: pointer;\n",
              "      display: none;\n",
              "      fill: #1967D2;\n",
              "      height: 32px;\n",
              "      padding: 0 0 0 0;\n",
              "      width: 32px;\n",
              "    }\n",
              "\n",
              "    .colab-df-convert:hover {\n",
              "      background-color: #E2EBFA;\n",
              "      box-shadow: 0px 1px 2px rgba(60, 64, 67, 0.3), 0px 1px 3px 1px rgba(60, 64, 67, 0.15);\n",
              "      fill: #174EA6;\n",
              "    }\n",
              "\n",
              "    [theme=dark] .colab-df-convert {\n",
              "      background-color: #3B4455;\n",
              "      fill: #D2E3FC;\n",
              "    }\n",
              "\n",
              "    [theme=dark] .colab-df-convert:hover {\n",
              "      background-color: #434B5C;\n",
              "      box-shadow: 0px 1px 3px 1px rgba(0, 0, 0, 0.15);\n",
              "      filter: drop-shadow(0px 1px 2px rgba(0, 0, 0, 0.3));\n",
              "      fill: #FFFFFF;\n",
              "    }\n",
              "  </style>\n",
              "\n",
              "      <script>\n",
              "        const buttonEl =\n",
              "          document.querySelector('#df-0d95169a-10cc-4892-8ca3-f4ece2e2d83a button.colab-df-convert');\n",
              "        buttonEl.style.display =\n",
              "          google.colab.kernel.accessAllowed ? 'block' : 'none';\n",
              "\n",
              "        async function convertToInteractive(key) {\n",
              "          const element = document.querySelector('#df-0d95169a-10cc-4892-8ca3-f4ece2e2d83a');\n",
              "          const dataTable =\n",
              "            await google.colab.kernel.invokeFunction('convertToInteractive',\n",
              "                                                     [key], {});\n",
              "          if (!dataTable) return;\n",
              "\n",
              "          const docLinkHtml = 'Like what you see? Visit the ' +\n",
              "            '<a target=\"_blank\" href=https://colab.research.google.com/notebooks/data_table.ipynb>data table notebook</a>'\n",
              "            + ' to learn more about interactive tables.';\n",
              "          element.innerHTML = '';\n",
              "          dataTable['output_type'] = 'display_data';\n",
              "          await google.colab.output.renderOutput(dataTable, element);\n",
              "          const docLink = document.createElement('div');\n",
              "          docLink.innerHTML = docLinkHtml;\n",
              "          element.appendChild(docLink);\n",
              "        }\n",
              "      </script>\n",
              "    </div>\n",
              "  </div>\n",
              "  "
            ],
            "text/plain": [
              "     Balanced Accuracy  Precision    Recall        F1       auc\n",
              "XGB           0.905456   0.943262  0.810976  0.872131  0.999525"
            ]
          },
          "execution_count": 486,
=======
              "</div>"
            ],
            "text/plain": [
              "     Balanced Accuracy  Precision    Recall       F1       auc\n",
              "XGB           0.920855   0.961752  0.841753  0.89776  0.999075"
            ]
          },
          "execution_count": 32,
>>>>>>> flask
          "metadata": {},
          "output_type": "execute_result"
        }
      ],
      "source": [
        "xgb_results = ml_scores('XGB', y_test, y_pred,y_probs)\n",
        "xgb_results"
      ]
    },
    {
      "cell_type": "markdown",
      "metadata": {
        "hidden": true,
        "id": "25gJxlpv0uMl"
      },
      "source": [
        "### 6.4.1 Classification Report"
      ]
    },
    {
      "cell_type": "code",
      "execution_count": 33,
      "metadata": {
        "ExecuteTime": {
          "end_time": "2021-01-11T19:17:30.279678Z",
          "start_time": "2021-01-11T19:17:30.052006Z"
        },
        "colab": {
          "base_uri": "https://localhost:8080/"
        },
        "hidden": true,
        "id": "IYpiYB7Z0uMl",
        "outputId": "cfaf198c-fea5-441b-c7fe-924848481715"
      },
      "outputs": [
        {
          "name": "stdout",
          "output_type": "stream",
          "text": [
            "              precision    recall  f1-score   support\n",
            "\n",
            "           0       1.00      1.00      1.00   1270881\n",
            "           1       0.96      0.84      0.90      1643\n",
            "\n",
            "    accuracy                           1.00   1272524\n",
            "   macro avg       0.98      0.92      0.95   1272524\n",
            "weighted avg       1.00      1.00      1.00   1272524\n",
            "\n"
          ]
        }
      ],
      "source": [
        "print(classification_report(y_test, y_pred))"
      ]
    },
    {
      "cell_type": "markdown",
      "metadata": {
        "hidden": true,
        "id": "AOMnagDB0uMn"
      },
      "source": [
        "### 6.5  Performance"
      ]
    },
    {
      "cell_type": "code",
      "execution_count": null,
      "metadata": {
        "colab": {
          "base_uri": "https://localhost:8080/",
          "height": 175
        },
        "id": "NYyviPNaT1pr",
        "outputId": "51053dcd-477f-4d2d-d45b-9b5cf16dd9c3"
      },
      "outputs": [
        {
<<<<<<< HEAD
          "data": {
            "text/html": [
              "\n",
              "  <div id=\"df-386f85e4-1a87-4755-84a3-c3d7adbd4c35\">\n",
              "    <div class=\"colab-df-container\">\n",
              "      <div>\n",
              "<style scoped>\n",
              "    .dataframe tbody tr th:only-of-type {\n",
              "        vertical-align: middle;\n",
              "    }\n",
              "\n",
              "    .dataframe tbody tr th {\n",
              "        vertical-align: top;\n",
              "    }\n",
              "\n",
              "    .dataframe thead th {\n",
              "        text-align: right;\n",
              "    }\n",
              "</style>\n",
              "<table border=\"1\" class=\"dataframe\">\n",
              "  <thead>\n",
              "    <tr style=\"text-align: right;\">\n",
              "      <th></th>\n",
              "      <th>Balanced Accuracy</th>\n",
              "      <th>Precision</th>\n",
              "      <th>Recall</th>\n",
              "      <th>F1</th>\n",
              "      <th>auc</th>\n",
              "    </tr>\n",
              "  </thead>\n",
              "  <tbody>\n",
              "    <tr>\n",
              "      <th>XGB</th>\n",
              "      <td>0.905456</td>\n",
              "      <td>0.943262</td>\n",
              "      <td>0.810976</td>\n",
              "      <td>0.872131</td>\n",
              "      <td>0.999525</td>\n",
              "    </tr>\n",
              "    <tr>\n",
              "      <th>Random Forest</th>\n",
              "      <td>0.884135</td>\n",
              "      <td>0.976744</td>\n",
              "      <td>0.768293</td>\n",
              "      <td>0.860068</td>\n",
              "      <td>0.983481</td>\n",
              "    </tr>\n",
              "    <tr>\n",
              "      <th>Logistic Regression</th>\n",
              "      <td>0.594512</td>\n",
              "      <td>1.000000</td>\n",
              "      <td>0.189024</td>\n",
              "      <td>0.317949</td>\n",
              "      <td>0.914964</td>\n",
              "    </tr>\n",
              "    <tr>\n",
              "      <th>K Nearest Neighbors</th>\n",
              "      <td>0.628041</td>\n",
              "      <td>0.954545</td>\n",
              "      <td>0.256098</td>\n",
              "      <td>0.403846</td>\n",
              "      <td>0.764820</td>\n",
              "    </tr>\n",
              "  </tbody>\n",
              "</table>\n",
              "</div>\n",
              "      <button class=\"colab-df-convert\" onclick=\"convertToInteractive('df-386f85e4-1a87-4755-84a3-c3d7adbd4c35')\"\n",
              "              title=\"Convert this dataframe to an interactive table.\"\n",
              "              style=\"display:none;\">\n",
              "        \n",
              "  <svg xmlns=\"http://www.w3.org/2000/svg\" height=\"24px\"viewBox=\"0 0 24 24\"\n",
              "       width=\"24px\">\n",
              "    <path d=\"M0 0h24v24H0V0z\" fill=\"none\"/>\n",
              "    <path d=\"M18.56 5.44l.94 2.06.94-2.06 2.06-.94-2.06-.94-.94-2.06-.94 2.06-2.06.94zm-11 1L8.5 8.5l.94-2.06 2.06-.94-2.06-.94L8.5 2.5l-.94 2.06-2.06.94zm10 10l.94 2.06.94-2.06 2.06-.94-2.06-.94-.94-2.06-.94 2.06-2.06.94z\"/><path d=\"M17.41 7.96l-1.37-1.37c-.4-.4-.92-.59-1.43-.59-.52 0-1.04.2-1.43.59L10.3 9.45l-7.72 7.72c-.78.78-.78 2.05 0 2.83L4 21.41c.39.39.9.59 1.41.59.51 0 1.02-.2 1.41-.59l7.78-7.78 2.81-2.81c.8-.78.8-2.07 0-2.86zM5.41 20L4 18.59l7.72-7.72 1.47 1.35L5.41 20z\"/>\n",
              "  </svg>\n",
              "      </button>\n",
              "      \n",
              "  <style>\n",
              "    .colab-df-container {\n",
              "      display:flex;\n",
              "      flex-wrap:wrap;\n",
              "      gap: 12px;\n",
              "    }\n",
              "\n",
              "    .colab-df-convert {\n",
              "      background-color: #E8F0FE;\n",
              "      border: none;\n",
              "      border-radius: 50%;\n",
              "      cursor: pointer;\n",
              "      display: none;\n",
              "      fill: #1967D2;\n",
              "      height: 32px;\n",
              "      padding: 0 0 0 0;\n",
              "      width: 32px;\n",
              "    }\n",
              "\n",
              "    .colab-df-convert:hover {\n",
              "      background-color: #E2EBFA;\n",
              "      box-shadow: 0px 1px 2px rgba(60, 64, 67, 0.3), 0px 1px 3px 1px rgba(60, 64, 67, 0.15);\n",
              "      fill: #174EA6;\n",
              "    }\n",
              "\n",
              "    [theme=dark] .colab-df-convert {\n",
              "      background-color: #3B4455;\n",
              "      fill: #D2E3FC;\n",
              "    }\n",
              "\n",
              "    [theme=dark] .colab-df-convert:hover {\n",
              "      background-color: #434B5C;\n",
              "      box-shadow: 0px 1px 3px 1px rgba(0, 0, 0, 0.15);\n",
              "      filter: drop-shadow(0px 1px 2px rgba(0, 0, 0, 0.3));\n",
              "      fill: #FFFFFF;\n",
              "    }\n",
              "  </style>\n",
              "\n",
              "      <script>\n",
              "        const buttonEl =\n",
              "          document.querySelector('#df-386f85e4-1a87-4755-84a3-c3d7adbd4c35 button.colab-df-convert');\n",
              "        buttonEl.style.display =\n",
              "          google.colab.kernel.accessAllowed ? 'block' : 'none';\n",
              "\n",
              "        async function convertToInteractive(key) {\n",
              "          const element = document.querySelector('#df-386f85e4-1a87-4755-84a3-c3d7adbd4c35');\n",
              "          const dataTable =\n",
              "            await google.colab.kernel.invokeFunction('convertToInteractive',\n",
              "                                                     [key], {});\n",
              "          if (!dataTable) return;\n",
              "\n",
              "          const docLinkHtml = 'Like what you see? Visit the ' +\n",
              "            '<a target=\"_blank\" href=https://colab.research.google.com/notebooks/data_table.ipynb>data table notebook</a>'\n",
              "            + ' to learn more about interactive tables.';\n",
              "          element.innerHTML = '';\n",
              "          dataTable['output_type'] = 'display_data';\n",
              "          await google.colab.output.renderOutput(dataTable, element);\n",
              "          const docLink = document.createElement('div');\n",
              "          docLink.innerHTML = docLinkHtml;\n",
              "          element.appendChild(docLink);\n",
              "        }\n",
              "      </script>\n",
              "    </div>\n",
              "  </div>\n",
              "  "
            ],
            "text/plain": [
              "                     Balanced Accuracy  Precision    Recall        F1  \\\n",
              "XGB                           0.905456   0.943262  0.810976  0.872131   \n",
              "Random Forest                 0.884135   0.976744  0.768293  0.860068   \n",
              "Logistic Regression           0.594512   1.000000  0.189024  0.317949   \n",
              "K Nearest Neighbors           0.628041   0.954545  0.256098  0.403846   \n",
              "\n",
              "                          auc  \n",
              "XGB                  0.999525  \n",
              "Random Forest        0.983481  \n",
              "Logistic Regression  0.914964  \n",
              "K Nearest Neighbors  0.764820  "
            ]
          },
          "execution_count": 488,
          "metadata": {},
          "output_type": "execute_result"
=======
          "ename": "NameError",
          "evalue": "name 'knn_results' is not defined",
          "output_type": "error",
          "traceback": [
            "\u001b[0;31m---------------------------------------------------------------------------\u001b[0m",
            "\u001b[0;31mNameError\u001b[0m                                 Traceback (most recent call last)",
            "\u001b[1;32m/home/anant/Documents/onlinefraud/online_fraud.ipynb Cell 71\u001b[0m line \u001b[0;36m1\n\u001b[0;32m----> <a href='vscode-notebook-cell:/home/anant/Documents/onlinefraud/online_fraud.ipynb#Y130sZmlsZQ%3D%3D?line=0'>1</a>\u001b[0m modeling_performance \u001b[39m=\u001b[39m pd\u001b[39m.\u001b[39mconcat([lg_results, knn_results,rf_results, xgb_results,])\n\u001b[1;32m      <a href='vscode-notebook-cell:/home/anant/Documents/onlinefraud/online_fraud.ipynb#Y130sZmlsZQ%3D%3D?line=1'>2</a>\u001b[0m modeling_performance\u001b[39m.\u001b[39msort_values(by\u001b[39m=\u001b[39m\u001b[39m\"\u001b[39m\u001b[39mauc\u001b[39m\u001b[39m\"\u001b[39m, ascending\u001b[39m=\u001b[39m\u001b[39mFalse\u001b[39;00m)\n",
            "\u001b[0;31mNameError\u001b[0m: name 'knn_results' is not defined"
          ]
>>>>>>> flask
        }
      ],
      "source": [
        "modeling_performance = pd.concat([lg_results, knn_results,rf_results, xgb_results,])\n",
        "modeling_performance.sort_values(by=\"auc\", ascending=False)"
      ]
    },
    {
      "cell_type": "markdown",
      "metadata": {
        "heading_collapsed": true,
        "id": "IXIvs1rX0uMo"
      },
      "source": [
        "# 7.0 Hyperparameter Fine Tuning"
      ]
    },
    {
      "cell_type": "code",
      "execution_count": 34,
      "metadata": {
        "ExecuteTime": {
          "end_time": "2021-01-11T19:22:05.640133Z",
          "start_time": "2021-01-11T19:22:05.633309Z"
        },
        "hidden": true,
        "id": "8fsgS1uG0uMo"
      },
      "outputs": [],
      "source": [
        "auc = make_scorer(roc_auc_score)"
      ]
    },
    {
      "cell_type": "code",
      "execution_count": 35,
      "metadata": {
        "ExecuteTime": {
          "end_time": "2021-01-11T20:55:31.712716Z",
          "start_time": "2021-01-11T20:55:31.709317Z"
        },
        "hidden": true,
        "id": "cVRJqzqU0uMp"
      },
      "outputs": [],
      "source": [
        "best_params = {'booster': 'gbtree', 'eta': 0.3, 'scale_pos_weight': 1}"
      ]
    },
    {
      "cell_type": "markdown",
      "metadata": {
        "hidden": true,
        "id": "rE-ATrzh0uMp"
      },
      "source": [
        "## 8 Results"
      ]
    },
    {
      "cell_type": "code",
      "execution_count": 36,
      "metadata": {
        "ExecuteTime": {
          "end_time": "2021-01-11T20:55:31.724999Z",
          "start_time": "2021-01-11T20:55:31.722348Z"
        },
        "hidden": true,
        "id": "CmQpayl70uMp"
      },
      "outputs": [],
      "source": [
        "xgb_gs = XGBClassifier(\n",
        "    booster=best_params['booster'],\n",
        "    eta=best_params['eta'],\n",
        "    scale_pos_weight=best_params['scale_pos_weight']\n",
        ")"
      ]
    },
    {
      "cell_type": "code",
      "execution_count": 37,
      "metadata": {
        "ExecuteTime": {
          "end_time": "2021-01-11T20:55:52.745584Z",
          "start_time": "2021-01-11T20:55:31.726949Z"
        },
        "colab": {
          "base_uri": "https://localhost:8080/",
          "height": 248
        },
        "hidden": true,
        "id": "0hKNMm4c0uMp",
        "outputId": "c1c360be-cdee-4600-ee18-fc10906e6adb"
      },
      "outputs": [
        {
          "data": {
            "text/html": [
<<<<<<< HEAD
              "<style>#sk-container-id-11 {color: black;background-color: white;}#sk-container-id-11 pre{padding: 0;}#sk-container-id-11 div.sk-toggleable {background-color: white;}#sk-container-id-11 label.sk-toggleable__label {cursor: pointer;display: block;width: 100%;margin-bottom: 0;padding: 0.3em;box-sizing: border-box;text-align: center;}#sk-container-id-11 label.sk-toggleable__label-arrow:before {content: \"▸\";float: left;margin-right: 0.25em;color: #696969;}#sk-container-id-11 label.sk-toggleable__label-arrow:hover:before {color: black;}#sk-container-id-11 div.sk-estimator:hover label.sk-toggleable__label-arrow:before {color: black;}#sk-container-id-11 div.sk-toggleable__content {max-height: 0;max-width: 0;overflow: hidden;text-align: left;background-color: #f0f8ff;}#sk-container-id-11 div.sk-toggleable__content pre {margin: 0.2em;color: black;border-radius: 0.25em;background-color: #f0f8ff;}#sk-container-id-11 input.sk-toggleable__control:checked~div.sk-toggleable__content {max-height: 200px;max-width: 100%;overflow: auto;}#sk-container-id-11 input.sk-toggleable__control:checked~label.sk-toggleable__label-arrow:before {content: \"▾\";}#sk-container-id-11 div.sk-estimator input.sk-toggleable__control:checked~label.sk-toggleable__label {background-color: #d4ebff;}#sk-container-id-11 div.sk-label input.sk-toggleable__control:checked~label.sk-toggleable__label {background-color: #d4ebff;}#sk-container-id-11 input.sk-hidden--visually {border: 0;clip: rect(1px 1px 1px 1px);clip: rect(1px, 1px, 1px, 1px);height: 1px;margin: -1px;overflow: hidden;padding: 0;position: absolute;width: 1px;}#sk-container-id-11 div.sk-estimator {font-family: monospace;background-color: #f0f8ff;border: 1px dotted black;border-radius: 0.25em;box-sizing: border-box;margin-bottom: 0.5em;}#sk-container-id-11 div.sk-estimator:hover {background-color: #d4ebff;}#sk-container-id-11 div.sk-parallel-item::after {content: \"\";width: 100%;border-bottom: 1px solid gray;flex-grow: 1;}#sk-container-id-11 div.sk-label:hover label.sk-toggleable__label {background-color: #d4ebff;}#sk-container-id-11 div.sk-serial::before {content: \"\";position: absolute;border-left: 1px solid gray;box-sizing: border-box;top: 0;bottom: 0;left: 50%;z-index: 0;}#sk-container-id-11 div.sk-serial {display: flex;flex-direction: column;align-items: center;background-color: white;padding-right: 0.2em;padding-left: 0.2em;position: relative;}#sk-container-id-11 div.sk-item {position: relative;z-index: 1;}#sk-container-id-11 div.sk-parallel {display: flex;align-items: stretch;justify-content: center;background-color: white;position: relative;}#sk-container-id-11 div.sk-item::before, #sk-container-id-11 div.sk-parallel-item::before {content: \"\";position: absolute;border-left: 1px solid gray;box-sizing: border-box;top: 0;bottom: 0;left: 50%;z-index: -1;}#sk-container-id-11 div.sk-parallel-item {display: flex;flex-direction: column;z-index: 1;position: relative;background-color: white;}#sk-container-id-11 div.sk-parallel-item:first-child::after {align-self: flex-end;width: 50%;}#sk-container-id-11 div.sk-parallel-item:last-child::after {align-self: flex-start;width: 50%;}#sk-container-id-11 div.sk-parallel-item:only-child::after {width: 0;}#sk-container-id-11 div.sk-dashed-wrapped {border: 1px dashed gray;margin: 0 0.4em 0.5em 0.4em;box-sizing: border-box;padding-bottom: 0.4em;background-color: white;}#sk-container-id-11 div.sk-label label {font-family: monospace;font-weight: bold;display: inline-block;line-height: 1.2em;}#sk-container-id-11 div.sk-label-container {text-align: center;}#sk-container-id-11 div.sk-container {/* jupyter's `normalize.less` sets `[hidden] { display: none; }` but bootstrap.min.css set `[hidden] { display: none !important; }` so we also need the `!important` here to be able to override the default hidden behavior on the sphinx rendered scikit-learn.org. See: https://github.com/scikit-learn/scikit-learn/issues/21755 */display: inline-block !important;position: relative;}#sk-container-id-11 div.sk-text-repr-fallback {display: none;}</style><div id=\"sk-container-id-11\" class=\"sk-top-container\"><div class=\"sk-text-repr-fallback\"><pre>XGBClassifier(base_score=None, booster=&#x27;gbtree&#x27;, callbacks=None,\n",
              "              colsample_bylevel=None, colsample_bynode=None,\n",
              "              colsample_bytree=None, early_stopping_rounds=None,\n",
              "              enable_categorical=False, eta=0.3, eval_metric=None,\n",
              "              feature_types=None, gamma=None, gpu_id=None, grow_policy=None,\n",
=======
              "<style>#sk-container-id-1 {color: black;}#sk-container-id-1 pre{padding: 0;}#sk-container-id-1 div.sk-toggleable {background-color: white;}#sk-container-id-1 label.sk-toggleable__label {cursor: pointer;display: block;width: 100%;margin-bottom: 0;padding: 0.3em;box-sizing: border-box;text-align: center;}#sk-container-id-1 label.sk-toggleable__label-arrow:before {content: \"▸\";float: left;margin-right: 0.25em;color: #696969;}#sk-container-id-1 label.sk-toggleable__label-arrow:hover:before {color: black;}#sk-container-id-1 div.sk-estimator:hover label.sk-toggleable__label-arrow:before {color: black;}#sk-container-id-1 div.sk-toggleable__content {max-height: 0;max-width: 0;overflow: hidden;text-align: left;background-color: #f0f8ff;}#sk-container-id-1 div.sk-toggleable__content pre {margin: 0.2em;color: black;border-radius: 0.25em;background-color: #f0f8ff;}#sk-container-id-1 input.sk-toggleable__control:checked~div.sk-toggleable__content {max-height: 200px;max-width: 100%;overflow: auto;}#sk-container-id-1 input.sk-toggleable__control:checked~label.sk-toggleable__label-arrow:before {content: \"▾\";}#sk-container-id-1 div.sk-estimator input.sk-toggleable__control:checked~label.sk-toggleable__label {background-color: #d4ebff;}#sk-container-id-1 div.sk-label input.sk-toggleable__control:checked~label.sk-toggleable__label {background-color: #d4ebff;}#sk-container-id-1 input.sk-hidden--visually {border: 0;clip: rect(1px 1px 1px 1px);clip: rect(1px, 1px, 1px, 1px);height: 1px;margin: -1px;overflow: hidden;padding: 0;position: absolute;width: 1px;}#sk-container-id-1 div.sk-estimator {font-family: monospace;background-color: #f0f8ff;border: 1px dotted black;border-radius: 0.25em;box-sizing: border-box;margin-bottom: 0.5em;}#sk-container-id-1 div.sk-estimator:hover {background-color: #d4ebff;}#sk-container-id-1 div.sk-parallel-item::after {content: \"\";width: 100%;border-bottom: 1px solid gray;flex-grow: 1;}#sk-container-id-1 div.sk-label:hover label.sk-toggleable__label {background-color: #d4ebff;}#sk-container-id-1 div.sk-serial::before {content: \"\";position: absolute;border-left: 1px solid gray;box-sizing: border-box;top: 0;bottom: 0;left: 50%;z-index: 0;}#sk-container-id-1 div.sk-serial {display: flex;flex-direction: column;align-items: center;background-color: white;padding-right: 0.2em;padding-left: 0.2em;position: relative;}#sk-container-id-1 div.sk-item {position: relative;z-index: 1;}#sk-container-id-1 div.sk-parallel {display: flex;align-items: stretch;justify-content: center;background-color: white;position: relative;}#sk-container-id-1 div.sk-item::before, #sk-container-id-1 div.sk-parallel-item::before {content: \"\";position: absolute;border-left: 1px solid gray;box-sizing: border-box;top: 0;bottom: 0;left: 50%;z-index: -1;}#sk-container-id-1 div.sk-parallel-item {display: flex;flex-direction: column;z-index: 1;position: relative;background-color: white;}#sk-container-id-1 div.sk-parallel-item:first-child::after {align-self: flex-end;width: 50%;}#sk-container-id-1 div.sk-parallel-item:last-child::after {align-self: flex-start;width: 50%;}#sk-container-id-1 div.sk-parallel-item:only-child::after {width: 0;}#sk-container-id-1 div.sk-dashed-wrapped {border: 1px dashed gray;margin: 0 0.4em 0.5em 0.4em;box-sizing: border-box;padding-bottom: 0.4em;background-color: white;}#sk-container-id-1 div.sk-label label {font-family: monospace;font-weight: bold;display: inline-block;line-height: 1.2em;}#sk-container-id-1 div.sk-label-container {text-align: center;}#sk-container-id-1 div.sk-container {/* jupyter's `normalize.less` sets `[hidden] { display: none; }` but bootstrap.min.css set `[hidden] { display: none !important; }` so we also need the `!important` here to be able to override the default hidden behavior on the sphinx rendered scikit-learn.org. See: https://github.com/scikit-learn/scikit-learn/issues/21755 */display: inline-block !important;position: relative;}#sk-container-id-1 div.sk-text-repr-fallback {display: none;}</style><div id=\"sk-container-id-1\" class=\"sk-top-container\"><div class=\"sk-text-repr-fallback\"><pre>XGBClassifier(base_score=None, booster=&#x27;gbtree&#x27;, callbacks=None,\n",
              "              colsample_bylevel=None, colsample_bynode=None,\n",
              "              colsample_bytree=None, device=None, early_stopping_rounds=None,\n",
              "              enable_categorical=False, eta=0.3, eval_metric=None,\n",
              "              feature_types=None, gamma=None, grow_policy=None,\n",
>>>>>>> flask
              "              importance_type=None, interaction_constraints=None,\n",
              "              learning_rate=None, max_bin=None, max_cat_threshold=None,\n",
              "              max_cat_to_onehot=None, max_delta_step=None, max_depth=None,\n",
              "              max_leaves=None, min_child_weight=None, missing=nan,\n",
<<<<<<< HEAD
              "              monotone_constraints=None, n_estimators=100, n_jobs=None,\n",
              "              num_parallel_tree=None, predictor=None, ...)</pre><b>In a Jupyter environment, please rerun this cell to show the HTML representation or trust the notebook. <br />On GitHub, the HTML representation is unable to render, please try loading this page with nbviewer.org.</b></div><div class=\"sk-container\" hidden><div class=\"sk-item\"><div class=\"sk-estimator sk-toggleable\"><input class=\"sk-toggleable__control sk-hidden--visually\" id=\"sk-estimator-id-11\" type=\"checkbox\" checked><label for=\"sk-estimator-id-11\" class=\"sk-toggleable__label sk-toggleable__label-arrow\">XGBClassifier</label><div class=\"sk-toggleable__content\"><pre>XGBClassifier(base_score=None, booster=&#x27;gbtree&#x27;, callbacks=None,\n",
              "              colsample_bylevel=None, colsample_bynode=None,\n",
              "              colsample_bytree=None, early_stopping_rounds=None,\n",
              "              enable_categorical=False, eta=0.3, eval_metric=None,\n",
              "              feature_types=None, gamma=None, gpu_id=None, grow_policy=None,\n",
=======
              "              monotone_constraints=None, multi_strategy=None, n_estimators=None,\n",
              "              n_jobs=None, num_parallel_tree=None, ...)</pre><b>In a Jupyter environment, please rerun this cell to show the HTML representation or trust the notebook. <br />On GitHub, the HTML representation is unable to render, please try loading this page with nbviewer.org.</b></div><div class=\"sk-container\" hidden><div class=\"sk-item\"><div class=\"sk-estimator sk-toggleable\"><input class=\"sk-toggleable__control sk-hidden--visually\" id=\"sk-estimator-id-1\" type=\"checkbox\" checked><label for=\"sk-estimator-id-1\" class=\"sk-toggleable__label sk-toggleable__label-arrow\">XGBClassifier</label><div class=\"sk-toggleable__content\"><pre>XGBClassifier(base_score=None, booster=&#x27;gbtree&#x27;, callbacks=None,\n",
              "              colsample_bylevel=None, colsample_bynode=None,\n",
              "              colsample_bytree=None, device=None, early_stopping_rounds=None,\n",
              "              enable_categorical=False, eta=0.3, eval_metric=None,\n",
              "              feature_types=None, gamma=None, grow_policy=None,\n",
>>>>>>> flask
              "              importance_type=None, interaction_constraints=None,\n",
              "              learning_rate=None, max_bin=None, max_cat_threshold=None,\n",
              "              max_cat_to_onehot=None, max_delta_step=None, max_depth=None,\n",
              "              max_leaves=None, min_child_weight=None, missing=nan,\n",
<<<<<<< HEAD
              "              monotone_constraints=None, n_estimators=100, n_jobs=None,\n",
              "              num_parallel_tree=None, predictor=None, ...)</pre></div></div></div></div></div>"
=======
              "              monotone_constraints=None, multi_strategy=None, n_estimators=None,\n",
              "              n_jobs=None, num_parallel_tree=None, ...)</pre></div></div></div></div></div>"
>>>>>>> flask
            ],
            "text/plain": [
              "XGBClassifier(base_score=None, booster='gbtree', callbacks=None,\n",
              "              colsample_bylevel=None, colsample_bynode=None,\n",
<<<<<<< HEAD
              "              colsample_bytree=None, early_stopping_rounds=None,\n",
              "              enable_categorical=False, eta=0.3, eval_metric=None,\n",
              "              feature_types=None, gamma=None, gpu_id=None, grow_policy=None,\n",
=======
              "              colsample_bytree=None, device=None, early_stopping_rounds=None,\n",
              "              enable_categorical=False, eta=0.3, eval_metric=None,\n",
              "              feature_types=None, gamma=None, grow_policy=None,\n",
>>>>>>> flask
              "              importance_type=None, interaction_constraints=None,\n",
              "              learning_rate=None, max_bin=None, max_cat_threshold=None,\n",
              "              max_cat_to_onehot=None, max_delta_step=None, max_depth=None,\n",
              "              max_leaves=None, min_child_weight=None, missing=nan,\n",
<<<<<<< HEAD
              "              monotone_constraints=None, n_estimators=100, n_jobs=None,\n",
              "              num_parallel_tree=None, predictor=None, ...)"
            ]
          },
          "execution_count": 492,
=======
              "              monotone_constraints=None, multi_strategy=None, n_estimators=None,\n",
              "              n_jobs=None, num_parallel_tree=None, ...)"
            ]
          },
          "execution_count": 37,
>>>>>>> flask
          "metadata": {},
          "output_type": "execute_result"
        }
      ],
      "source": [
        "xgb_gs.fit(X_train_cs, y_train)"
      ]
    },
    {
      "cell_type": "code",
      "execution_count": 38,
      "metadata": {
        "ExecuteTime": {
          "end_time": "2021-01-11T20:55:53.028663Z",
          "start_time": "2021-01-11T20:55:52.747809Z"
        },
        "colab": {
          "base_uri": "https://localhost:8080/"
        },
        "hidden": true,
        "id": "6f0ZtJ3S0uMq",
        "outputId": "c5687dc0-1621-4569-b262-35066f7a6a43"
      },
      "outputs": [
        {
          "name": "stdout",
          "output_type": "stream",
          "text": [
            "0.9998085946638132\n"
          ]
        }
      ],
      "source": [
        "y_pred = xgb_gs.predict(X_train_cs)\n",
        "probs = xgb_gs.predict_proba(X_train_cs)\n",
        "print(roc_auc_score(y_train, probs[:,1]))"
      ]
    },
    {
      "cell_type": "markdown",
      "metadata": {
        "heading_collapsed": true,
        "id": "OxaGTqtZ0uMq"
      },
      "source": [
        "# 9.0 Conclusions"
      ]
    },
    {
      "cell_type": "markdown",
      "metadata": {
        "hidden": true,
        "id": "7A6_zsQU0uMq"
      },
      "source": [
        "## 9.1 Final Model"
      ]
    },
    {
      "cell_type": "code",
      "execution_count": 39,
      "metadata": {
        "ExecuteTime": {
          "end_time": "2021-01-11T21:05:56.929387Z",
          "start_time": "2021-01-11T21:05:24.082949Z"
        },
        "colab": {
          "base_uri": "https://localhost:8080/",
          "height": 248
        },
        "hidden": true,
        "id": "e4l8WGOv0uMv",
        "outputId": "c9e87fd5-118d-47e1-a9e2-5d5e2d3009f7"
      },
      "outputs": [
        {
          "data": {
            "text/html": [
<<<<<<< HEAD
              "<style>#sk-container-id-12 {color: black;background-color: white;}#sk-container-id-12 pre{padding: 0;}#sk-container-id-12 div.sk-toggleable {background-color: white;}#sk-container-id-12 label.sk-toggleable__label {cursor: pointer;display: block;width: 100%;margin-bottom: 0;padding: 0.3em;box-sizing: border-box;text-align: center;}#sk-container-id-12 label.sk-toggleable__label-arrow:before {content: \"▸\";float: left;margin-right: 0.25em;color: #696969;}#sk-container-id-12 label.sk-toggleable__label-arrow:hover:before {color: black;}#sk-container-id-12 div.sk-estimator:hover label.sk-toggleable__label-arrow:before {color: black;}#sk-container-id-12 div.sk-toggleable__content {max-height: 0;max-width: 0;overflow: hidden;text-align: left;background-color: #f0f8ff;}#sk-container-id-12 div.sk-toggleable__content pre {margin: 0.2em;color: black;border-radius: 0.25em;background-color: #f0f8ff;}#sk-container-id-12 input.sk-toggleable__control:checked~div.sk-toggleable__content {max-height: 200px;max-width: 100%;overflow: auto;}#sk-container-id-12 input.sk-toggleable__control:checked~label.sk-toggleable__label-arrow:before {content: \"▾\";}#sk-container-id-12 div.sk-estimator input.sk-toggleable__control:checked~label.sk-toggleable__label {background-color: #d4ebff;}#sk-container-id-12 div.sk-label input.sk-toggleable__control:checked~label.sk-toggleable__label {background-color: #d4ebff;}#sk-container-id-12 input.sk-hidden--visually {border: 0;clip: rect(1px 1px 1px 1px);clip: rect(1px, 1px, 1px, 1px);height: 1px;margin: -1px;overflow: hidden;padding: 0;position: absolute;width: 1px;}#sk-container-id-12 div.sk-estimator {font-family: monospace;background-color: #f0f8ff;border: 1px dotted black;border-radius: 0.25em;box-sizing: border-box;margin-bottom: 0.5em;}#sk-container-id-12 div.sk-estimator:hover {background-color: #d4ebff;}#sk-container-id-12 div.sk-parallel-item::after {content: \"\";width: 100%;border-bottom: 1px solid gray;flex-grow: 1;}#sk-container-id-12 div.sk-label:hover label.sk-toggleable__label {background-color: #d4ebff;}#sk-container-id-12 div.sk-serial::before {content: \"\";position: absolute;border-left: 1px solid gray;box-sizing: border-box;top: 0;bottom: 0;left: 50%;z-index: 0;}#sk-container-id-12 div.sk-serial {display: flex;flex-direction: column;align-items: center;background-color: white;padding-right: 0.2em;padding-left: 0.2em;position: relative;}#sk-container-id-12 div.sk-item {position: relative;z-index: 1;}#sk-container-id-12 div.sk-parallel {display: flex;align-items: stretch;justify-content: center;background-color: white;position: relative;}#sk-container-id-12 div.sk-item::before, #sk-container-id-12 div.sk-parallel-item::before {content: \"\";position: absolute;border-left: 1px solid gray;box-sizing: border-box;top: 0;bottom: 0;left: 50%;z-index: -1;}#sk-container-id-12 div.sk-parallel-item {display: flex;flex-direction: column;z-index: 1;position: relative;background-color: white;}#sk-container-id-12 div.sk-parallel-item:first-child::after {align-self: flex-end;width: 50%;}#sk-container-id-12 div.sk-parallel-item:last-child::after {align-self: flex-start;width: 50%;}#sk-container-id-12 div.sk-parallel-item:only-child::after {width: 0;}#sk-container-id-12 div.sk-dashed-wrapped {border: 1px dashed gray;margin: 0 0.4em 0.5em 0.4em;box-sizing: border-box;padding-bottom: 0.4em;background-color: white;}#sk-container-id-12 div.sk-label label {font-family: monospace;font-weight: bold;display: inline-block;line-height: 1.2em;}#sk-container-id-12 div.sk-label-container {text-align: center;}#sk-container-id-12 div.sk-container {/* jupyter's `normalize.less` sets `[hidden] { display: none; }` but bootstrap.min.css set `[hidden] { display: none !important; }` so we also need the `!important` here to be able to override the default hidden behavior on the sphinx rendered scikit-learn.org. See: https://github.com/scikit-learn/scikit-learn/issues/21755 */display: inline-block !important;position: relative;}#sk-container-id-12 div.sk-text-repr-fallback {display: none;}</style><div id=\"sk-container-id-12\" class=\"sk-top-container\"><div class=\"sk-text-repr-fallback\"><pre>XGBClassifier(base_score=None, booster=&#x27;gbtree&#x27;, callbacks=None,\n",
              "              colsample_bylevel=None, colsample_bynode=None,\n",
              "              colsample_bytree=None, early_stopping_rounds=None,\n",
              "              enable_categorical=False, eta=0.3, eval_metric=None,\n",
              "              feature_types=None, gamma=None, gpu_id=None, grow_policy=None,\n",
=======
              "<style>#sk-container-id-2 {color: black;}#sk-container-id-2 pre{padding: 0;}#sk-container-id-2 div.sk-toggleable {background-color: white;}#sk-container-id-2 label.sk-toggleable__label {cursor: pointer;display: block;width: 100%;margin-bottom: 0;padding: 0.3em;box-sizing: border-box;text-align: center;}#sk-container-id-2 label.sk-toggleable__label-arrow:before {content: \"▸\";float: left;margin-right: 0.25em;color: #696969;}#sk-container-id-2 label.sk-toggleable__label-arrow:hover:before {color: black;}#sk-container-id-2 div.sk-estimator:hover label.sk-toggleable__label-arrow:before {color: black;}#sk-container-id-2 div.sk-toggleable__content {max-height: 0;max-width: 0;overflow: hidden;text-align: left;background-color: #f0f8ff;}#sk-container-id-2 div.sk-toggleable__content pre {margin: 0.2em;color: black;border-radius: 0.25em;background-color: #f0f8ff;}#sk-container-id-2 input.sk-toggleable__control:checked~div.sk-toggleable__content {max-height: 200px;max-width: 100%;overflow: auto;}#sk-container-id-2 input.sk-toggleable__control:checked~label.sk-toggleable__label-arrow:before {content: \"▾\";}#sk-container-id-2 div.sk-estimator input.sk-toggleable__control:checked~label.sk-toggleable__label {background-color: #d4ebff;}#sk-container-id-2 div.sk-label input.sk-toggleable__control:checked~label.sk-toggleable__label {background-color: #d4ebff;}#sk-container-id-2 input.sk-hidden--visually {border: 0;clip: rect(1px 1px 1px 1px);clip: rect(1px, 1px, 1px, 1px);height: 1px;margin: -1px;overflow: hidden;padding: 0;position: absolute;width: 1px;}#sk-container-id-2 div.sk-estimator {font-family: monospace;background-color: #f0f8ff;border: 1px dotted black;border-radius: 0.25em;box-sizing: border-box;margin-bottom: 0.5em;}#sk-container-id-2 div.sk-estimator:hover {background-color: #d4ebff;}#sk-container-id-2 div.sk-parallel-item::after {content: \"\";width: 100%;border-bottom: 1px solid gray;flex-grow: 1;}#sk-container-id-2 div.sk-label:hover label.sk-toggleable__label {background-color: #d4ebff;}#sk-container-id-2 div.sk-serial::before {content: \"\";position: absolute;border-left: 1px solid gray;box-sizing: border-box;top: 0;bottom: 0;left: 50%;z-index: 0;}#sk-container-id-2 div.sk-serial {display: flex;flex-direction: column;align-items: center;background-color: white;padding-right: 0.2em;padding-left: 0.2em;position: relative;}#sk-container-id-2 div.sk-item {position: relative;z-index: 1;}#sk-container-id-2 div.sk-parallel {display: flex;align-items: stretch;justify-content: center;background-color: white;position: relative;}#sk-container-id-2 div.sk-item::before, #sk-container-id-2 div.sk-parallel-item::before {content: \"\";position: absolute;border-left: 1px solid gray;box-sizing: border-box;top: 0;bottom: 0;left: 50%;z-index: -1;}#sk-container-id-2 div.sk-parallel-item {display: flex;flex-direction: column;z-index: 1;position: relative;background-color: white;}#sk-container-id-2 div.sk-parallel-item:first-child::after {align-self: flex-end;width: 50%;}#sk-container-id-2 div.sk-parallel-item:last-child::after {align-self: flex-start;width: 50%;}#sk-container-id-2 div.sk-parallel-item:only-child::after {width: 0;}#sk-container-id-2 div.sk-dashed-wrapped {border: 1px dashed gray;margin: 0 0.4em 0.5em 0.4em;box-sizing: border-box;padding-bottom: 0.4em;background-color: white;}#sk-container-id-2 div.sk-label label {font-family: monospace;font-weight: bold;display: inline-block;line-height: 1.2em;}#sk-container-id-2 div.sk-label-container {text-align: center;}#sk-container-id-2 div.sk-container {/* jupyter's `normalize.less` sets `[hidden] { display: none; }` but bootstrap.min.css set `[hidden] { display: none !important; }` so we also need the `!important` here to be able to override the default hidden behavior on the sphinx rendered scikit-learn.org. See: https://github.com/scikit-learn/scikit-learn/issues/21755 */display: inline-block !important;position: relative;}#sk-container-id-2 div.sk-text-repr-fallback {display: none;}</style><div id=\"sk-container-id-2\" class=\"sk-top-container\"><div class=\"sk-text-repr-fallback\"><pre>XGBClassifier(base_score=None, booster=&#x27;gbtree&#x27;, callbacks=None,\n",
              "              colsample_bylevel=None, colsample_bynode=None,\n",
              "              colsample_bytree=None, device=None, early_stopping_rounds=None,\n",
              "              enable_categorical=False, eta=0.3, eval_metric=None,\n",
              "              feature_types=None, gamma=None, grow_policy=None,\n",
>>>>>>> flask
              "              importance_type=None, interaction_constraints=None,\n",
              "              learning_rate=None, max_bin=None, max_cat_threshold=None,\n",
              "              max_cat_to_onehot=None, max_delta_step=None, max_depth=None,\n",
              "              max_leaves=None, min_child_weight=None, missing=nan,\n",
<<<<<<< HEAD
              "              monotone_constraints=None, n_estimators=100, n_jobs=None,\n",
              "              num_parallel_tree=None, predictor=None, ...)</pre><b>In a Jupyter environment, please rerun this cell to show the HTML representation or trust the notebook. <br />On GitHub, the HTML representation is unable to render, please try loading this page with nbviewer.org.</b></div><div class=\"sk-container\" hidden><div class=\"sk-item\"><div class=\"sk-estimator sk-toggleable\"><input class=\"sk-toggleable__control sk-hidden--visually\" id=\"sk-estimator-id-12\" type=\"checkbox\" checked><label for=\"sk-estimator-id-12\" class=\"sk-toggleable__label sk-toggleable__label-arrow\">XGBClassifier</label><div class=\"sk-toggleable__content\"><pre>XGBClassifier(base_score=None, booster=&#x27;gbtree&#x27;, callbacks=None,\n",
              "              colsample_bylevel=None, colsample_bynode=None,\n",
              "              colsample_bytree=None, early_stopping_rounds=None,\n",
              "              enable_categorical=False, eta=0.3, eval_metric=None,\n",
              "              feature_types=None, gamma=None, gpu_id=None, grow_policy=None,\n",
=======
              "              monotone_constraints=None, multi_strategy=None, n_estimators=None,\n",
              "              n_jobs=None, num_parallel_tree=None, ...)</pre><b>In a Jupyter environment, please rerun this cell to show the HTML representation or trust the notebook. <br />On GitHub, the HTML representation is unable to render, please try loading this page with nbviewer.org.</b></div><div class=\"sk-container\" hidden><div class=\"sk-item\"><div class=\"sk-estimator sk-toggleable\"><input class=\"sk-toggleable__control sk-hidden--visually\" id=\"sk-estimator-id-2\" type=\"checkbox\" checked><label for=\"sk-estimator-id-2\" class=\"sk-toggleable__label sk-toggleable__label-arrow\">XGBClassifier</label><div class=\"sk-toggleable__content\"><pre>XGBClassifier(base_score=None, booster=&#x27;gbtree&#x27;, callbacks=None,\n",
              "              colsample_bylevel=None, colsample_bynode=None,\n",
              "              colsample_bytree=None, device=None, early_stopping_rounds=None,\n",
              "              enable_categorical=False, eta=0.3, eval_metric=None,\n",
              "              feature_types=None, gamma=None, grow_policy=None,\n",
>>>>>>> flask
              "              importance_type=None, interaction_constraints=None,\n",
              "              learning_rate=None, max_bin=None, max_cat_threshold=None,\n",
              "              max_cat_to_onehot=None, max_delta_step=None, max_depth=None,\n",
              "              max_leaves=None, min_child_weight=None, missing=nan,\n",
<<<<<<< HEAD
              "              monotone_constraints=None, n_estimators=100, n_jobs=None,\n",
              "              num_parallel_tree=None, predictor=None, ...)</pre></div></div></div></div></div>"
=======
              "              monotone_constraints=None, multi_strategy=None, n_estimators=None,\n",
              "              n_jobs=None, num_parallel_tree=None, ...)</pre></div></div></div></div></div>"
>>>>>>> flask
            ],
            "text/plain": [
              "XGBClassifier(base_score=None, booster='gbtree', callbacks=None,\n",
              "              colsample_bylevel=None, colsample_bynode=None,\n",
<<<<<<< HEAD
              "              colsample_bytree=None, early_stopping_rounds=None,\n",
              "              enable_categorical=False, eta=0.3, eval_metric=None,\n",
              "              feature_types=None, gamma=None, gpu_id=None, grow_policy=None,\n",
=======
              "              colsample_bytree=None, device=None, early_stopping_rounds=None,\n",
              "              enable_categorical=False, eta=0.3, eval_metric=None,\n",
              "              feature_types=None, gamma=None, grow_policy=None,\n",
>>>>>>> flask
              "              importance_type=None, interaction_constraints=None,\n",
              "              learning_rate=None, max_bin=None, max_cat_threshold=None,\n",
              "              max_cat_to_onehot=None, max_delta_step=None, max_depth=None,\n",
              "              max_leaves=None, min_child_weight=None, missing=nan,\n",
<<<<<<< HEAD
              "              monotone_constraints=None, n_estimators=100, n_jobs=None,\n",
              "              num_parallel_tree=None, predictor=None, ...)"
            ]
          },
          "execution_count": 494,
=======
              "              monotone_constraints=None, multi_strategy=None, n_estimators=None,\n",
              "              n_jobs=None, num_parallel_tree=None, ...)"
            ]
          },
          "execution_count": 39,
>>>>>>> flask
          "metadata": {},
          "output_type": "execute_result"
        }
      ],
      "source": [
        "final_model = XGBClassifier(\n",
        "    booster=best_params['booster'],\n",
        "    eta=best_params['eta'],\n",
        "    scale_pos_weight=best_params['scale_pos_weight']\n",
        ")\n",
        "\n",
        "final_model.fit(X_params_cs, y_train)\n",
        "\n"
      ]
    },
    {
      "cell_type": "code",
<<<<<<< HEAD
      "execution_count": null,
=======
      "execution_count": 40,
>>>>>>> flask
      "metadata": {
        "colab": {
          "base_uri": "https://localhost:8080/"
        },
        "id": "5wdYGMyPBGp5",
        "outputId": "8e2ba6f8-0a2b-474b-cbda-24387b747dca"
      },
      "outputs": [
        {
          "data": {
            "text/plain": [
              "['model_cycle1.joblib']"
            ]
          },
<<<<<<< HEAD
          "execution_count": 495,
=======
          "execution_count": 40,
>>>>>>> flask
          "metadata": {},
          "output_type": "execute_result"
        }
      ],
      "source": [
        "joblib.dump(final_model, 'model_cycle1.joblib')"
<<<<<<< HEAD
=======
      ]
    },
    {
      "cell_type": "code",
      "execution_count": 41,
      "metadata": {},
      "outputs": [
        {
          "data": {
            "text/plain": [
              "['minmaxscaler_cycle1.joblib']"
            ]
          },
          "execution_count": 41,
          "metadata": {},
          "output_type": "execute_result"
        }
      ],
      "source": []
    },
    {
      "cell_type": "code",
      "execution_count": 42,
      "metadata": {},
      "outputs": [
        {
          "data": {
            "text/plain": [
              "['onehotencoder_cycle1.joblib']"
            ]
          },
          "execution_count": 42,
          "metadata": {},
          "output_type": "execute_result"
        }
      ],
      "source": [
        "joblib.dump(ohe, 'onehotencoder_cycle1.joblib')"
>>>>>>> flask
      ]
    },
    {
      "cell_type": "markdown",
      "metadata": {
        "id": "hcfd4XeywSNO"
      },
      "source": [
        "# 10 Validating Results"
      ]
    },
    {
      "cell_type": "markdown",
      "metadata": {
        "id": "RJ76SFRQ2Ep_"
      },
      "source": [
        "# 10.1 Undersampling\n"
      ]
    },
    {
      "cell_type": "code",
      "execution_count": null,
      "metadata": {
        "colab": {
          "base_uri": "https://localhost:8080/",
          "height": 488
        },
        "id": "7yt8SsEtwF6m",
        "outputId": "b42a945e-3751-4203-b6d1-d6ce2c5936fd"
      },
      "outputs": [
        {
<<<<<<< HEAD
          "data": {
            "text/html": [
              "\n",
              "  <div id=\"df-a73d0379-cb7b-4b97-940d-d4455e242814\">\n",
              "    <div class=\"colab-df-container\">\n",
              "      <div>\n",
              "<style scoped>\n",
              "    .dataframe tbody tr th:only-of-type {\n",
              "        vertical-align: middle;\n",
              "    }\n",
              "\n",
              "    .dataframe tbody tr th {\n",
              "        vertical-align: top;\n",
              "    }\n",
              "\n",
              "    .dataframe thead th {\n",
              "        text-align: right;\n",
              "    }\n",
              "</style>\n",
              "<table border=\"1\" class=\"dataframe\">\n",
              "  <thead>\n",
              "    <tr style=\"text-align: right;\">\n",
              "      <th></th>\n",
              "      <th>step</th>\n",
              "      <th>type</th>\n",
              "      <th>amount</th>\n",
              "      <th>name_orig</th>\n",
              "      <th>oldbalance_org</th>\n",
              "      <th>newbalance_orig</th>\n",
              "      <th>name_dest</th>\n",
              "      <th>oldbalance_dest</th>\n",
              "      <th>newbalance_dest</th>\n",
              "      <th>is_fraud</th>\n",
              "      <th>is_flagged_fraud</th>\n",
              "      <th>step_days</th>\n",
              "      <th>step_weeks</th>\n",
              "      <th>diff_new_old_balance</th>\n",
              "      <th>diff_new_old_destiny</th>\n",
              "    </tr>\n",
              "  </thead>\n",
              "  <tbody>\n",
              "    <tr>\n",
              "      <th>0</th>\n",
              "      <td>283</td>\n",
              "      <td>CASH_IN</td>\n",
              "      <td>210329.84</td>\n",
              "      <td>C</td>\n",
              "      <td>3778062.79</td>\n",
              "      <td>3988392.64</td>\n",
              "      <td>C</td>\n",
              "      <td>1519266.60</td>\n",
              "      <td>1308936.76</td>\n",
              "      <td>0</td>\n",
              "      <td>0</td>\n",
              "      <td>11.791667</td>\n",
              "      <td>1.684524</td>\n",
              "      <td>210329.85</td>\n",
              "      <td>-210329.84</td>\n",
              "    </tr>\n",
              "    <tr>\n",
              "      <th>1</th>\n",
              "      <td>132</td>\n",
              "      <td>CASH_OUT</td>\n",
              "      <td>215489.19</td>\n",
              "      <td>C</td>\n",
              "      <td>21518.00</td>\n",
              "      <td>0.00</td>\n",
              "      <td>C</td>\n",
              "      <td>6345756.55</td>\n",
              "      <td>6794954.89</td>\n",
              "      <td>0</td>\n",
              "      <td>0</td>\n",
              "      <td>5.500000</td>\n",
              "      <td>0.785714</td>\n",
              "      <td>-21518.00</td>\n",
              "      <td>449198.34</td>\n",
              "    </tr>\n",
              "    <tr>\n",
              "      <th>2</th>\n",
              "      <td>355</td>\n",
              "      <td>DEBIT</td>\n",
              "      <td>4431.05</td>\n",
              "      <td>C</td>\n",
              "      <td>20674.00</td>\n",
              "      <td>16242.95</td>\n",
              "      <td>C</td>\n",
              "      <td>80876.56</td>\n",
              "      <td>85307.61</td>\n",
              "      <td>0</td>\n",
              "      <td>0</td>\n",
              "      <td>14.791667</td>\n",
              "      <td>2.113095</td>\n",
              "      <td>-4431.05</td>\n",
              "      <td>4431.05</td>\n",
              "    </tr>\n",
              "    <tr>\n",
              "      <th>3</th>\n",
              "      <td>135</td>\n",
              "      <td>CASH_OUT</td>\n",
              "      <td>214026.20</td>\n",
              "      <td>C</td>\n",
              "      <td>46909.73</td>\n",
              "      <td>0.00</td>\n",
              "      <td>C</td>\n",
              "      <td>13467450.36</td>\n",
              "      <td>13681476.56</td>\n",
              "      <td>0</td>\n",
              "      <td>0</td>\n",
              "      <td>5.625000</td>\n",
              "      <td>0.803571</td>\n",
              "      <td>-46909.73</td>\n",
              "      <td>214026.20</td>\n",
              "    </tr>\n",
              "    <tr>\n",
              "      <th>4</th>\n",
              "      <td>381</td>\n",
              "      <td>CASH_OUT</td>\n",
              "      <td>8858.45</td>\n",
              "      <td>C</td>\n",
              "      <td>0.00</td>\n",
              "      <td>0.00</td>\n",
              "      <td>C</td>\n",
              "      <td>1667180.58</td>\n",
              "      <td>1676039.03</td>\n",
              "      <td>0</td>\n",
              "      <td>0</td>\n",
              "      <td>15.875000</td>\n",
              "      <td>2.267857</td>\n",
              "      <td>0.00</td>\n",
              "      <td>8858.45</td>\n",
              "    </tr>\n",
              "    <tr>\n",
              "      <th>...</th>\n",
              "      <td>...</td>\n",
              "      <td>...</td>\n",
              "      <td>...</td>\n",
              "      <td>...</td>\n",
              "      <td>...</td>\n",
              "      <td>...</td>\n",
              "      <td>...</td>\n",
              "      <td>...</td>\n",
              "      <td>...</td>\n",
              "      <td>...</td>\n",
              "      <td>...</td>\n",
              "      <td>...</td>\n",
              "      <td>...</td>\n",
              "      <td>...</td>\n",
              "      <td>...</td>\n",
              "    </tr>\n",
              "    <tr>\n",
              "      <th>636257</th>\n",
              "      <td>351</td>\n",
              "      <td>CASH_OUT</td>\n",
              "      <td>28761.10</td>\n",
              "      <td>C</td>\n",
              "      <td>0.00</td>\n",
              "      <td>0.00</td>\n",
              "      <td>C</td>\n",
              "      <td>328534.52</td>\n",
              "      <td>357295.62</td>\n",
              "      <td>0</td>\n",
              "      <td>0</td>\n",
              "      <td>14.625000</td>\n",
              "      <td>2.089286</td>\n",
              "      <td>0.00</td>\n",
              "      <td>28761.10</td>\n",
              "    </tr>\n",
              "    <tr>\n",
              "      <th>636258</th>\n",
              "      <td>184</td>\n",
              "      <td>CASH_OUT</td>\n",
              "      <td>167820.71</td>\n",
              "      <td>C</td>\n",
              "      <td>62265.00</td>\n",
              "      <td>0.00</td>\n",
              "      <td>C</td>\n",
              "      <td>106429.48</td>\n",
              "      <td>274250.18</td>\n",
              "      <td>0</td>\n",
              "      <td>0</td>\n",
              "      <td>7.666667</td>\n",
              "      <td>1.095238</td>\n",
              "      <td>-62265.00</td>\n",
              "      <td>167820.70</td>\n",
              "    </tr>\n",
              "    <tr>\n",
              "      <th>636259</th>\n",
              "      <td>35</td>\n",
              "      <td>PAYMENT</td>\n",
              "      <td>8898.12</td>\n",
              "      <td>C</td>\n",
              "      <td>30808.00</td>\n",
              "      <td>21909.88</td>\n",
              "      <td>M</td>\n",
              "      <td>0.00</td>\n",
              "      <td>0.00</td>\n",
              "      <td>0</td>\n",
              "      <td>0</td>\n",
              "      <td>1.458333</td>\n",
              "      <td>0.208333</td>\n",
              "      <td>-8898.12</td>\n",
              "      <td>0.00</td>\n",
              "    </tr>\n",
              "    <tr>\n",
              "      <th>636260</th>\n",
              "      <td>277</td>\n",
              "      <td>CASH_OUT</td>\n",
              "      <td>176147.90</td>\n",
              "      <td>C</td>\n",
              "      <td>83669.00</td>\n",
              "      <td>0.00</td>\n",
              "      <td>C</td>\n",
              "      <td>0.00</td>\n",
              "      <td>176147.90</td>\n",
              "      <td>0</td>\n",
              "      <td>0</td>\n",
              "      <td>11.541667</td>\n",
              "      <td>1.648810</td>\n",
              "      <td>-83669.00</td>\n",
              "      <td>176147.90</td>\n",
              "    </tr>\n",
              "    <tr>\n",
              "      <th>636261</th>\n",
              "      <td>304</td>\n",
              "      <td>CASH_OUT</td>\n",
              "      <td>95142.89</td>\n",
              "      <td>C</td>\n",
              "      <td>0.00</td>\n",
              "      <td>0.00</td>\n",
              "      <td>C</td>\n",
              "      <td>431380.07</td>\n",
              "      <td>526522.96</td>\n",
              "      <td>0</td>\n",
              "      <td>0</td>\n",
              "      <td>12.666667</td>\n",
              "      <td>1.809524</td>\n",
              "      <td>0.00</td>\n",
              "      <td>95142.89</td>\n",
              "    </tr>\n",
              "  </tbody>\n",
              "</table>\n",
              "<p>636262 rows × 15 columns</p>\n",
              "</div>\n",
              "      <button class=\"colab-df-convert\" onclick=\"convertToInteractive('df-a73d0379-cb7b-4b97-940d-d4455e242814')\"\n",
              "              title=\"Convert this dataframe to an interactive table.\"\n",
              "              style=\"display:none;\">\n",
              "        \n",
              "  <svg xmlns=\"http://www.w3.org/2000/svg\" height=\"24px\"viewBox=\"0 0 24 24\"\n",
              "       width=\"24px\">\n",
              "    <path d=\"M0 0h24v24H0V0z\" fill=\"none\"/>\n",
              "    <path d=\"M18.56 5.44l.94 2.06.94-2.06 2.06-.94-2.06-.94-.94-2.06-.94 2.06-2.06.94zm-11 1L8.5 8.5l.94-2.06 2.06-.94-2.06-.94L8.5 2.5l-.94 2.06-2.06.94zm10 10l.94 2.06.94-2.06 2.06-.94-2.06-.94-.94-2.06-.94 2.06-2.06.94z\"/><path d=\"M17.41 7.96l-1.37-1.37c-.4-.4-.92-.59-1.43-.59-.52 0-1.04.2-1.43.59L10.3 9.45l-7.72 7.72c-.78.78-.78 2.05 0 2.83L4 21.41c.39.39.9.59 1.41.59.51 0 1.02-.2 1.41-.59l7.78-7.78 2.81-2.81c.8-.78.8-2.07 0-2.86zM5.41 20L4 18.59l7.72-7.72 1.47 1.35L5.41 20z\"/>\n",
              "  </svg>\n",
              "      </button>\n",
              "      \n",
              "  <style>\n",
              "    .colab-df-container {\n",
              "      display:flex;\n",
              "      flex-wrap:wrap;\n",
              "      gap: 12px;\n",
              "    }\n",
              "\n",
              "    .colab-df-convert {\n",
              "      background-color: #E8F0FE;\n",
              "      border: none;\n",
              "      border-radius: 50%;\n",
              "      cursor: pointer;\n",
              "      display: none;\n",
              "      fill: #1967D2;\n",
              "      height: 32px;\n",
              "      padding: 0 0 0 0;\n",
              "      width: 32px;\n",
              "    }\n",
              "\n",
              "    .colab-df-convert:hover {\n",
              "      background-color: #E2EBFA;\n",
              "      box-shadow: 0px 1px 2px rgba(60, 64, 67, 0.3), 0px 1px 3px 1px rgba(60, 64, 67, 0.15);\n",
              "      fill: #174EA6;\n",
              "    }\n",
              "\n",
              "    [theme=dark] .colab-df-convert {\n",
              "      background-color: #3B4455;\n",
              "      fill: #D2E3FC;\n",
              "    }\n",
              "\n",
              "    [theme=dark] .colab-df-convert:hover {\n",
              "      background-color: #434B5C;\n",
              "      box-shadow: 0px 1px 3px 1px rgba(0, 0, 0, 0.15);\n",
              "      filter: drop-shadow(0px 1px 2px rgba(0, 0, 0, 0.3));\n",
              "      fill: #FFFFFF;\n",
              "    }\n",
              "  </style>\n",
              "\n",
              "      <script>\n",
              "        const buttonEl =\n",
              "          document.querySelector('#df-a73d0379-cb7b-4b97-940d-d4455e242814 button.colab-df-convert');\n",
              "        buttonEl.style.display =\n",
              "          google.colab.kernel.accessAllowed ? 'block' : 'none';\n",
              "\n",
              "        async function convertToInteractive(key) {\n",
              "          const element = document.querySelector('#df-a73d0379-cb7b-4b97-940d-d4455e242814');\n",
              "          const dataTable =\n",
              "            await google.colab.kernel.invokeFunction('convertToInteractive',\n",
              "                                                     [key], {});\n",
              "          if (!dataTable) return;\n",
              "\n",
              "          const docLinkHtml = 'Like what you see? Visit the ' +\n",
              "            '<a target=\"_blank\" href=https://colab.research.google.com/notebooks/data_table.ipynb>data table notebook</a>'\n",
              "            + ' to learn more about interactive tables.';\n",
              "          element.innerHTML = '';\n",
              "          dataTable['output_type'] = 'display_data';\n",
              "          await google.colab.output.renderOutput(dataTable, element);\n",
              "          const docLink = document.createElement('div');\n",
              "          docLink.innerHTML = docLinkHtml;\n",
              "          element.appendChild(docLink);\n",
              "        }\n",
              "      </script>\n",
              "    </div>\n",
              "  </div>\n",
              "  "
            ],
            "text/plain": [
              "        step      type     amount name_orig  oldbalance_org  newbalance_orig  \\\n",
              "0        283   CASH_IN  210329.84         C      3778062.79       3988392.64   \n",
              "1        132  CASH_OUT  215489.19         C        21518.00             0.00   \n",
              "2        355     DEBIT    4431.05         C        20674.00         16242.95   \n",
              "3        135  CASH_OUT  214026.20         C        46909.73             0.00   \n",
              "4        381  CASH_OUT    8858.45         C            0.00             0.00   \n",
              "...      ...       ...        ...       ...             ...              ...   \n",
              "636257   351  CASH_OUT   28761.10         C            0.00             0.00   \n",
              "636258   184  CASH_OUT  167820.71         C        62265.00             0.00   \n",
              "636259    35   PAYMENT    8898.12         C        30808.00         21909.88   \n",
              "636260   277  CASH_OUT  176147.90         C        83669.00             0.00   \n",
              "636261   304  CASH_OUT   95142.89         C            0.00             0.00   \n",
              "\n",
              "       name_dest  oldbalance_dest  newbalance_dest  is_fraud  \\\n",
              "0              C       1519266.60       1308936.76         0   \n",
              "1              C       6345756.55       6794954.89         0   \n",
              "2              C         80876.56         85307.61         0   \n",
              "3              C      13467450.36      13681476.56         0   \n",
              "4              C       1667180.58       1676039.03         0   \n",
              "...          ...              ...              ...       ...   \n",
              "636257         C        328534.52        357295.62         0   \n",
              "636258         C        106429.48        274250.18         0   \n",
              "636259         M             0.00             0.00         0   \n",
              "636260         C             0.00        176147.90         0   \n",
              "636261         C        431380.07        526522.96         0   \n",
              "\n",
              "        is_flagged_fraud  step_days  step_weeks  diff_new_old_balance  \\\n",
              "0                      0  11.791667    1.684524             210329.85   \n",
              "1                      0   5.500000    0.785714             -21518.00   \n",
              "2                      0  14.791667    2.113095              -4431.05   \n",
              "3                      0   5.625000    0.803571             -46909.73   \n",
              "4                      0  15.875000    2.267857                  0.00   \n",
              "...                  ...        ...         ...                   ...   \n",
              "636257                 0  14.625000    2.089286                  0.00   \n",
              "636258                 0   7.666667    1.095238             -62265.00   \n",
              "636259                 0   1.458333    0.208333              -8898.12   \n",
              "636260                 0  11.541667    1.648810             -83669.00   \n",
              "636261                 0  12.666667    1.809524                  0.00   \n",
              "\n",
              "        diff_new_old_destiny  \n",
              "0                 -210329.84  \n",
              "1                  449198.34  \n",
              "2                    4431.05  \n",
              "3                  214026.20  \n",
              "4                    8858.45  \n",
              "...                      ...  \n",
              "636257              28761.10  \n",
              "636258             167820.70  \n",
              "636259                  0.00  \n",
              "636260             176147.90  \n",
              "636261              95142.89  \n",
              "\n",
              "[636262 rows x 15 columns]"
            ]
          },
          "execution_count": 496,
          "metadata": {},
          "output_type": "execute_result"
        }
      ],
      "source": [
        "df10 = df4.copy()\n",
        "df10"
=======
          "ename": "NameError",
          "evalue": "name 'df4' is not defined",
          "output_type": "error",
          "traceback": [
            "\u001b[0;31m---------------------------------------------------------------------------\u001b[0m",
            "\u001b[0;31mNameError\u001b[0m                                 Traceback (most recent call last)",
            "\u001b[1;32m/home/anant/Documents/onlinefraud/online_fraud.ipynb Cell 85\u001b[0m line \u001b[0;36m1\n\u001b[0;32m----> <a href='vscode-notebook-cell:/home/anant/Documents/onlinefraud/online_fraud.ipynb#Y150sZmlsZQ%3D%3D?line=0'>1</a>\u001b[0m df10 \u001b[39m=\u001b[39m df4\u001b[39m.\u001b[39mcopy()\n",
            "\u001b[0;31mNameError\u001b[0m: name 'df4' is not defined"
          ]
        }
      ],
      "source": [
        "df10 = df4.copy()"
>>>>>>> flask
      ]
    },
    {
      "cell_type": "code",
      "execution_count": null,
      "metadata": {
        "id": "lZu9MGSNwg2z"
      },
      "outputs": [],
      "source": [
        "\n",
        "\n",
        "Fraudulent_Transaction = df10[df10.is_fraud ==1]\n",
        "Not_Fraudulent_Transaction = df10[df10.is_fraud ==0]"
      ]
    },
    {
      "cell_type": "code",
      "execution_count": null,
      "metadata": {
        "colab": {
          "base_uri": "https://localhost:8080/"
        },
        "id": "qNRB7WbP66Lg",
        "outputId": "26dffb15-ca02-4148-87cb-8612b4719a9c"
      },
      "outputs": [
        {
          "name": "stdout",
          "output_type": "stream",
          "text": [
            "Fraudulent Transaction: 821\n",
            "Not Fraudulent Transaction: 635441\n"
          ]
        }
      ],
      "source": [
        "print('Fraudulent Transaction: {}'.format(len(Fraudulent_Transaction)))\n",
        "print('Not Fraudulent Transaction: {}'.format(len(Not_Fraudulent_Transaction)))\n"
      ]
    },
    {
      "cell_type": "markdown",
      "metadata": {
        "id": "bgjxsbvS2HfE"
      },
      "source": [
        "Building a sample dataset containing similar distribution of Non Fraudulent transactions and Fraudulent transactions. This rectifies the class-imbalance and helps our machine learning model to perform better predictions.\n",
        "\n",
        "Since we want to build a model that detects Fraud, we base our sampling on the number of transactions classed as fraudulent in our original dataset.\n",
        "\n",
        "Fraudulent transactions: 8213"
      ]
    },
    {
      "cell_type": "code",
      "execution_count": null,
      "metadata": {
        "id": "o_SGwD3O7Bg2"
      },
      "outputs": [],
      "source": [
        "Non_Fraudulent_Sample = Not_Fraudulent_Transaction.sample(n=8213)"
      ]
    },
    {
      "cell_type": "code",
      "execution_count": null,
      "metadata": {
        "id": "KfXg6Xec7F6d"
      },
      "outputs": [],
      "source": [
        "df10= pd.concat([Non_Fraudulent_Sample, Fraudulent_Transaction], axis=0)"
      ]
    },
    {
      "cell_type": "code",
      "execution_count": null,
      "metadata": {
        "colab": {
          "base_uri": "https://localhost:8080/",
          "height": 364
        },
        "id": "fY70hGrD7NfZ",
        "outputId": "fffa0d68-f69d-4135-8bf3-594fc402ab61"
      },
      "outputs": [
        {
          "data": {
            "text/html": [
              "\n",
              "  <div id=\"df-e2e7946c-8a8b-4d4a-b060-d337bbc3eaf3\">\n",
              "    <div class=\"colab-df-container\">\n",
              "      <div>\n",
              "<style scoped>\n",
              "    .dataframe tbody tr th:only-of-type {\n",
              "        vertical-align: middle;\n",
              "    }\n",
              "\n",
              "    .dataframe tbody tr th {\n",
              "        vertical-align: top;\n",
              "    }\n",
              "\n",
              "    .dataframe thead th {\n",
              "        text-align: right;\n",
              "    }\n",
              "</style>\n",
              "<table border=\"1\" class=\"dataframe\">\n",
              "  <thead>\n",
              "    <tr style=\"text-align: right;\">\n",
              "      <th></th>\n",
              "      <th>step</th>\n",
              "      <th>amount</th>\n",
              "      <th>oldbalance_org</th>\n",
              "      <th>newbalance_orig</th>\n",
              "      <th>oldbalance_dest</th>\n",
              "      <th>newbalance_dest</th>\n",
              "      <th>is_fraud</th>\n",
              "      <th>is_flagged_fraud</th>\n",
              "      <th>step_days</th>\n",
              "      <th>step_weeks</th>\n",
              "      <th>diff_new_old_balance</th>\n",
              "      <th>diff_new_old_destiny</th>\n",
              "    </tr>\n",
              "  </thead>\n",
              "  <tbody>\n",
              "    <tr>\n",
              "      <th>count</th>\n",
              "      <td>9034.000000</td>\n",
              "      <td>9.034000e+03</td>\n",
              "      <td>9.034000e+03</td>\n",
              "      <td>9.034000e+03</td>\n",
              "      <td>9.034000e+03</td>\n",
              "      <td>9.034000e+03</td>\n",
              "      <td>9034.000000</td>\n",
              "      <td>9034.000000</td>\n",
              "      <td>9034.000000</td>\n",
              "      <td>9034.000000</td>\n",
              "      <td>9.034000e+03</td>\n",
              "      <td>9.034000e+03</td>\n",
              "    </tr>\n",
              "    <tr>\n",
              "      <th>mean</th>\n",
              "      <td>254.158291</td>\n",
              "      <td>2.952740e+05</td>\n",
              "      <td>8.856966e+05</td>\n",
              "      <td>7.781284e+05</td>\n",
              "      <td>1.050647e+06</td>\n",
              "      <td>1.226529e+06</td>\n",
              "      <td>0.090879</td>\n",
              "      <td>0.000221</td>\n",
              "      <td>10.589929</td>\n",
              "      <td>1.512847</td>\n",
              "      <td>-1.075682e+05</td>\n",
              "      <td>1.758823e+05</td>\n",
              "    </tr>\n",
              "    <tr>\n",
              "      <th>std</th>\n",
              "      <td>154.137225</td>\n",
              "      <td>1.029081e+06</td>\n",
              "      <td>2.892204e+06</td>\n",
              "      <td>2.786457e+06</td>\n",
              "      <td>3.330859e+06</td>\n",
              "      <td>3.657424e+06</td>\n",
              "      <td>0.287453</td>\n",
              "      <td>0.014878</td>\n",
              "      <td>6.422384</td>\n",
              "      <td>0.917483</td>\n",
              "      <td>8.409452e+05</td>\n",
              "      <td>9.033622e+05</td>\n",
              "    </tr>\n",
              "    <tr>\n",
              "      <th>min</th>\n",
              "      <td>1.000000</td>\n",
              "      <td>0.000000e+00</td>\n",
              "      <td>0.000000e+00</td>\n",
              "      <td>0.000000e+00</td>\n",
              "      <td>0.000000e+00</td>\n",
              "      <td>0.000000e+00</td>\n",
              "      <td>0.000000</td>\n",
              "      <td>0.000000</td>\n",
              "      <td>0.041667</td>\n",
              "      <td>0.005952</td>\n",
              "      <td>-1.000000e+07</td>\n",
              "      <td>-2.172566e+06</td>\n",
              "    </tr>\n",
              "    <tr>\n",
              "      <th>25%</th>\n",
              "      <td>155.000000</td>\n",
              "      <td>1.554872e+04</td>\n",
              "      <td>0.000000e+00</td>\n",
              "      <td>0.000000e+00</td>\n",
              "      <td>0.000000e+00</td>\n",
              "      <td>0.000000e+00</td>\n",
              "      <td>0.000000</td>\n",
              "      <td>0.000000</td>\n",
              "      <td>6.458333</td>\n",
              "      <td>0.922619</td>\n",
              "      <td>-1.626171e+04</td>\n",
              "      <td>0.000000e+00</td>\n",
              "    </tr>\n",
              "    <tr>\n",
              "      <th>50%</th>\n",
              "      <td>252.000000</td>\n",
              "      <td>9.007549e+04</td>\n",
              "      <td>2.010300e+04</td>\n",
              "      <td>0.000000e+00</td>\n",
              "      <td>7.734059e+04</td>\n",
              "      <td>1.864069e+05</td>\n",
              "      <td>0.000000</td>\n",
              "      <td>0.000000</td>\n",
              "      <td>10.500000</td>\n",
              "      <td>1.500000</td>\n",
              "      <td>-4.695500e+01</td>\n",
              "      <td>0.000000e+00</td>\n",
              "    </tr>\n",
              "    <tr>\n",
              "      <th>75%</th>\n",
              "      <td>351.000000</td>\n",
              "      <td>2.354676e+05</td>\n",
              "      <td>1.798264e+05</td>\n",
              "      <td>1.106282e+05</td>\n",
              "      <td>8.881773e+05</td>\n",
              "      <td>1.122655e+06</td>\n",
              "      <td>0.000000</td>\n",
              "      <td>0.000000</td>\n",
              "      <td>14.625000</td>\n",
              "      <td>2.089286</td>\n",
              "      <td>0.000000e+00</td>\n",
              "      <td>1.551661e+05</td>\n",
              "    </tr>\n",
              "    <tr>\n",
              "      <th>max</th>\n",
              "      <td>742.000000</td>\n",
              "      <td>3.239349e+07</td>\n",
              "      <td>3.767004e+07</td>\n",
              "      <td>3.439305e+07</td>\n",
              "      <td>1.390260e+08</td>\n",
              "      <td>1.426189e+08</td>\n",
              "      <td>1.000000</td>\n",
              "      <td>1.000000</td>\n",
              "      <td>30.916667</td>\n",
              "      <td>4.416667</td>\n",
              "      <td>7.847283e+05</td>\n",
              "      <td>3.239349e+07</td>\n",
              "    </tr>\n",
              "  </tbody>\n",
              "</table>\n",
              "</div>\n",
              "      <button class=\"colab-df-convert\" onclick=\"convertToInteractive('df-e2e7946c-8a8b-4d4a-b060-d337bbc3eaf3')\"\n",
              "              title=\"Convert this dataframe to an interactive table.\"\n",
              "              style=\"display:none;\">\n",
              "        \n",
              "  <svg xmlns=\"http://www.w3.org/2000/svg\" height=\"24px\"viewBox=\"0 0 24 24\"\n",
              "       width=\"24px\">\n",
              "    <path d=\"M0 0h24v24H0V0z\" fill=\"none\"/>\n",
              "    <path d=\"M18.56 5.44l.94 2.06.94-2.06 2.06-.94-2.06-.94-.94-2.06-.94 2.06-2.06.94zm-11 1L8.5 8.5l.94-2.06 2.06-.94-2.06-.94L8.5 2.5l-.94 2.06-2.06.94zm10 10l.94 2.06.94-2.06 2.06-.94-2.06-.94-.94-2.06-.94 2.06-2.06.94z\"/><path d=\"M17.41 7.96l-1.37-1.37c-.4-.4-.92-.59-1.43-.59-.52 0-1.04.2-1.43.59L10.3 9.45l-7.72 7.72c-.78.78-.78 2.05 0 2.83L4 21.41c.39.39.9.59 1.41.59.51 0 1.02-.2 1.41-.59l7.78-7.78 2.81-2.81c.8-.78.8-2.07 0-2.86zM5.41 20L4 18.59l7.72-7.72 1.47 1.35L5.41 20z\"/>\n",
              "  </svg>\n",
              "      </button>\n",
              "      \n",
              "  <style>\n",
              "    .colab-df-container {\n",
              "      display:flex;\n",
              "      flex-wrap:wrap;\n",
              "      gap: 12px;\n",
              "    }\n",
              "\n",
              "    .colab-df-convert {\n",
              "      background-color: #E8F0FE;\n",
              "      border: none;\n",
              "      border-radius: 50%;\n",
              "      cursor: pointer;\n",
              "      display: none;\n",
              "      fill: #1967D2;\n",
              "      height: 32px;\n",
              "      padding: 0 0 0 0;\n",
              "      width: 32px;\n",
              "    }\n",
              "\n",
              "    .colab-df-convert:hover {\n",
              "      background-color: #E2EBFA;\n",
              "      box-shadow: 0px 1px 2px rgba(60, 64, 67, 0.3), 0px 1px 3px 1px rgba(60, 64, 67, 0.15);\n",
              "      fill: #174EA6;\n",
              "    }\n",
              "\n",
              "    [theme=dark] .colab-df-convert {\n",
              "      background-color: #3B4455;\n",
              "      fill: #D2E3FC;\n",
              "    }\n",
              "\n",
              "    [theme=dark] .colab-df-convert:hover {\n",
              "      background-color: #434B5C;\n",
              "      box-shadow: 0px 1px 3px 1px rgba(0, 0, 0, 0.15);\n",
              "      filter: drop-shadow(0px 1px 2px rgba(0, 0, 0, 0.3));\n",
              "      fill: #FFFFFF;\n",
              "    }\n",
              "  </style>\n",
              "\n",
              "      <script>\n",
              "        const buttonEl =\n",
              "          document.querySelector('#df-e2e7946c-8a8b-4d4a-b060-d337bbc3eaf3 button.colab-df-convert');\n",
              "        buttonEl.style.display =\n",
              "          google.colab.kernel.accessAllowed ? 'block' : 'none';\n",
              "\n",
              "        async function convertToInteractive(key) {\n",
              "          const element = document.querySelector('#df-e2e7946c-8a8b-4d4a-b060-d337bbc3eaf3');\n",
              "          const dataTable =\n",
              "            await google.colab.kernel.invokeFunction('convertToInteractive',\n",
              "                                                     [key], {});\n",
              "          if (!dataTable) return;\n",
              "\n",
              "          const docLinkHtml = 'Like what you see? Visit the ' +\n",
              "            '<a target=\"_blank\" href=https://colab.research.google.com/notebooks/data_table.ipynb>data table notebook</a>'\n",
              "            + ' to learn more about interactive tables.';\n",
              "          element.innerHTML = '';\n",
              "          dataTable['output_type'] = 'display_data';\n",
              "          await google.colab.output.renderOutput(dataTable, element);\n",
              "          const docLink = document.createElement('div');\n",
              "          docLink.innerHTML = docLinkHtml;\n",
              "          element.appendChild(docLink);\n",
              "        }\n",
              "      </script>\n",
              "    </div>\n",
              "  </div>\n",
              "  "
            ],
            "text/plain": [
              "              step        amount  oldbalance_org  newbalance_orig  \\\n",
              "count  9034.000000  9.034000e+03    9.034000e+03     9.034000e+03   \n",
              "mean    254.158291  2.952740e+05    8.856966e+05     7.781284e+05   \n",
              "std     154.137225  1.029081e+06    2.892204e+06     2.786457e+06   \n",
              "min       1.000000  0.000000e+00    0.000000e+00     0.000000e+00   \n",
              "25%     155.000000  1.554872e+04    0.000000e+00     0.000000e+00   \n",
              "50%     252.000000  9.007549e+04    2.010300e+04     0.000000e+00   \n",
              "75%     351.000000  2.354676e+05    1.798264e+05     1.106282e+05   \n",
              "max     742.000000  3.239349e+07    3.767004e+07     3.439305e+07   \n",
              "\n",
              "       oldbalance_dest  newbalance_dest     is_fraud  is_flagged_fraud  \\\n",
              "count     9.034000e+03     9.034000e+03  9034.000000       9034.000000   \n",
              "mean      1.050647e+06     1.226529e+06     0.090879          0.000221   \n",
              "std       3.330859e+06     3.657424e+06     0.287453          0.014878   \n",
              "min       0.000000e+00     0.000000e+00     0.000000          0.000000   \n",
              "25%       0.000000e+00     0.000000e+00     0.000000          0.000000   \n",
              "50%       7.734059e+04     1.864069e+05     0.000000          0.000000   \n",
              "75%       8.881773e+05     1.122655e+06     0.000000          0.000000   \n",
              "max       1.390260e+08     1.426189e+08     1.000000          1.000000   \n",
              "\n",
              "         step_days   step_weeks  diff_new_old_balance  diff_new_old_destiny  \n",
              "count  9034.000000  9034.000000          9.034000e+03          9.034000e+03  \n",
              "mean     10.589929     1.512847         -1.075682e+05          1.758823e+05  \n",
              "std       6.422384     0.917483          8.409452e+05          9.033622e+05  \n",
              "min       0.041667     0.005952         -1.000000e+07         -2.172566e+06  \n",
              "25%       6.458333     0.922619         -1.626171e+04          0.000000e+00  \n",
              "50%      10.500000     1.500000         -4.695500e+01          0.000000e+00  \n",
              "75%      14.625000     2.089286          0.000000e+00          1.551661e+05  \n",
              "max      30.916667     4.416667          7.847283e+05          3.239349e+07  "
            ]
          },
          "execution_count": 501,
          "metadata": {},
          "output_type": "execute_result"
        }
      ],
      "source": [
        "df10.describe()"
      ]
    },
    {
      "cell_type": "markdown",
      "metadata": {
        "id": "j5lul5wv_zU6"
      },
      "source": [
        "### 10.1.1 Data Preprocessing"
      ]
    },
    {
      "cell_type": "code",
      "execution_count": null,
      "metadata": {
        "id": "EhRFa4W37dTR"
      },
      "outputs": [],
      "source": [
        "y = df10['is_fraud']\n",
        "X = df10.drop(columns=['is_fraud', 'is_flagged_fraud', 'name_orig', 'name_dest',\n",
        "                      'step_weeks', 'step_days'], axis=1)"
      ]
    },
    {
      "cell_type": "markdown",
      "metadata": {
        "id": "5vWi4CXP_6E_"
      },
      "source": [
        "Train Test Split, one hot encoder and Rescaling"
      ]
    },
    {
      "cell_type": "code",
      "execution_count": null,
      "metadata": {
        "id": "eBi8dGDe7vRB"
      },
      "outputs": [],
      "source": [
        "# spliting into train and test\n",
        "X_train, X_test, y_train, y_test = train_test_split(X, y, test_size=.2, stratify=y)\n",
        "\n",
        "ohe = OneHotEncoder(cols=['type'], use_cat_names=True)\n",
        "\n",
        "X_train = ohe.fit_transform(X_train)\n",
        "X_test = ohe.transform(X_test)\n",
        "\n",
        "num_columns = ['amount', 'oldbalance_org', 'newbalance_orig', 'oldbalance_dest', 'newbalance_dest',\n",
        "               'diff_new_old_balance', 'diff_new_old_destiny']\n",
        "mm = MinMaxScaler()\n",
        "X_params = X_train.copy()\n",
        "\n",
        "X_train[num_columns] = mm.fit_transform(X_train[num_columns])\n",
        "X_test[num_columns] = mm.transform(X_test[num_columns])\n",
        "\n",
        "X_params[num_columns] = mm.fit_transform(X_train[num_columns])\n",
        "X_test[num_columns] = mm.transform(X_test[num_columns])"
      ]
    },
    {
      "cell_type": "code",
      "execution_count": null,
      "metadata": {
        "id": "-wa9-Q3u7wBW"
      },
      "outputs": [],
      "source": [
        "final_columns_selected = ['step', 'oldbalance_org',\n",
        "                          'newbalance_orig', 'newbalance_dest',\n",
        "                          'diff_new_old_balance', 'diff_new_old_destiny',\n",
        "                          'type_TRANSFER']"
      ]
    },
    {
      "cell_type": "code",
      "execution_count": null,
      "metadata": {
        "id": "orq31kLn8Lq9"
      },
      "outputs": [],
      "source": [
        "X_train_cs = X_train[final_columns_selected]\n",
        "\n",
        "X_test_cs = X_test[final_columns_selected]\n",
        "\n",
        "X_params_cs = X_params[final_columns_selected]"
      ]
    },
    {
      "cell_type": "markdown",
      "metadata": {
        "id": "Kgc4Z2FZAHCf"
      },
      "source": [
        "## 10.1.2 Loading the model"
      ]
    },
    {
      "cell_type": "code",
<<<<<<< HEAD
      "execution_count": null,
=======
      "execution_count": 2,
>>>>>>> flask
      "metadata": {
        "id": "etkTxFRc8MOp"
      },
      "outputs": [],
      "source": [
<<<<<<< HEAD
        "model = joblib.load('models/model_cycle1.joblib')"
=======
        "import joblib\n",
        "model = joblib.load('model_cycle1.joblib')"
>>>>>>> flask
      ]
    },
    {
      "cell_type": "code",
<<<<<<< HEAD
=======
      "execution_count": 25,
      "metadata": {},
      "outputs": [
        {
          "name": "stdout",
          "output_type": "stream",
          "text": [
            "[[0.3, 0.1, 0.2, 0.3, 0.1, 0.0, 0]]\n"
          ]
        }
      ],
      "source": [
        "def json_to_values_array(json_data):\n",
        "    values_array = [list(row.values()) for row in json_data]\n",
        "    return values_array\n",
        "\n",
        "# Example usage:\n",
        "json_data = [\n",
        "    {\n",
        "        \"step\": 0.3,\n",
        "        \"oldbalance_org\": 0.1,\n",
        "        \"newbalance_orig\": 0.2,\n",
        "        \"newbalance_dest\": 0.3,\n",
        "        \"diff_new_old_balance\": 0.1,\n",
        "        \"diff_new_old_destiny\": 0.0,\n",
        "        \"type_TRANSFER\": 0\n",
        "    }\n",
        "]\n",
        "\n",
        "result_array = json_to_values_array(json_data)\n",
        "\n",
        "\n"
      ]
    },
    {
      "cell_type": "code",
      "execution_count": 33,
      "metadata": {},
      "outputs": [
        {
          "data": {
            "text/plain": [
              "array([1])"
            ]
          },
          "execution_count": 33,
          "metadata": {},
          "output_type": "execute_result"
        }
      ],
      "source": [
        "res = model.predict([[0.3,0.1,0.0,0.0,0.0,0.0,0.0]])\n",
        "res"
      ]
    },
    {
      "cell_type": "code",
>>>>>>> flask
      "execution_count": null,
      "metadata": {
        "id": "vx3dYETE9LKt"
      },
      "outputs": [],
      "source": [
        "xgb.fit(X_train_cs, y_train)\n",
        "\n",
        "y_pred = xgb.predict(X_test_cs)\n",
        "y_probs = xgb.predict_proba(X_test_cs)"
      ]
    },
    {
      "cell_type": "markdown",
      "metadata": {
        "id": "W6SDCwSfALxb"
      },
      "source": [
        "Results"
      ]
    },
    {
      "cell_type": "code",
      "execution_count": null,
      "metadata": {
        "colab": {
          "base_uri": "https://localhost:8080/",
          "height": 81
        },
        "id": "gz7QpXj79L5L",
        "outputId": "69f34d19-1ba6-45e1-8fb5-49306e77d946"
      },
      "outputs": [
        {
          "data": {
            "text/html": [
              "\n",
              "  <div id=\"df-475e3aeb-f6e4-4e92-88bf-d5ffd89a1f39\">\n",
              "    <div class=\"colab-df-container\">\n",
              "      <div>\n",
              "<style scoped>\n",
              "    .dataframe tbody tr th:only-of-type {\n",
              "        vertical-align: middle;\n",
              "    }\n",
              "\n",
              "    .dataframe tbody tr th {\n",
              "        vertical-align: top;\n",
              "    }\n",
              "\n",
              "    .dataframe thead th {\n",
              "        text-align: right;\n",
              "    }\n",
              "</style>\n",
              "<table border=\"1\" class=\"dataframe\">\n",
              "  <thead>\n",
              "    <tr style=\"text-align: right;\">\n",
              "      <th></th>\n",
              "      <th>Balanced Accuracy</th>\n",
              "      <th>Precision</th>\n",
              "      <th>Recall</th>\n",
              "      <th>F1</th>\n",
              "      <th>auc</th>\n",
              "    </tr>\n",
              "  </thead>\n",
              "  <tbody>\n",
              "    <tr>\n",
              "      <th>XGB</th>\n",
              "      <td>0.953051</td>\n",
              "      <td>0.973856</td>\n",
              "      <td>0.908537</td>\n",
              "      <td>0.940063</td>\n",
              "      <td>0.991045</td>\n",
              "    </tr>\n",
              "  </tbody>\n",
              "</table>\n",
              "</div>\n",
              "      <button class=\"colab-df-convert\" onclick=\"convertToInteractive('df-475e3aeb-f6e4-4e92-88bf-d5ffd89a1f39')\"\n",
              "              title=\"Convert this dataframe to an interactive table.\"\n",
              "              style=\"display:none;\">\n",
              "        \n",
              "  <svg xmlns=\"http://www.w3.org/2000/svg\" height=\"24px\"viewBox=\"0 0 24 24\"\n",
              "       width=\"24px\">\n",
              "    <path d=\"M0 0h24v24H0V0z\" fill=\"none\"/>\n",
              "    <path d=\"M18.56 5.44l.94 2.06.94-2.06 2.06-.94-2.06-.94-.94-2.06-.94 2.06-2.06.94zm-11 1L8.5 8.5l.94-2.06 2.06-.94-2.06-.94L8.5 2.5l-.94 2.06-2.06.94zm10 10l.94 2.06.94-2.06 2.06-.94-2.06-.94-.94-2.06-.94 2.06-2.06.94z\"/><path d=\"M17.41 7.96l-1.37-1.37c-.4-.4-.92-.59-1.43-.59-.52 0-1.04.2-1.43.59L10.3 9.45l-7.72 7.72c-.78.78-.78 2.05 0 2.83L4 21.41c.39.39.9.59 1.41.59.51 0 1.02-.2 1.41-.59l7.78-7.78 2.81-2.81c.8-.78.8-2.07 0-2.86zM5.41 20L4 18.59l7.72-7.72 1.47 1.35L5.41 20z\"/>\n",
              "  </svg>\n",
              "      </button>\n",
              "      \n",
              "  <style>\n",
              "    .colab-df-container {\n",
              "      display:flex;\n",
              "      flex-wrap:wrap;\n",
              "      gap: 12px;\n",
              "    }\n",
              "\n",
              "    .colab-df-convert {\n",
              "      background-color: #E8F0FE;\n",
              "      border: none;\n",
              "      border-radius: 50%;\n",
              "      cursor: pointer;\n",
              "      display: none;\n",
              "      fill: #1967D2;\n",
              "      height: 32px;\n",
              "      padding: 0 0 0 0;\n",
              "      width: 32px;\n",
              "    }\n",
              "\n",
              "    .colab-df-convert:hover {\n",
              "      background-color: #E2EBFA;\n",
              "      box-shadow: 0px 1px 2px rgba(60, 64, 67, 0.3), 0px 1px 3px 1px rgba(60, 64, 67, 0.15);\n",
              "      fill: #174EA6;\n",
              "    }\n",
              "\n",
              "    [theme=dark] .colab-df-convert {\n",
              "      background-color: #3B4455;\n",
              "      fill: #D2E3FC;\n",
              "    }\n",
              "\n",
              "    [theme=dark] .colab-df-convert:hover {\n",
              "      background-color: #434B5C;\n",
              "      box-shadow: 0px 1px 3px 1px rgba(0, 0, 0, 0.15);\n",
              "      filter: drop-shadow(0px 1px 2px rgba(0, 0, 0, 0.3));\n",
              "      fill: #FFFFFF;\n",
              "    }\n",
              "  </style>\n",
              "\n",
              "      <script>\n",
              "        const buttonEl =\n",
              "          document.querySelector('#df-475e3aeb-f6e4-4e92-88bf-d5ffd89a1f39 button.colab-df-convert');\n",
              "        buttonEl.style.display =\n",
              "          google.colab.kernel.accessAllowed ? 'block' : 'none';\n",
              "\n",
              "        async function convertToInteractive(key) {\n",
              "          const element = document.querySelector('#df-475e3aeb-f6e4-4e92-88bf-d5ffd89a1f39');\n",
              "          const dataTable =\n",
              "            await google.colab.kernel.invokeFunction('convertToInteractive',\n",
              "                                                     [key], {});\n",
              "          if (!dataTable) return;\n",
              "\n",
              "          const docLinkHtml = 'Like what you see? Visit the ' +\n",
              "            '<a target=\"_blank\" href=https://colab.research.google.com/notebooks/data_table.ipynb>data table notebook</a>'\n",
              "            + ' to learn more about interactive tables.';\n",
              "          element.innerHTML = '';\n",
              "          dataTable['output_type'] = 'display_data';\n",
              "          await google.colab.output.renderOutput(dataTable, element);\n",
              "          const docLink = document.createElement('div');\n",
              "          docLink.innerHTML = docLinkHtml;\n",
              "          element.appendChild(docLink);\n",
              "        }\n",
              "      </script>\n",
              "    </div>\n",
              "  </div>\n",
              "  "
            ],
            "text/plain": [
              "     Balanced Accuracy  Precision    Recall        F1       auc\n",
              "XGB           0.953051   0.973856  0.908537  0.940063  0.991045"
            ]
          },
          "execution_count": 508,
          "metadata": {},
          "output_type": "execute_result"
        }
      ],
      "source": [
        "xgb_results = ml_scores('XGB', y_test, y_pred,y_probs)\n",
        "xgb_results"
      ]
    }
  ],
  "metadata": {
    "colab": {
      "include_colab_link": true,
      "provenance": []
    },
    "kernelspec": {
      "display_name": "Python 3",
      "language": "python",
      "name": "python3"
    },
    "language_info": {
      "codemirror_mode": {
        "name": "ipython",
        "version": 3
      },
      "file_extension": ".py",
      "mimetype": "text/x-python",
      "name": "python",
      "nbconvert_exporter": "python",
      "pygments_lexer": "ipython3",
      "version": "3.11.6"
    }
  },
  "nbformat": 4,
  "nbformat_minor": 0
}
