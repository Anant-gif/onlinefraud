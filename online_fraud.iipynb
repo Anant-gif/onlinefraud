{
  "cells": [
    {
      "cell_type": "markdown",
      "metadata": {
        "id": "view-in-github",
        "colab_type": "text"
      },
      "source": [
        "<a href=\"https://colab.research.google.com/github/Anant-gif/onlinefraud/blob/main/online_fraud.iipynb\" target=\"_parent\"><img src=\"https://colab.research.google.com/assets/colab-badge.svg\" alt=\"Open In Colab\"/></a>"
      ]
    },
    {
      "cell_type": "markdown",
      "metadata": {
        "hidden": true,
        "id": "hYajQSbK0uL-"
      },
      "source": [
        "## 0.1 Imports"
      ]
    },
    {
      "cell_type": "code",
      "execution_count": null,
      "metadata": {
        "ExecuteTime": {
          "end_time": "2021-01-11T18:47:33.819432Z",
          "start_time": "2021-01-11T18:47:33.805991Z"
        },
        "hidden": true,
        "id": "sEj0nuTm0uL-"
      },
      "outputs": [],
      "source": [
        "import joblib\n",
        "import warnings\n",
        "import inflection\n",
        "import numpy             as np\n",
        "import pandas            as pd\n",
        "import seaborn           as sns\n",
        "from category_encoders import OneHotEncoder\n",
        "import matplotlib.pyplot as plt\n",
        "\n",
        "from scipy   import stats\n",
        "\n",
        "from xgboost  import XGBClassifier\n",
        "\n",
        "from sklearn.svm          import SVC\n",
        "from sklearn.ensemble     import RandomForestClassifier\n",
        "from sklearn.neighbors    import KNeighborsClassifier\n",
        "from sklearn.linear_model import LogisticRegression\n",
        "\n",
        "from sklearn.metrics         import balanced_accuracy_score, precision_score, classification_report\n",
        "from sklearn.metrics         import recall_score, f1_score, make_scorer, cohen_kappa_score ,  roc_auc_score\n",
        "from sklearn.preprocessing   import MinMaxScaler\n",
        "from sklearn.model_selection import train_test_split, StratifiedKFold"
      ]
    },
    {
      "cell_type": "markdown",
      "metadata": {
        "hidden": true,
        "id": "U1GnHjfy0uL_"
      },
      "source": [
        "## 0.2 Helper Functions"
      ]
    },
    {
      "cell_type": "code",
      "execution_count": null,
      "metadata": {
        "ExecuteTime": {
          "end_time": "2021-01-11T18:47:34.604129Z",
          "start_time": "2021-01-11T18:47:34.599974Z"
        },
        "hidden": true,
        "id": "pJJpPqn20uL_"
      },
      "outputs": [],
      "source": [
        "warnings.filterwarnings('ignore')\n",
        "\n",
        "seed = 42\n",
        "np.random.seed(seed)"
      ]
    },
    {
      "cell_type": "code",
      "source": [
        "from google.colab import drive\n",
        "drive.mount('/content/drive')"
      ],
      "metadata": {
        "colab": {
          "base_uri": "https://localhost:8080/"
        },
        "id": "WcywLgli1pew",
        "outputId": "016e3b03-1e3e-4370-dc2e-275727a134c7"
      },
      "execution_count": null,
      "outputs": [
        {
          "output_type": "stream",
          "name": "stdout",
          "text": [
            "Drive already mounted at /content/drive; to attempt to forcibly remount, call drive.mount(\"/content/drive\", force_remount=True).\n"
          ]
        }
      ]
    },
    {
      "cell_type": "markdown",
      "metadata": {
        "heading_collapsed": true,
        "id": "-FwwxAnY0uMB"
      },
      "source": [
        "# 1.0 Data Description"
      ]
    },
    {
      "cell_type": "markdown",
      "metadata": {
        "hidden": true,
        "id": "fGinyayM0uMB"
      },
      "source": [
        "## 1.1 Loading Data"
      ]
    },
    {
      "cell_type": "code",
      "execution_count": null,
      "metadata": {
        "ExecuteTime": {
          "end_time": "2021-01-11T18:47:37.450936Z",
          "start_time": "2021-01-11T18:47:36.044298Z"
        },
        "hidden": true,
        "id": "gZopuE3w0uMC"
      },
      "outputs": [],
      "source": [
        "df1 = pd.read_csv('/content/drive/MyDrive/fraud_0.1origbase.csv')"
      ]
    },
    {
      "cell_type": "code",
      "execution_count": null,
      "metadata": {
        "ExecuteTime": {
          "end_time": "2021-01-11T18:47:37.474072Z",
          "start_time": "2021-01-11T18:47:37.453989Z"
        },
        "hidden": true,
        "colab": {
          "base_uri": "https://localhost:8080/",
          "height": 206
        },
        "id": "NpCxnOA00uMC",
        "outputId": "76ab2ab9-0e74-4339-e7b6-9162606d6209"
      },
      "outputs": [
        {
          "output_type": "execute_result",
          "data": {
            "text/plain": [
              "   step      type     amount     nameOrig  oldbalanceOrg  newbalanceOrig  \\\n",
              "0   283   CASH_IN  210329.84  C1159819632     3778062.79      3988392.64   \n",
              "1   132  CASH_OUT  215489.19  C1372369468       21518.00            0.00   \n",
              "2   355     DEBIT    4431.05  C1059822709       20674.00        16242.95   \n",
              "3   135  CASH_OUT  214026.20  C1464960643       46909.73            0.00   \n",
              "4   381  CASH_OUT    8858.45   C831134427           0.00            0.00   \n",
              "\n",
              "      nameDest  oldbalanceDest  newbalanceDest  isFraud  isFlaggedFraud  \n",
              "0  C1218876138      1519266.60      1308936.76        0               0  \n",
              "1   C467105520      6345756.55      6794954.89        0               0  \n",
              "2    C76588246        80876.56        85307.61        0               0  \n",
              "3  C1059379810     13467450.36     13681476.56        0               0  \n",
              "4   C579876929      1667180.58      1676039.03        0               0  "
            ],
            "text/html": [
              "\n",
              "  <div id=\"df-1b3fec47-9aa1-40a0-b804-cb4abfc7fdf8\">\n",
              "    <div class=\"colab-df-container\">\n",
              "      <div>\n",
              "<style scoped>\n",
              "    .dataframe tbody tr th:only-of-type {\n",
              "        vertical-align: middle;\n",
              "    }\n",
              "\n",
              "    .dataframe tbody tr th {\n",
              "        vertical-align: top;\n",
              "    }\n",
              "\n",
              "    .dataframe thead th {\n",
              "        text-align: right;\n",
              "    }\n",
              "</style>\n",
              "<table border=\"1\" class=\"dataframe\">\n",
              "  <thead>\n",
              "    <tr style=\"text-align: right;\">\n",
              "      <th></th>\n",
              "      <th>step</th>\n",
              "      <th>type</th>\n",
              "      <th>amount</th>\n",
              "      <th>nameOrig</th>\n",
              "      <th>oldbalanceOrg</th>\n",
              "      <th>newbalanceOrig</th>\n",
              "      <th>nameDest</th>\n",
              "      <th>oldbalanceDest</th>\n",
              "      <th>newbalanceDest</th>\n",
              "      <th>isFraud</th>\n",
              "      <th>isFlaggedFraud</th>\n",
              "    </tr>\n",
              "  </thead>\n",
              "  <tbody>\n",
              "    <tr>\n",
              "      <th>0</th>\n",
              "      <td>283</td>\n",
              "      <td>CASH_IN</td>\n",
              "      <td>210329.84</td>\n",
              "      <td>C1159819632</td>\n",
              "      <td>3778062.79</td>\n",
              "      <td>3988392.64</td>\n",
              "      <td>C1218876138</td>\n",
              "      <td>1519266.60</td>\n",
              "      <td>1308936.76</td>\n",
              "      <td>0</td>\n",
              "      <td>0</td>\n",
              "    </tr>\n",
              "    <tr>\n",
              "      <th>1</th>\n",
              "      <td>132</td>\n",
              "      <td>CASH_OUT</td>\n",
              "      <td>215489.19</td>\n",
              "      <td>C1372369468</td>\n",
              "      <td>21518.00</td>\n",
              "      <td>0.00</td>\n",
              "      <td>C467105520</td>\n",
              "      <td>6345756.55</td>\n",
              "      <td>6794954.89</td>\n",
              "      <td>0</td>\n",
              "      <td>0</td>\n",
              "    </tr>\n",
              "    <tr>\n",
              "      <th>2</th>\n",
              "      <td>355</td>\n",
              "      <td>DEBIT</td>\n",
              "      <td>4431.05</td>\n",
              "      <td>C1059822709</td>\n",
              "      <td>20674.00</td>\n",
              "      <td>16242.95</td>\n",
              "      <td>C76588246</td>\n",
              "      <td>80876.56</td>\n",
              "      <td>85307.61</td>\n",
              "      <td>0</td>\n",
              "      <td>0</td>\n",
              "    </tr>\n",
              "    <tr>\n",
              "      <th>3</th>\n",
              "      <td>135</td>\n",
              "      <td>CASH_OUT</td>\n",
              "      <td>214026.20</td>\n",
              "      <td>C1464960643</td>\n",
              "      <td>46909.73</td>\n",
              "      <td>0.00</td>\n",
              "      <td>C1059379810</td>\n",
              "      <td>13467450.36</td>\n",
              "      <td>13681476.56</td>\n",
              "      <td>0</td>\n",
              "      <td>0</td>\n",
              "    </tr>\n",
              "    <tr>\n",
              "      <th>4</th>\n",
              "      <td>381</td>\n",
              "      <td>CASH_OUT</td>\n",
              "      <td>8858.45</td>\n",
              "      <td>C831134427</td>\n",
              "      <td>0.00</td>\n",
              "      <td>0.00</td>\n",
              "      <td>C579876929</td>\n",
              "      <td>1667180.58</td>\n",
              "      <td>1676039.03</td>\n",
              "      <td>0</td>\n",
              "      <td>0</td>\n",
              "    </tr>\n",
              "  </tbody>\n",
              "</table>\n",
              "</div>\n",
              "      <button class=\"colab-df-convert\" onclick=\"convertToInteractive('df-1b3fec47-9aa1-40a0-b804-cb4abfc7fdf8')\"\n",
              "              title=\"Convert this dataframe to an interactive table.\"\n",
              "              style=\"display:none;\">\n",
              "        \n",
              "  <svg xmlns=\"http://www.w3.org/2000/svg\" height=\"24px\"viewBox=\"0 0 24 24\"\n",
              "       width=\"24px\">\n",
              "    <path d=\"M0 0h24v24H0V0z\" fill=\"none\"/>\n",
              "    <path d=\"M18.56 5.44l.94 2.06.94-2.06 2.06-.94-2.06-.94-.94-2.06-.94 2.06-2.06.94zm-11 1L8.5 8.5l.94-2.06 2.06-.94-2.06-.94L8.5 2.5l-.94 2.06-2.06.94zm10 10l.94 2.06.94-2.06 2.06-.94-2.06-.94-.94-2.06-.94 2.06-2.06.94z\"/><path d=\"M17.41 7.96l-1.37-1.37c-.4-.4-.92-.59-1.43-.59-.52 0-1.04.2-1.43.59L10.3 9.45l-7.72 7.72c-.78.78-.78 2.05 0 2.83L4 21.41c.39.39.9.59 1.41.59.51 0 1.02-.2 1.41-.59l7.78-7.78 2.81-2.81c.8-.78.8-2.07 0-2.86zM5.41 20L4 18.59l7.72-7.72 1.47 1.35L5.41 20z\"/>\n",
              "  </svg>\n",
              "      </button>\n",
              "      \n",
              "  <style>\n",
              "    .colab-df-container {\n",
              "      display:flex;\n",
              "      flex-wrap:wrap;\n",
              "      gap: 12px;\n",
              "    }\n",
              "\n",
              "    .colab-df-convert {\n",
              "      background-color: #E8F0FE;\n",
              "      border: none;\n",
              "      border-radius: 50%;\n",
              "      cursor: pointer;\n",
              "      display: none;\n",
              "      fill: #1967D2;\n",
              "      height: 32px;\n",
              "      padding: 0 0 0 0;\n",
              "      width: 32px;\n",
              "    }\n",
              "\n",
              "    .colab-df-convert:hover {\n",
              "      background-color: #E2EBFA;\n",
              "      box-shadow: 0px 1px 2px rgba(60, 64, 67, 0.3), 0px 1px 3px 1px rgba(60, 64, 67, 0.15);\n",
              "      fill: #174EA6;\n",
              "    }\n",
              "\n",
              "    [theme=dark] .colab-df-convert {\n",
              "      background-color: #3B4455;\n",
              "      fill: #D2E3FC;\n",
              "    }\n",
              "\n",
              "    [theme=dark] .colab-df-convert:hover {\n",
              "      background-color: #434B5C;\n",
              "      box-shadow: 0px 1px 3px 1px rgba(0, 0, 0, 0.15);\n",
              "      filter: drop-shadow(0px 1px 2px rgba(0, 0, 0, 0.3));\n",
              "      fill: #FFFFFF;\n",
              "    }\n",
              "  </style>\n",
              "\n",
              "      <script>\n",
              "        const buttonEl =\n",
              "          document.querySelector('#df-1b3fec47-9aa1-40a0-b804-cb4abfc7fdf8 button.colab-df-convert');\n",
              "        buttonEl.style.display =\n",
              "          google.colab.kernel.accessAllowed ? 'block' : 'none';\n",
              "\n",
              "        async function convertToInteractive(key) {\n",
              "          const element = document.querySelector('#df-1b3fec47-9aa1-40a0-b804-cb4abfc7fdf8');\n",
              "          const dataTable =\n",
              "            await google.colab.kernel.invokeFunction('convertToInteractive',\n",
              "                                                     [key], {});\n",
              "          if (!dataTable) return;\n",
              "\n",
              "          const docLinkHtml = 'Like what you see? Visit the ' +\n",
              "            '<a target=\"_blank\" href=https://colab.research.google.com/notebooks/data_table.ipynb>data table notebook</a>'\n",
              "            + ' to learn more about interactive tables.';\n",
              "          element.innerHTML = '';\n",
              "          dataTable['output_type'] = 'display_data';\n",
              "          await google.colab.output.renderOutput(dataTable, element);\n",
              "          const docLink = document.createElement('div');\n",
              "          docLink.innerHTML = docLinkHtml;\n",
              "          element.appendChild(docLink);\n",
              "        }\n",
              "      </script>\n",
              "    </div>\n",
              "  </div>\n",
              "  "
            ]
          },
          "metadata": {},
          "execution_count": 453
        }
      ],
      "source": [
        "df1.head()"
      ]
    },
    {
      "cell_type": "code",
      "execution_count": null,
      "metadata": {
        "ExecuteTime": {
          "end_time": "2021-01-11T18:47:37.491715Z",
          "start_time": "2021-01-11T18:47:37.476639Z"
        },
        "hidden": true,
        "colab": {
          "base_uri": "https://localhost:8080/",
          "height": 206
        },
        "id": "qzOj2z3a0uMC",
        "outputId": "4f9dcef4-48b3-4fb4-f86c-f5575afe5246"
      },
      "outputs": [
        {
          "output_type": "execute_result",
          "data": {
            "text/plain": [
              "        step      type     amount     nameOrig  oldbalanceOrg  newbalanceOrig  \\\n",
              "636257   351  CASH_OUT   28761.10   C742050657            0.0            0.00   \n",
              "636258   184  CASH_OUT  167820.71   C561181412        62265.0            0.00   \n",
              "636259    35   PAYMENT    8898.12  C1773417333        30808.0        21909.88   \n",
              "636260   277  CASH_OUT  176147.90  C1423233247        83669.0            0.00   \n",
              "636261   304  CASH_OUT   95142.89   C874575079            0.0            0.00   \n",
              "\n",
              "           nameDest  oldbalanceDest  newbalanceDest  isFraud  isFlaggedFraud  \n",
              "636257   C568407561       328534.52       357295.62        0               0  \n",
              "636258  C1852953580       106429.48       274250.18        0               0  \n",
              "636259   M445701551            0.00            0.00        0               0  \n",
              "636260  C1328739120            0.00       176147.90        0               0  \n",
              "636261   C666451134       431380.07       526522.96        0               0  "
            ],
            "text/html": [
              "\n",
              "  <div id=\"df-104c6b4a-916a-4c35-92e3-2641fa835041\">\n",
              "    <div class=\"colab-df-container\">\n",
              "      <div>\n",
              "<style scoped>\n",
              "    .dataframe tbody tr th:only-of-type {\n",
              "        vertical-align: middle;\n",
              "    }\n",
              "\n",
              "    .dataframe tbody tr th {\n",
              "        vertical-align: top;\n",
              "    }\n",
              "\n",
              "    .dataframe thead th {\n",
              "        text-align: right;\n",
              "    }\n",
              "</style>\n",
              "<table border=\"1\" class=\"dataframe\">\n",
              "  <thead>\n",
              "    <tr style=\"text-align: right;\">\n",
              "      <th></th>\n",
              "      <th>step</th>\n",
              "      <th>type</th>\n",
              "      <th>amount</th>\n",
              "      <th>nameOrig</th>\n",
              "      <th>oldbalanceOrg</th>\n",
              "      <th>newbalanceOrig</th>\n",
              "      <th>nameDest</th>\n",
              "      <th>oldbalanceDest</th>\n",
              "      <th>newbalanceDest</th>\n",
              "      <th>isFraud</th>\n",
              "      <th>isFlaggedFraud</th>\n",
              "    </tr>\n",
              "  </thead>\n",
              "  <tbody>\n",
              "    <tr>\n",
              "      <th>636257</th>\n",
              "      <td>351</td>\n",
              "      <td>CASH_OUT</td>\n",
              "      <td>28761.10</td>\n",
              "      <td>C742050657</td>\n",
              "      <td>0.0</td>\n",
              "      <td>0.00</td>\n",
              "      <td>C568407561</td>\n",
              "      <td>328534.52</td>\n",
              "      <td>357295.62</td>\n",
              "      <td>0</td>\n",
              "      <td>0</td>\n",
              "    </tr>\n",
              "    <tr>\n",
              "      <th>636258</th>\n",
              "      <td>184</td>\n",
              "      <td>CASH_OUT</td>\n",
              "      <td>167820.71</td>\n",
              "      <td>C561181412</td>\n",
              "      <td>62265.0</td>\n",
              "      <td>0.00</td>\n",
              "      <td>C1852953580</td>\n",
              "      <td>106429.48</td>\n",
              "      <td>274250.18</td>\n",
              "      <td>0</td>\n",
              "      <td>0</td>\n",
              "    </tr>\n",
              "    <tr>\n",
              "      <th>636259</th>\n",
              "      <td>35</td>\n",
              "      <td>PAYMENT</td>\n",
              "      <td>8898.12</td>\n",
              "      <td>C1773417333</td>\n",
              "      <td>30808.0</td>\n",
              "      <td>21909.88</td>\n",
              "      <td>M445701551</td>\n",
              "      <td>0.00</td>\n",
              "      <td>0.00</td>\n",
              "      <td>0</td>\n",
              "      <td>0</td>\n",
              "    </tr>\n",
              "    <tr>\n",
              "      <th>636260</th>\n",
              "      <td>277</td>\n",
              "      <td>CASH_OUT</td>\n",
              "      <td>176147.90</td>\n",
              "      <td>C1423233247</td>\n",
              "      <td>83669.0</td>\n",
              "      <td>0.00</td>\n",
              "      <td>C1328739120</td>\n",
              "      <td>0.00</td>\n",
              "      <td>176147.90</td>\n",
              "      <td>0</td>\n",
              "      <td>0</td>\n",
              "    </tr>\n",
              "    <tr>\n",
              "      <th>636261</th>\n",
              "      <td>304</td>\n",
              "      <td>CASH_OUT</td>\n",
              "      <td>95142.89</td>\n",
              "      <td>C874575079</td>\n",
              "      <td>0.0</td>\n",
              "      <td>0.00</td>\n",
              "      <td>C666451134</td>\n",
              "      <td>431380.07</td>\n",
              "      <td>526522.96</td>\n",
              "      <td>0</td>\n",
              "      <td>0</td>\n",
              "    </tr>\n",
              "  </tbody>\n",
              "</table>\n",
              "</div>\n",
              "      <button class=\"colab-df-convert\" onclick=\"convertToInteractive('df-104c6b4a-916a-4c35-92e3-2641fa835041')\"\n",
              "              title=\"Convert this dataframe to an interactive table.\"\n",
              "              style=\"display:none;\">\n",
              "        \n",
              "  <svg xmlns=\"http://www.w3.org/2000/svg\" height=\"24px\"viewBox=\"0 0 24 24\"\n",
              "       width=\"24px\">\n",
              "    <path d=\"M0 0h24v24H0V0z\" fill=\"none\"/>\n",
              "    <path d=\"M18.56 5.44l.94 2.06.94-2.06 2.06-.94-2.06-.94-.94-2.06-.94 2.06-2.06.94zm-11 1L8.5 8.5l.94-2.06 2.06-.94-2.06-.94L8.5 2.5l-.94 2.06-2.06.94zm10 10l.94 2.06.94-2.06 2.06-.94-2.06-.94-.94-2.06-.94 2.06-2.06.94z\"/><path d=\"M17.41 7.96l-1.37-1.37c-.4-.4-.92-.59-1.43-.59-.52 0-1.04.2-1.43.59L10.3 9.45l-7.72 7.72c-.78.78-.78 2.05 0 2.83L4 21.41c.39.39.9.59 1.41.59.51 0 1.02-.2 1.41-.59l7.78-7.78 2.81-2.81c.8-.78.8-2.07 0-2.86zM5.41 20L4 18.59l7.72-7.72 1.47 1.35L5.41 20z\"/>\n",
              "  </svg>\n",
              "      </button>\n",
              "      \n",
              "  <style>\n",
              "    .colab-df-container {\n",
              "      display:flex;\n",
              "      flex-wrap:wrap;\n",
              "      gap: 12px;\n",
              "    }\n",
              "\n",
              "    .colab-df-convert {\n",
              "      background-color: #E8F0FE;\n",
              "      border: none;\n",
              "      border-radius: 50%;\n",
              "      cursor: pointer;\n",
              "      display: none;\n",
              "      fill: #1967D2;\n",
              "      height: 32px;\n",
              "      padding: 0 0 0 0;\n",
              "      width: 32px;\n",
              "    }\n",
              "\n",
              "    .colab-df-convert:hover {\n",
              "      background-color: #E2EBFA;\n",
              "      box-shadow: 0px 1px 2px rgba(60, 64, 67, 0.3), 0px 1px 3px 1px rgba(60, 64, 67, 0.15);\n",
              "      fill: #174EA6;\n",
              "    }\n",
              "\n",
              "    [theme=dark] .colab-df-convert {\n",
              "      background-color: #3B4455;\n",
              "      fill: #D2E3FC;\n",
              "    }\n",
              "\n",
              "    [theme=dark] .colab-df-convert:hover {\n",
              "      background-color: #434B5C;\n",
              "      box-shadow: 0px 1px 3px 1px rgba(0, 0, 0, 0.15);\n",
              "      filter: drop-shadow(0px 1px 2px rgba(0, 0, 0, 0.3));\n",
              "      fill: #FFFFFF;\n",
              "    }\n",
              "  </style>\n",
              "\n",
              "      <script>\n",
              "        const buttonEl =\n",
              "          document.querySelector('#df-104c6b4a-916a-4c35-92e3-2641fa835041 button.colab-df-convert');\n",
              "        buttonEl.style.display =\n",
              "          google.colab.kernel.accessAllowed ? 'block' : 'none';\n",
              "\n",
              "        async function convertToInteractive(key) {\n",
              "          const element = document.querySelector('#df-104c6b4a-916a-4c35-92e3-2641fa835041');\n",
              "          const dataTable =\n",
              "            await google.colab.kernel.invokeFunction('convertToInteractive',\n",
              "                                                     [key], {});\n",
              "          if (!dataTable) return;\n",
              "\n",
              "          const docLinkHtml = 'Like what you see? Visit the ' +\n",
              "            '<a target=\"_blank\" href=https://colab.research.google.com/notebooks/data_table.ipynb>data table notebook</a>'\n",
              "            + ' to learn more about interactive tables.';\n",
              "          element.innerHTML = '';\n",
              "          dataTable['output_type'] = 'display_data';\n",
              "          await google.colab.output.renderOutput(dataTable, element);\n",
              "          const docLink = document.createElement('div');\n",
              "          docLink.innerHTML = docLinkHtml;\n",
              "          element.appendChild(docLink);\n",
              "        }\n",
              "      </script>\n",
              "    </div>\n",
              "  </div>\n",
              "  "
            ]
          },
          "metadata": {},
          "execution_count": 454
        }
      ],
      "source": [
        "df1.tail()"
      ]
    },
    {
      "cell_type": "markdown",
      "metadata": {
        "hidden": true,
        "id": "QjSZpios0uMC"
      },
      "source": [
        "## 1.2 Columns"
      ]
    },
    {
      "cell_type": "markdown",
      "metadata": {
        "hidden": true,
        "id": "GmYeyOuJ0uMD"
      },
      "source": [
        "### 1.2.1 Column Descriptions"
      ]
    },
    {
      "cell_type": "markdown",
      "metadata": {
        "hidden": true,
        "id": "FfR-lfkU0uMD"
      },
      "source": [
        "**step:** maps a unit of time in the real world. In this case 1 step is 1 hour of time. Total steps 744 (30 days simulation).\n",
        "\n",
        "**type:** CASH-IN, CASH-OUT, DEBIT, PAYMENT and TRANSFER.\n",
        "\n",
        "**amount:** amount of the transaction in local currency.\n",
        "\n",
        "**nameOrig:** customer who started the transaction\n",
        "\n",
        "**oldbalanceOrg:** initial balance before the transaction\n",
        "\n",
        "**newbalanceOrig:** new balance after the transaction\n",
        "\n",
        "**nameDest:** customer who is the recipient of the transaction\n",
        "\n",
        "**oldbalanceDest:** initial balance recipient before the transaction. Note that there is not information for customers that start with M (Merchants).\n",
        "\n",
        "**newbalanceDest:** new balance recipient after the transaction. Note that there is not information for customers that start with M (Merchants).\n",
        "\n",
        "**isFraud:** This is the transactions made by the fraudulent agents inside the simulation. In this specific dataset the fraudulent behavior of the agents aims to profit by taking control or customers accounts and try to empty the funds by transferring to another account and then cashing out of the system.\n",
        "\n",
        "**isFlaggedFraud:** The business model aims to control massive transfers from one account to another and flags illegal attempts. An illegal attempt in this dataset is an attempt to transfer more than 200.000 in a single transaction."
      ]
    },
    {
      "cell_type": "markdown",
      "metadata": {
        "ExecuteTime": {
          "end_time": "2020-12-12T21:31:42.617142Z",
          "start_time": "2020-12-12T21:31:42.609502Z"
        },
        "hidden": true,
        "id": "aiVPKeRv0uMD"
      },
      "source": [
        "### 1.2.2 Column Rename"
      ]
    },
    {
      "cell_type": "code",
      "execution_count": null,
      "metadata": {
        "ExecuteTime": {
          "end_time": "2021-01-11T18:47:37.498900Z",
          "start_time": "2021-01-11T18:47:37.494994Z"
        },
        "hidden": true,
        "id": "fDXGUnyd0uMD"
      },
      "outputs": [],
      "source": [
        "cols_old = df1.columns.tolist()\n",
        "\n",
        "snakecase = lambda x: inflection.underscore(x)\n",
        "cols_new = list(map(snakecase, cols_old))\n",
        "\n",
        "df1.columns = cols_new"
      ]
    },
    {
      "cell_type": "code",
      "execution_count": null,
      "metadata": {
        "ExecuteTime": {
          "end_time": "2021-01-11T18:47:37.505663Z",
          "start_time": "2021-01-11T18:47:37.501235Z"
        },
        "hidden": true,
        "colab": {
          "base_uri": "https://localhost:8080/"
        },
        "id": "8dRkCe3n0uMD",
        "outputId": "ce1fb6d4-b60d-4246-a976-43848da4b3f7"
      },
      "outputs": [
        {
          "output_type": "execute_result",
          "data": {
            "text/plain": [
              "Index(['step', 'type', 'amount', 'name_orig', 'oldbalance_org',\n",
              "       'newbalance_orig', 'name_dest', 'oldbalance_dest', 'newbalance_dest',\n",
              "       'is_fraud', 'is_flagged_fraud'],\n",
              "      dtype='object')"
            ]
          },
          "metadata": {},
          "execution_count": 456
        }
      ],
      "source": [
        "df1.columns"
      ]
    },
    {
      "cell_type": "markdown",
      "metadata": {
        "hidden": true,
        "id": "VPhzQ0100uMD"
      },
      "source": [
        "## 1.3 Data Dimension"
      ]
    },
    {
      "cell_type": "code",
      "execution_count": null,
      "metadata": {
        "ExecuteTime": {
          "end_time": "2021-01-11T18:47:37.851622Z",
          "start_time": "2021-01-11T18:47:37.847980Z"
        },
        "hidden": true,
        "colab": {
          "base_uri": "https://localhost:8080/"
        },
        "id": "UEtefaFE0uMD",
        "outputId": "669ae2c2-910c-4849-ea08-41b85742aff2"
      },
      "outputs": [
        {
          "output_type": "stream",
          "name": "stdout",
          "text": [
            "Number of Rows: 636262\n",
            "Number of Cols: 11\n"
          ]
        }
      ],
      "source": [
        "print('Number of Rows: {}'.format(df1.shape[0]))\n",
        "print('Number of Cols: {}'.format(df1.shape[1]))"
      ]
    },
    {
      "cell_type": "markdown",
      "metadata": {
        "hidden": true,
        "id": "erlsTmpG0uME"
      },
      "source": [
        "## 1.4 Data Types and Structure"
      ]
    },
    {
      "cell_type": "code",
      "execution_count": null,
      "metadata": {
        "ExecuteTime": {
          "end_time": "2021-01-11T18:47:38.334664Z",
          "start_time": "2021-01-11T18:47:38.201896Z"
        },
        "hidden": true,
        "colab": {
          "base_uri": "https://localhost:8080/"
        },
        "id": "FcbiX49F0uME",
        "outputId": "8635f179-a949-46b7-a221-d03d1569b7c0"
      },
      "outputs": [
        {
          "output_type": "stream",
          "name": "stdout",
          "text": [
            "<class 'pandas.core.frame.DataFrame'>\n",
            "RangeIndex: 636262 entries, 0 to 636261\n",
            "Data columns (total 11 columns):\n",
            " #   Column            Non-Null Count   Dtype  \n",
            "---  ------            --------------   -----  \n",
            " 0   step              636262 non-null  int64  \n",
            " 1   type              636262 non-null  object \n",
            " 2   amount            636262 non-null  float64\n",
            " 3   name_orig         636262 non-null  object \n",
            " 4   oldbalance_org    636262 non-null  float64\n",
            " 5   newbalance_orig   636262 non-null  float64\n",
            " 6   name_dest         636262 non-null  object \n",
            " 7   oldbalance_dest   636262 non-null  float64\n",
            " 8   newbalance_dest   636262 non-null  float64\n",
            " 9   is_fraud          636262 non-null  int64  \n",
            " 10  is_flagged_fraud  636262 non-null  int64  \n",
            "dtypes: float64(5), int64(3), object(3)\n",
            "memory usage: 53.4+ MB\n"
          ]
        }
      ],
      "source": [
        "df1.info()"
      ]
    },
    {
      "cell_type": "markdown",
      "metadata": {
        "hidden": true,
        "id": "ItTwEqoC0uME"
      },
      "source": [
        "## 1.5 Check NA"
      ]
    },
    {
      "cell_type": "code",
      "execution_count": null,
      "metadata": {
        "ExecuteTime": {
          "end_time": "2021-01-11T18:47:38.655459Z",
          "start_time": "2021-01-11T18:47:38.542451Z"
        },
        "hidden": true,
        "colab": {
          "base_uri": "https://localhost:8080/"
        },
        "id": "DU9TFkLv0uME",
        "outputId": "369ba539-001e-4f8b-8446-cfc2aaa2c294"
      },
      "outputs": [
        {
          "output_type": "execute_result",
          "data": {
            "text/plain": [
              "step                0.0\n",
              "type                0.0\n",
              "amount              0.0\n",
              "name_orig           0.0\n",
              "oldbalance_org      0.0\n",
              "newbalance_orig     0.0\n",
              "name_dest           0.0\n",
              "oldbalance_dest     0.0\n",
              "newbalance_dest     0.0\n",
              "is_fraud            0.0\n",
              "is_flagged_fraud    0.0\n",
              "dtype: float64"
            ]
          },
          "metadata": {},
          "execution_count": 459
        }
      ],
      "source": [
        "df1.isna().mean()"
      ]
    },
    {
      "cell_type": "markdown",
      "metadata": {
        "heading_collapsed": true,
        "id": "l69HCOHb0uML"
      },
      "source": [
        "# 2.0 Exploratory Data Analisys"
      ]
    },
    {
      "cell_type": "code",
      "execution_count": null,
      "metadata": {
        "ExecuteTime": {
          "end_time": "2021-01-11T18:47:45.536329Z",
          "start_time": "2021-01-11T18:47:45.479614Z"
        },
        "hidden": true,
        "id": "JjL-o0xn0uML"
      },
      "outputs": [],
      "source": [
        "df2 = df1.copy()"
      ]
    },
    {
      "cell_type": "markdown",
      "source": [
        "Highly imbalanced dataset"
      ],
      "metadata": {
        "id": "zVdCQfAd-QPj"
      }
    },
    {
      "cell_type": "code",
      "execution_count": null,
      "metadata": {
        "ExecuteTime": {
          "end_time": "2021-01-11T18:47:46.652434Z",
          "start_time": "2021-01-11T18:47:46.010096Z"
        },
        "hidden": true,
        "colab": {
          "base_uri": "https://localhost:8080/",
          "height": 449
        },
        "id": "lcJrKFvh0uML",
        "outputId": "31906571-a26a-43d7-c0bc-40373dff28e9"
      },
      "outputs": [
        {
          "output_type": "display_data",
          "data": {
            "text/plain": [
              "<Figure size 640x480 with 1 Axes>"
            ],
            "image/png": "[encoded data removed]"
          },
          "metadata": {}
        }
      ],
      "source": [
        "ax = sns.countplot(y='is_fraud', data=df2);\n",
        "total = df2['is_fraud'].size\n",
        "for p in ax.patches:\n",
        "        percentage = ' {:.1f}%'.format(100 * p.get_width()/total)\n",
        "        x = p.get_x() + p.get_width() + 0.02\n",
        "        y = p.get_y() + p.get_height()/2\n",
        "        ax.annotate(percentage, (x, y))"
      ]
    },
    {
      "cell_type": "code",
      "source": [
        "labels = df2['type'].astype('category').cat.categories.tolist()\n",
        "counts = df2['type'].value_counts()\n",
        "sizes = [counts[var_cat] for var_cat in labels]\n",
        "fig1, ax1 = plt.subplots()\n",
        "ax1.pie(sizes, labels=labels, autopct='%1.1f%%', shadow=True) #autopct is show the % on plot\n",
        "ax1.axis('equal')\n",
        "plt.show()"
      ],
      "metadata": {
        "colab": {
          "base_uri": "https://localhost:8080/",
          "height": 413
        },
        "id": "SmxctLV4Vt1_",
        "outputId": "73483688-f09d-4bf7-da3e-4790a7a8cc72"
      },
      "execution_count": null,
      "outputs": [
        {
          "output_type": "display_data",
          "data": {
            "text/plain": [
              "<Figure size 640x480 with 1 Axes>"
            ],
            "image/png": "[encoded data removed]"
          },
          "metadata": {}
        }
      ]
    },
    {
      "cell_type": "code",
      "source": [
        "\n",
        "ax = sns.countplot(y='type', hue='is_fraud', data=df3)\n",
        "\n",
        "total = df2['type'].size\n",
        "for p in ax.patches:\n",
        "        percentage = ' {:.1f}%'.format(100 * p.get_width()/total)\n",
        "        x = p.get_x() + p.get_width() + 0.02\n",
        "        y = p.get_y() + p.get_height()/2\n",
        "        ax.annotate(percentage, (x, y))\n",
        "\n"
      ],
      "metadata": {
        "colab": {
          "base_uri": "https://localhost:8080/",
          "height": 449
        },
        "id": "dETje-aiy3uT",
        "outputId": "85e35468-3d9f-4462-8f44-0033d599097a"
      },
      "execution_count": null,
      "outputs": [
        {
          "output_type": "display_data",
          "data": {
            "text/plain": [
              "<Figure size 640x480 with 1 Axes>"
            ],
            "image/png": "[encoded data removed]"
          },
          "metadata": {}
        }
      ]
    },
    {
      "cell_type": "markdown",
      "source": [
        "Fraud Transactions in CASH_OUT and TRANSFER only"
      ],
      "metadata": {
        "id": "bnpvgRfLzA5k"
      }
    },
    {
      "cell_type": "code",
      "source": [
        "print('\\n The types of fraudulent transactions are {}'.format(\\\n",
        "list(df2.loc[df2.is_fraud == 1].type.drop_duplicates().values))) # only 'CASH_OUT'\n",
        "                                                             # & 'TRANSFER'\n",
        "\n",
        "dfFraudTransfer = df2.loc[(df2.is_fraud == 1) & (df2.type == 'TRANSFER')]\n",
        "dfFraudCashout = df2.loc[(df2.is_fraud == 1) & (df2.type == 'CASH_OUT')]\n",
        "\n",
        "print ('\\n The number of fraudulent TRANSFERs = {}'.\\\n",
        "       format(len(dfFraudTransfer)))\n",
        "\n",
        "print ('\\n The number of fraudulent CASH_OUTs = {}'.\\\n",
        "       format(len(dfFraudCashout)))"
      ],
      "metadata": {
        "colab": {
          "base_uri": "https://localhost:8080/"
        },
        "id": "bLTe6qvY0CyU",
        "outputId": "5afe0518-f641-4efb-915f-dfc94a1de07b"
      },
      "execution_count": null,
      "outputs": [
        {
          "output_type": "stream",
          "name": "stdout",
          "text": [
            "\n",
            " The types of fraudulent transactions are ['CASH_OUT', 'TRANSFER']\n",
            "\n",
            " The number of fraudulent TRANSFERs = 414\n",
            "\n",
            " The number of fraudulent CASH_OUTs = 407\n"
          ]
        }
      ]
    },
    {
      "cell_type": "markdown",
      "source": [
        "\n",
        "\n",
        "The data has several transactions with zero balances in the destination account both before and after a non-zero amount is transacted. The fraction of such transactions, where zero likely denotes a missing value, is much larger in fraudulent (50%) compared to genuine transactions"
      ],
      "metadata": {
        "id": "yUVCkEHY-Vpc"
      }
    },
    {
      "cell_type": "code",
      "source": [
        "X_fraud = df2.loc[df2.is_fraud == 1]\n",
        "Xnon_fraud = df2.loc[df2.is_fraud == 0]\n",
        "print('\\nThe fraction of fraudulent transactions with \\'oldbalance_dest\\' = \\\n",
        "\\'newbalance_dest\\' = 0 although the transacted \\'amount\\' is non-zero is: {}'.\\\n",
        "format(len(X_fraud.loc[(X_fraud.oldbalance_dest == 0) & \\\n",
        "(X_fraud.newbalance_dest == 0) & (X_fraud.amount)]) / (1.0 * len(X_fraud))))\n"
      ],
      "metadata": {
        "colab": {
          "base_uri": "https://localhost:8080/"
        },
        "id": "XiwpcUqQ0zw0",
        "outputId": "ff46712b-ad3a-47a9-cb2c-fc25761210ef"
      },
      "execution_count": null,
      "outputs": [
        {
          "output_type": "stream",
          "name": "stdout",
          "text": [
            "\n",
            "The fraction of fraudulent transactions with 'oldbalance_dest' = 'newbalance_dest' = 0 although the transacted 'amount' is non-zero is: 0.5030450669914738\n"
          ]
        }
      ]
    },
    {
      "cell_type": "markdown",
      "metadata": {
        "heading_collapsed": true,
        "id": "UVjM8Y_Q0uMH"
      },
      "source": [
        "# 3.0 Feature Engineering"
      ]
    },
    {
      "cell_type": "code",
      "execution_count": null,
      "metadata": {
        "ExecuteTime": {
          "end_time": "2021-01-11T18:47:42.876765Z",
          "start_time": "2021-01-11T18:47:42.823469Z"
        },
        "hidden": true,
        "id": "USsUvfgh0uMH"
      },
      "outputs": [],
      "source": [
        "df3 = df2.copy()"
      ]
    },
    {
      "cell_type": "code",
      "execution_count": null,
      "metadata": {
        "ExecuteTime": {
          "end_time": "2021-01-11T18:47:44.922596Z",
          "start_time": "2021-01-11T18:47:43.999043Z"
        },
        "hidden": true,
        "id": "rXMN50yM0uMK",
        "colab": {
          "base_uri": "https://localhost:8080/",
          "height": 488
        },
        "outputId": "8a77210c-4efe-4475-d5c2-77f83b29c958"
      },
      "outputs": [
        {
          "output_type": "execute_result",
          "data": {
            "text/plain": [
              "        step      type     amount name_orig  oldbalance_org  newbalance_orig  \\\n",
              "0        283   CASH_IN  210329.84         C      3778062.79       3988392.64   \n",
              "1        132  CASH_OUT  215489.19         C        21518.00             0.00   \n",
              "2        355     DEBIT    4431.05         C        20674.00         16242.95   \n",
              "3        135  CASH_OUT  214026.20         C        46909.73             0.00   \n",
              "4        381  CASH_OUT    8858.45         C            0.00             0.00   \n",
              "...      ...       ...        ...       ...             ...              ...   \n",
              "636257   351  CASH_OUT   28761.10         C            0.00             0.00   \n",
              "636258   184  CASH_OUT  167820.71         C        62265.00             0.00   \n",
              "636259    35   PAYMENT    8898.12         C        30808.00         21909.88   \n",
              "636260   277  CASH_OUT  176147.90         C        83669.00             0.00   \n",
              "636261   304  CASH_OUT   95142.89         C            0.00             0.00   \n",
              "\n",
              "       name_dest  oldbalance_dest  newbalance_dest  is_fraud  \\\n",
              "0              C       1519266.60       1308936.76         0   \n",
              "1              C       6345756.55       6794954.89         0   \n",
              "2              C         80876.56         85307.61         0   \n",
              "3              C      13467450.36      13681476.56         0   \n",
              "4              C       1667180.58       1676039.03         0   \n",
              "...          ...              ...              ...       ...   \n",
              "636257         C        328534.52        357295.62         0   \n",
              "636258         C        106429.48        274250.18         0   \n",
              "636259         M             0.00             0.00         0   \n",
              "636260         C             0.00        176147.90         0   \n",
              "636261         C        431380.07        526522.96         0   \n",
              "\n",
              "        is_flagged_fraud  step_days  step_weeks  diff_new_old_balance  \\\n",
              "0                      0  11.791667    1.684524             210329.85   \n",
              "1                      0   5.500000    0.785714             -21518.00   \n",
              "2                      0  14.791667    2.113095              -4431.05   \n",
              "3                      0   5.625000    0.803571             -46909.73   \n",
              "4                      0  15.875000    2.267857                  0.00   \n",
              "...                  ...        ...         ...                   ...   \n",
              "636257                 0  14.625000    2.089286                  0.00   \n",
              "636258                 0   7.666667    1.095238             -62265.00   \n",
              "636259                 0   1.458333    0.208333              -8898.12   \n",
              "636260                 0  11.541667    1.648810             -83669.00   \n",
              "636261                 0  12.666667    1.809524                  0.00   \n",
              "\n",
              "        diff_new_old_destiny  \n",
              "0                 -210329.84  \n",
              "1                  449198.34  \n",
              "2                    4431.05  \n",
              "3                  214026.20  \n",
              "4                    8858.45  \n",
              "...                      ...  \n",
              "636257              28761.10  \n",
              "636258             167820.70  \n",
              "636259                  0.00  \n",
              "636260             176147.90  \n",
              "636261              95142.89  \n",
              "\n",
              "[636262 rows x 15 columns]"
            ],
            "text/html": [
              "\n",
              "  <div id=\"df-c284c553-5fb9-4d32-b981-d0290189476e\">\n",
              "    <div class=\"colab-df-container\">\n",
              "      <div>\n",
              "<style scoped>\n",
              "    .dataframe tbody tr th:only-of-type {\n",
              "        vertical-align: middle;\n",
              "    }\n",
              "\n",
              "    .dataframe tbody tr th {\n",
              "        vertical-align: top;\n",
              "    }\n",
              "\n",
              "    .dataframe thead th {\n",
              "        text-align: right;\n",
              "    }\n",
              "</style>\n",
              "<table border=\"1\" class=\"dataframe\">\n",
              "  <thead>\n",
              "    <tr style=\"text-align: right;\">\n",
              "      <th></th>\n",
              "      <th>step</th>\n",
              "      <th>type</th>\n",
              "      <th>amount</th>\n",
              "      <th>name_orig</th>\n",
              "      <th>oldbalance_org</th>\n",
              "      <th>newbalance_orig</th>\n",
              "      <th>name_dest</th>\n",
              "      <th>oldbalance_dest</th>\n",
              "      <th>newbalance_dest</th>\n",
              "      <th>is_fraud</th>\n",
              "      <th>is_flagged_fraud</th>\n",
              "      <th>step_days</th>\n",
              "      <th>step_weeks</th>\n",
              "      <th>diff_new_old_balance</th>\n",
              "      <th>diff_new_old_destiny</th>\n",
              "    </tr>\n",
              "  </thead>\n",
              "  <tbody>\n",
              "    <tr>\n",
              "      <th>0</th>\n",
              "      <td>283</td>\n",
              "      <td>CASH_IN</td>\n",
              "      <td>210329.84</td>\n",
              "      <td>C</td>\n",
              "      <td>3778062.79</td>\n",
              "      <td>3988392.64</td>\n",
              "      <td>C</td>\n",
              "      <td>1519266.60</td>\n",
              "      <td>1308936.76</td>\n",
              "      <td>0</td>\n",
              "      <td>0</td>\n",
              "      <td>11.791667</td>\n",
              "      <td>1.684524</td>\n",
              "      <td>210329.85</td>\n",
              "      <td>-210329.84</td>\n",
              "    </tr>\n",
              "    <tr>\n",
              "      <th>1</th>\n",
              "      <td>132</td>\n",
              "      <td>CASH_OUT</td>\n",
              "      <td>215489.19</td>\n",
              "      <td>C</td>\n",
              "      <td>21518.00</td>\n",
              "      <td>0.00</td>\n",
              "      <td>C</td>\n",
              "      <td>6345756.55</td>\n",
              "      <td>6794954.89</td>\n",
              "      <td>0</td>\n",
              "      <td>0</td>\n",
              "      <td>5.500000</td>\n",
              "      <td>0.785714</td>\n",
              "      <td>-21518.00</td>\n",
              "      <td>449198.34</td>\n",
              "    </tr>\n",
              "    <tr>\n",
              "      <th>2</th>\n",
              "      <td>355</td>\n",
              "      <td>DEBIT</td>\n",
              "      <td>4431.05</td>\n",
              "      <td>C</td>\n",
              "      <td>20674.00</td>\n",
              "      <td>16242.95</td>\n",
              "      <td>C</td>\n",
              "      <td>80876.56</td>\n",
              "      <td>85307.61</td>\n",
              "      <td>0</td>\n",
              "      <td>0</td>\n",
              "      <td>14.791667</td>\n",
              "      <td>2.113095</td>\n",
              "      <td>-4431.05</td>\n",
              "      <td>4431.05</td>\n",
              "    </tr>\n",
              "    <tr>\n",
              "      <th>3</th>\n",
              "      <td>135</td>\n",
              "      <td>CASH_OUT</td>\n",
              "      <td>214026.20</td>\n",
              "      <td>C</td>\n",
              "      <td>46909.73</td>\n",
              "      <td>0.00</td>\n",
              "      <td>C</td>\n",
              "      <td>13467450.36</td>\n",
              "      <td>13681476.56</td>\n",
              "      <td>0</td>\n",
              "      <td>0</td>\n",
              "      <td>5.625000</td>\n",
              "      <td>0.803571</td>\n",
              "      <td>-46909.73</td>\n",
              "      <td>214026.20</td>\n",
              "    </tr>\n",
              "    <tr>\n",
              "      <th>4</th>\n",
              "      <td>381</td>\n",
              "      <td>CASH_OUT</td>\n",
              "      <td>8858.45</td>\n",
              "      <td>C</td>\n",
              "      <td>0.00</td>\n",
              "      <td>0.00</td>\n",
              "      <td>C</td>\n",
              "      <td>1667180.58</td>\n",
              "      <td>1676039.03</td>\n",
              "      <td>0</td>\n",
              "      <td>0</td>\n",
              "      <td>15.875000</td>\n",
              "      <td>2.267857</td>\n",
              "      <td>0.00</td>\n",
              "      <td>8858.45</td>\n",
              "    </tr>\n",
              "    <tr>\n",
              "      <th>...</th>\n",
              "      <td>...</td>\n",
              "      <td>...</td>\n",
              "      <td>...</td>\n",
              "      <td>...</td>\n",
              "      <td>...</td>\n",
              "      <td>...</td>\n",
              "      <td>...</td>\n",
              "      <td>...</td>\n",
              "      <td>...</td>\n",
              "      <td>...</td>\n",
              "      <td>...</td>\n",
              "      <td>...</td>\n",
              "      <td>...</td>\n",
              "      <td>...</td>\n",
              "      <td>...</td>\n",
              "    </tr>\n",
              "    <tr>\n",
              "      <th>636257</th>\n",
              "      <td>351</td>\n",
              "      <td>CASH_OUT</td>\n",
              "      <td>28761.10</td>\n",
              "      <td>C</td>\n",
              "      <td>0.00</td>\n",
              "      <td>0.00</td>\n",
              "      <td>C</td>\n",
              "      <td>328534.52</td>\n",
              "      <td>357295.62</td>\n",
              "      <td>0</td>\n",
              "      <td>0</td>\n",
              "      <td>14.625000</td>\n",
              "      <td>2.089286</td>\n",
              "      <td>0.00</td>\n",
              "      <td>28761.10</td>\n",
              "    </tr>\n",
              "    <tr>\n",
              "      <th>636258</th>\n",
              "      <td>184</td>\n",
              "      <td>CASH_OUT</td>\n",
              "      <td>167820.71</td>\n",
              "      <td>C</td>\n",
              "      <td>62265.00</td>\n",
              "      <td>0.00</td>\n",
              "      <td>C</td>\n",
              "      <td>106429.48</td>\n",
              "      <td>274250.18</td>\n",
              "      <td>0</td>\n",
              "      <td>0</td>\n",
              "      <td>7.666667</td>\n",
              "      <td>1.095238</td>\n",
              "      <td>-62265.00</td>\n",
              "      <td>167820.70</td>\n",
              "    </tr>\n",
              "    <tr>\n",
              "      <th>636259</th>\n",
              "      <td>35</td>\n",
              "      <td>PAYMENT</td>\n",
              "      <td>8898.12</td>\n",
              "      <td>C</td>\n",
              "      <td>30808.00</td>\n",
              "      <td>21909.88</td>\n",
              "      <td>M</td>\n",
              "      <td>0.00</td>\n",
              "      <td>0.00</td>\n",
              "      <td>0</td>\n",
              "      <td>0</td>\n",
              "      <td>1.458333</td>\n",
              "      <td>0.208333</td>\n",
              "      <td>-8898.12</td>\n",
              "      <td>0.00</td>\n",
              "    </tr>\n",
              "    <tr>\n",
              "      <th>636260</th>\n",
              "      <td>277</td>\n",
              "      <td>CASH_OUT</td>\n",
              "      <td>176147.90</td>\n",
              "      <td>C</td>\n",
              "      <td>83669.00</td>\n",
              "      <td>0.00</td>\n",
              "      <td>C</td>\n",
              "      <td>0.00</td>\n",
              "      <td>176147.90</td>\n",
              "      <td>0</td>\n",
              "      <td>0</td>\n",
              "      <td>11.541667</td>\n",
              "      <td>1.648810</td>\n",
              "      <td>-83669.00</td>\n",
              "      <td>176147.90</td>\n",
              "    </tr>\n",
              "    <tr>\n",
              "      <th>636261</th>\n",
              "      <td>304</td>\n",
              "      <td>CASH_OUT</td>\n",
              "      <td>95142.89</td>\n",
              "      <td>C</td>\n",
              "      <td>0.00</td>\n",
              "      <td>0.00</td>\n",
              "      <td>C</td>\n",
              "      <td>431380.07</td>\n",
              "      <td>526522.96</td>\n",
              "      <td>0</td>\n",
              "      <td>0</td>\n",
              "      <td>12.666667</td>\n",
              "      <td>1.809524</td>\n",
              "      <td>0.00</td>\n",
              "      <td>95142.89</td>\n",
              "    </tr>\n",
              "  </tbody>\n",
              "</table>\n",
              "<p>636262 rows × 15 columns</p>\n",
              "</div>\n",
              "      <button class=\"colab-df-convert\" onclick=\"convertToInteractive('df-c284c553-5fb9-4d32-b981-d0290189476e')\"\n",
              "              title=\"Convert this dataframe to an interactive table.\"\n",
              "              style=\"display:none;\">\n",
              "        \n",
              "  <svg xmlns=\"http://www.w3.org/2000/svg\" height=\"24px\"viewBox=\"0 0 24 24\"\n",
              "       width=\"24px\">\n",
              "    <path d=\"M0 0h24v24H0V0z\" fill=\"none\"/>\n",
              "    <path d=\"M18.56 5.44l.94 2.06.94-2.06 2.06-.94-2.06-.94-.94-2.06-.94 2.06-2.06.94zm-11 1L8.5 8.5l.94-2.06 2.06-.94-2.06-.94L8.5 2.5l-.94 2.06-2.06.94zm10 10l.94 2.06.94-2.06 2.06-.94-2.06-.94-.94-2.06-.94 2.06-2.06.94z\"/><path d=\"M17.41 7.96l-1.37-1.37c-.4-.4-.92-.59-1.43-.59-.52 0-1.04.2-1.43.59L10.3 9.45l-7.72 7.72c-.78.78-.78 2.05 0 2.83L4 21.41c.39.39.9.59 1.41.59.51 0 1.02-.2 1.41-.59l7.78-7.78 2.81-2.81c.8-.78.8-2.07 0-2.86zM5.41 20L4 18.59l7.72-7.72 1.47 1.35L5.41 20z\"/>\n",
              "  </svg>\n",
              "      </button>\n",
              "      \n",
              "  <style>\n",
              "    .colab-df-container {\n",
              "      display:flex;\n",
              "      flex-wrap:wrap;\n",
              "      gap: 12px;\n",
              "    }\n",
              "\n",
              "    .colab-df-convert {\n",
              "      background-color: #E8F0FE;\n",
              "      border: none;\n",
              "      border-radius: 50%;\n",
              "      cursor: pointer;\n",
              "      display: none;\n",
              "      fill: #1967D2;\n",
              "      height: 32px;\n",
              "      padding: 0 0 0 0;\n",
              "      width: 32px;\n",
              "    }\n",
              "\n",
              "    .colab-df-convert:hover {\n",
              "      background-color: #E2EBFA;\n",
              "      box-shadow: 0px 1px 2px rgba(60, 64, 67, 0.3), 0px 1px 3px 1px rgba(60, 64, 67, 0.15);\n",
              "      fill: #174EA6;\n",
              "    }\n",
              "\n",
              "    [theme=dark] .colab-df-convert {\n",
              "      background-color: #3B4455;\n",
              "      fill: #D2E3FC;\n",
              "    }\n",
              "\n",
              "    [theme=dark] .colab-df-convert:hover {\n",
              "      background-color: #434B5C;\n",
              "      box-shadow: 0px 1px 3px 1px rgba(0, 0, 0, 0.15);\n",
              "      filter: drop-shadow(0px 1px 2px rgba(0, 0, 0, 0.3));\n",
              "      fill: #FFFFFF;\n",
              "    }\n",
              "  </style>\n",
              "\n",
              "      <script>\n",
              "        const buttonEl =\n",
              "          document.querySelector('#df-c284c553-5fb9-4d32-b981-d0290189476e button.colab-df-convert');\n",
              "        buttonEl.style.display =\n",
              "          google.colab.kernel.accessAllowed ? 'block' : 'none';\n",
              "\n",
              "        async function convertToInteractive(key) {\n",
              "          const element = document.querySelector('#df-c284c553-5fb9-4d32-b981-d0290189476e');\n",
              "          const dataTable =\n",
              "            await google.colab.kernel.invokeFunction('convertToInteractive',\n",
              "                                                     [key], {});\n",
              "          if (!dataTable) return;\n",
              "\n",
              "          const docLinkHtml = 'Like what you see? Visit the ' +\n",
              "            '<a target=\"_blank\" href=https://colab.research.google.com/notebooks/data_table.ipynb>data table notebook</a>'\n",
              "            + ' to learn more about interactive tables.';\n",
              "          element.innerHTML = '';\n",
              "          dataTable['output_type'] = 'display_data';\n",
              "          await google.colab.output.renderOutput(dataTable, element);\n",
              "          const docLink = document.createElement('div');\n",
              "          docLink.innerHTML = docLinkHtml;\n",
              "          element.appendChild(docLink);\n",
              "        }\n",
              "      </script>\n",
              "    </div>\n",
              "  </div>\n",
              "  "
            ]
          },
          "metadata": {},
          "execution_count": 467
        }
      ],
      "source": [
        "# step\n",
        "df3['step_days'] = df3['step'].apply(lambda i: i/24)\n",
        "df3['step_weeks'] = df3['step'].apply(lambda i: i/(24*7))\n",
        "\n",
        "# difference between initial balance before the transaction and new balance after the transaction\n",
        "df3['diff_new_old_balance'] = df3['newbalance_orig'] - df3['oldbalance_org']\n",
        "\n",
        "# difference between initial balance recipient before the transaction and new balance recipient after the transaction.\n",
        "df3['diff_new_old_destiny'] = df3['newbalance_dest'] - df3['oldbalance_dest']\n",
        "\n",
        "# name orig and name dest\n",
        "df3['name_orig'] = df3['name_orig'].apply(lambda i: i[0])\n",
        "df3['name_dest'] = df3['name_dest'].apply(lambda i: i[0])\n",
        "df3"
      ]
    },
    {
      "cell_type": "markdown",
      "metadata": {
        "heading_collapsed": true,
        "id": "uu_x45Kq0uMQ"
      },
      "source": [
        "# 4.0 Data Preparation"
      ]
    },
    {
      "cell_type": "code",
      "execution_count": null,
      "metadata": {
        "ExecuteTime": {
          "end_time": "2021-01-11T21:08:18.459835Z",
          "start_time": "2021-01-11T21:08:18.344976Z"
        },
        "hidden": true,
        "id": "N-1o_Srg0uMR"
      },
      "outputs": [],
      "source": [
        "df4 = df3.copy()"
      ]
    },
    {
      "cell_type": "markdown",
      "metadata": {
        "hidden": true,
        "id": "C49Fb7pe0uMR"
      },
      "source": [
        "## 4.1 Spliting into Train and Test"
      ]
    },
    {
      "cell_type": "code",
      "execution_count": null,
      "metadata": {
        "ExecuteTime": {
          "end_time": "2021-01-11T21:08:28.207352Z",
          "start_time": "2021-01-11T21:08:28.110364Z"
        },
        "hidden": true,
        "id": "RGGDckbm0uMR"
      },
      "outputs": [],
      "source": [
        "y = df4['is_fraud']\n",
        "X = df4.drop(columns=['is_fraud', 'is_flagged_fraud', 'name_orig', 'name_dest','step_weeks', 'step_days'], axis=1)"
      ]
    },
    {
      "cell_type": "code",
      "execution_count": null,
      "metadata": {
        "ExecuteTime": {
          "end_time": "2021-01-11T21:08:29.045814Z",
          "start_time": "2021-01-11T21:08:28.582692Z"
        },
        "hidden": true,
        "id": "hqGYWTDJ0uMR"
      },
      "outputs": [],
      "source": [
        "# spliting into temp and test\n",
        "X_train, X_test, y_train, y_test = train_test_split(X, y, test_size=.2, stratify=y)"
      ]
    },
    {
      "cell_type": "markdown",
      "metadata": {
        "hidden": true,
        "id": "r1yPGlVw0uMR"
      },
      "source": [
        "## 4.2 One Hot Encoder"
      ]
    },
    {
      "cell_type": "code",
      "execution_count": null,
      "metadata": {
        "ExecuteTime": {
          "end_time": "2021-01-11T21:08:32.964462Z",
          "start_time": "2021-01-11T21:08:31.876822Z"
        },
        "hidden": true,
        "id": "i5lqtOne0uMS",
        "colab": {
          "base_uri": "https://localhost:8080/",
          "height": 270
        },
        "outputId": "91ca07ae-6115-4dc6-f8bb-cf418980a605"
      },
      "outputs": [
        {
          "output_type": "execute_result",
          "data": {
            "text/plain": [
              "        step  type_PAYMENT  type_CASH_OUT  type_CASH_IN  type_TRANSFER  \\\n",
              "578630    94             0              0             0              1   \n",
              "248692   234             0              1             0              0   \n",
              "43980    231             0              0             0              0   \n",
              "331603   358             0              0             1              0   \n",
              "123136    33             0              0             1              0   \n",
              "\n",
              "        type_DEBIT     amount  oldbalance_org  newbalance_orig  \\\n",
              "578630           0  672901.28            0.00             0.00   \n",
              "248692           0   42319.66            0.00             0.00   \n",
              "43980            1    5635.52       133346.00        127710.48   \n",
              "331603           0  156974.98       425464.73        582439.71   \n",
              "123136           0  321256.73        10501.00        331757.73   \n",
              "\n",
              "        oldbalance_dest  newbalance_dest  diff_new_old_balance  \\\n",
              "578630       8881502.26      10664836.01                  0.00   \n",
              "248692        273167.66        315487.32                  0.00   \n",
              "43980          45858.49         51494.02              -5635.52   \n",
              "331603       1033044.87        876069.89             156974.98   \n",
              "123136         87655.83             0.00             321256.73   \n",
              "\n",
              "        diff_new_old_destiny  \n",
              "578630            1783333.75  \n",
              "248692              42319.66  \n",
              "43980                5635.53  \n",
              "331603            -156974.98  \n",
              "123136             -87655.83  "
            ],
            "text/html": [
              "\n",
              "  <div id=\"df-66655e51-3bf9-4ffe-81ba-cebe8fb4a143\">\n",
              "    <div class=\"colab-df-container\">\n",
              "      <div>\n",
              "<style scoped>\n",
              "    .dataframe tbody tr th:only-of-type {\n",
              "        vertical-align: middle;\n",
              "    }\n",
              "\n",
              "    .dataframe tbody tr th {\n",
              "        vertical-align: top;\n",
              "    }\n",
              "\n",
              "    .dataframe thead th {\n",
              "        text-align: right;\n",
              "    }\n",
              "</style>\n",
              "<table border=\"1\" class=\"dataframe\">\n",
              "  <thead>\n",
              "    <tr style=\"text-align: right;\">\n",
              "      <th></th>\n",
              "      <th>step</th>\n",
              "      <th>type_PAYMENT</th>\n",
              "      <th>type_CASH_OUT</th>\n",
              "      <th>type_CASH_IN</th>\n",
              "      <th>type_TRANSFER</th>\n",
              "      <th>type_DEBIT</th>\n",
              "      <th>amount</th>\n",
              "      <th>oldbalance_org</th>\n",
              "      <th>newbalance_orig</th>\n",
              "      <th>oldbalance_dest</th>\n",
              "      <th>newbalance_dest</th>\n",
              "      <th>diff_new_old_balance</th>\n",
              "      <th>diff_new_old_destiny</th>\n",
              "    </tr>\n",
              "  </thead>\n",
              "  <tbody>\n",
              "    <tr>\n",
              "      <th>578630</th>\n",
              "      <td>94</td>\n",
              "      <td>0</td>\n",
              "      <td>0</td>\n",
              "      <td>0</td>\n",
              "      <td>1</td>\n",
              "      <td>0</td>\n",
              "      <td>672901.28</td>\n",
              "      <td>0.00</td>\n",
              "      <td>0.00</td>\n",
              "      <td>8881502.26</td>\n",
              "      <td>10664836.01</td>\n",
              "      <td>0.00</td>\n",
              "      <td>1783333.75</td>\n",
              "    </tr>\n",
              "    <tr>\n",
              "      <th>248692</th>\n",
              "      <td>234</td>\n",
              "      <td>0</td>\n",
              "      <td>1</td>\n",
              "      <td>0</td>\n",
              "      <td>0</td>\n",
              "      <td>0</td>\n",
              "      <td>42319.66</td>\n",
              "      <td>0.00</td>\n",
              "      <td>0.00</td>\n",
              "      <td>273167.66</td>\n",
              "      <td>315487.32</td>\n",
              "      <td>0.00</td>\n",
              "      <td>42319.66</td>\n",
              "    </tr>\n",
              "    <tr>\n",
              "      <th>43980</th>\n",
              "      <td>231</td>\n",
              "      <td>0</td>\n",
              "      <td>0</td>\n",
              "      <td>0</td>\n",
              "      <td>0</td>\n",
              "      <td>1</td>\n",
              "      <td>5635.52</td>\n",
              "      <td>133346.00</td>\n",
              "      <td>127710.48</td>\n",
              "      <td>45858.49</td>\n",
              "      <td>51494.02</td>\n",
              "      <td>-5635.52</td>\n",
              "      <td>5635.53</td>\n",
              "    </tr>\n",
              "    <tr>\n",
              "      <th>331603</th>\n",
              "      <td>358</td>\n",
              "      <td>0</td>\n",
              "      <td>0</td>\n",
              "      <td>1</td>\n",
              "      <td>0</td>\n",
              "      <td>0</td>\n",
              "      <td>156974.98</td>\n",
              "      <td>425464.73</td>\n",
              "      <td>582439.71</td>\n",
              "      <td>1033044.87</td>\n",
              "      <td>876069.89</td>\n",
              "      <td>156974.98</td>\n",
              "      <td>-156974.98</td>\n",
              "    </tr>\n",
              "    <tr>\n",
              "      <th>123136</th>\n",
              "      <td>33</td>\n",
              "      <td>0</td>\n",
              "      <td>0</td>\n",
              "      <td>1</td>\n",
              "      <td>0</td>\n",
              "      <td>0</td>\n",
              "      <td>321256.73</td>\n",
              "      <td>10501.00</td>\n",
              "      <td>331757.73</td>\n",
              "      <td>87655.83</td>\n",
              "      <td>0.00</td>\n",
              "      <td>321256.73</td>\n",
              "      <td>-87655.83</td>\n",
              "    </tr>\n",
              "  </tbody>\n",
              "</table>\n",
              "</div>\n",
              "      <button class=\"colab-df-convert\" onclick=\"convertToInteractive('df-66655e51-3bf9-4ffe-81ba-cebe8fb4a143')\"\n",
              "              title=\"Convert this dataframe to an interactive table.\"\n",
              "              style=\"display:none;\">\n",
              "        \n",
              "  <svg xmlns=\"http://www.w3.org/2000/svg\" height=\"24px\"viewBox=\"0 0 24 24\"\n",
              "       width=\"24px\">\n",
              "    <path d=\"M0 0h24v24H0V0z\" fill=\"none\"/>\n",
              "    <path d=\"M18.56 5.44l.94 2.06.94-2.06 2.06-.94-2.06-.94-.94-2.06-.94 2.06-2.06.94zm-11 1L8.5 8.5l.94-2.06 2.06-.94-2.06-.94L8.5 2.5l-.94 2.06-2.06.94zm10 10l.94 2.06.94-2.06 2.06-.94-2.06-.94-.94-2.06-.94 2.06-2.06.94z\"/><path d=\"M17.41 7.96l-1.37-1.37c-.4-.4-.92-.59-1.43-.59-.52 0-1.04.2-1.43.59L10.3 9.45l-7.72 7.72c-.78.78-.78 2.05 0 2.83L4 21.41c.39.39.9.59 1.41.59.51 0 1.02-.2 1.41-.59l7.78-7.78 2.81-2.81c.8-.78.8-2.07 0-2.86zM5.41 20L4 18.59l7.72-7.72 1.47 1.35L5.41 20z\"/>\n",
              "  </svg>\n",
              "      </button>\n",
              "      \n",
              "  <style>\n",
              "    .colab-df-container {\n",
              "      display:flex;\n",
              "      flex-wrap:wrap;\n",
              "      gap: 12px;\n",
              "    }\n",
              "\n",
              "    .colab-df-convert {\n",
              "      background-color: #E8F0FE;\n",
              "      border: none;\n",
              "      border-radius: 50%;\n",
              "      cursor: pointer;\n",
              "      display: none;\n",
              "      fill: #1967D2;\n",
              "      height: 32px;\n",
              "      padding: 0 0 0 0;\n",
              "      width: 32px;\n",
              "    }\n",
              "\n",
              "    .colab-df-convert:hover {\n",
              "      background-color: #E2EBFA;\n",
              "      box-shadow: 0px 1px 2px rgba(60, 64, 67, 0.3), 0px 1px 3px 1px rgba(60, 64, 67, 0.15);\n",
              "      fill: #174EA6;\n",
              "    }\n",
              "\n",
              "    [theme=dark] .colab-df-convert {\n",
              "      background-color: #3B4455;\n",
              "      fill: #D2E3FC;\n",
              "    }\n",
              "\n",
              "    [theme=dark] .colab-df-convert:hover {\n",
              "      background-color: #434B5C;\n",
              "      box-shadow: 0px 1px 3px 1px rgba(0, 0, 0, 0.15);\n",
              "      filter: drop-shadow(0px 1px 2px rgba(0, 0, 0, 0.3));\n",
              "      fill: #FFFFFF;\n",
              "    }\n",
              "  </style>\n",
              "\n",
              "      <script>\n",
              "        const buttonEl =\n",
              "          document.querySelector('#df-66655e51-3bf9-4ffe-81ba-cebe8fb4a143 button.colab-df-convert');\n",
              "        buttonEl.style.display =\n",
              "          google.colab.kernel.accessAllowed ? 'block' : 'none';\n",
              "\n",
              "        async function convertToInteractive(key) {\n",
              "          const element = document.querySelector('#df-66655e51-3bf9-4ffe-81ba-cebe8fb4a143');\n",
              "          const dataTable =\n",
              "            await google.colab.kernel.invokeFunction('convertToInteractive',\n",
              "                                                     [key], {});\n",
              "          if (!dataTable) return;\n",
              "\n",
              "          const docLinkHtml = 'Like what you see? Visit the ' +\n",
              "            '<a target=\"_blank\" href=https://colab.research.google.com/notebooks/data_table.ipynb>data table notebook</a>'\n",
              "            + ' to learn more about interactive tables.';\n",
              "          element.innerHTML = '';\n",
              "          dataTable['output_type'] = 'display_data';\n",
              "          await google.colab.output.renderOutput(dataTable, element);\n",
              "          const docLink = document.createElement('div');\n",
              "          docLink.innerHTML = docLinkHtml;\n",
              "          element.appendChild(docLink);\n",
              "        }\n",
              "      </script>\n",
              "    </div>\n",
              "  </div>\n",
              "  "
            ]
          },
          "metadata": {},
          "execution_count": 471
        }
      ],
      "source": [
        "ohe = OneHotEncoder(cols=['type'], use_cat_names=True)\n",
        "\n",
        "X_train = ohe.fit_transform(X_train)\n",
        "X_test = ohe.transform(X_test)\n",
        "X_train.head()\n",
        "X_test.head()"
      ]
    },
    {
      "cell_type": "markdown",
      "metadata": {
        "hidden": true,
        "id": "k4Q5UIs60uMS"
      },
      "source": [
        "## 4.3 Rescaling"
      ]
    },
    {
      "cell_type": "code",
      "execution_count": null,
      "metadata": {
        "ExecuteTime": {
          "end_time": "2021-01-11T18:49:00.603027Z",
          "start_time": "2021-01-11T18:48:59.044877Z"
        },
        "hidden": true,
        "id": "QBpoYsw70uMS"
      },
      "outputs": [],
      "source": [
        "num_columns = ['amount', 'oldbalance_org', 'newbalance_orig', 'oldbalance_dest', 'newbalance_dest',\n",
        "               'diff_new_old_balance', 'diff_new_old_destiny']\n",
        "mm = MinMaxScaler()\n",
        "X_params = X_train.copy()\n",
        "\n",
        "X_train[num_columns] = mm.fit_transform(X_train[num_columns])\n",
        "X_test[num_columns] = mm.transform(X_test[num_columns])\n",
        "\n",
        "X_params[num_columns] = mm.fit_transform(X_train[num_columns])\n",
        "X_test[num_columns] = mm.transform(X_test[num_columns])"
      ]
    },
    {
      "cell_type": "markdown",
      "metadata": {
        "heading_collapsed": true,
        "id": "4eaFdHn90uMS"
      },
      "source": [
        "# 5.0 Feature Selection"
      ]
    },
    {
      "cell_type": "code",
      "execution_count": null,
      "metadata": {
        "ExecuteTime": {
          "end_time": "2021-01-11T18:49:11.686754Z",
          "start_time": "2021-01-11T18:49:11.682897Z"
        },
        "hidden": true,
        "id": "9F2egAcK0uMT"
      },
      "outputs": [],
      "source": [
        "final_columns_selected = ['step', 'oldbalance_org',\n",
        "                          'newbalance_orig', 'newbalance_dest',\n",
        "                          'diff_new_old_balance', 'diff_new_old_destiny',\n",
        "                          'type_TRANSFER']"
      ]
    },
    {
      "cell_type": "markdown",
      "metadata": {
        "heading_collapsed": true,
        "id": "u_2ZWB7N0uMT"
      },
      "source": [
        "# 6.0 Machine Learning Modeling"
      ]
    },
    {
      "cell_type": "code",
      "execution_count": null,
      "metadata": {
        "ExecuteTime": {
          "end_time": "2021-01-11T18:49:15.589482Z",
          "start_time": "2021-01-11T18:49:15.542574Z"
        },
        "hidden": true,
        "id": "ERhro45U0uMU"
      },
      "outputs": [],
      "source": [
        "X_train_cs = X_train[final_columns_selected]\n",
        "\n",
        "X_test_cs = X_test[final_columns_selected]\n",
        "\n",
        "X_params_cs = X_params[final_columns_selected]"
      ]
    },
    {
      "cell_type": "markdown",
      "metadata": {
        "hidden": true,
        "id": "apVOG-4X0uMX"
      },
      "source": [
        "## 6.1 Logistic Regression"
      ]
    },
    {
      "cell_type": "code",
      "source": [
        "def ml_scores(model_name, y_true, y_pred,y_probs):\n",
        "\n",
        "    accuracy = balanced_accuracy_score(y_true, y_pred)\n",
        "    precision = precision_score(y_true, y_pred)\n",
        "    recall = recall_score(y_true, y_pred)\n",
        "    f1 = f1_score(y_true, y_pred)\n",
        "    auc= roc_auc_score(y_test,y_probs[:,1])\n",
        "\n",
        "    return pd.DataFrame({'Balanced Accuracy':accuracy,\n",
        "                         'Precision': precision,\n",
        "                         'Recall': recall,\n",
        "                         'F1': f1,\n",
        "                         'auc': auc},\n",
        "                        index=[model_name])\n"
      ],
      "metadata": {
        "id": "4yEo9k9aTFil"
      },
      "execution_count": null,
      "outputs": []
    },
    {
      "cell_type": "code",
      "execution_count": null,
      "metadata": {
        "ExecuteTime": {
          "end_time": "2021-01-11T18:49:26.692331Z",
          "start_time": "2021-01-11T18:49:20.044652Z"
        },
        "hidden": true,
        "id": "VHs9wGvK0uMY"
      },
      "outputs": [],
      "source": [
        "lg = LogisticRegression()\n",
        "lg.fit(X_train_cs, y_train)\n",
        "\n",
        "y_pred = lg.predict(X_test_cs)\n",
        "y_probs = lg.predict_proba(X_test_cs)"
      ]
    },
    {
      "cell_type": "code",
      "source": [
        "\n",
        "lg_results = ml_scores('Logistic Regression', y_test, y_pred,y_probs)\n",
        "lg_results\n"
      ],
      "metadata": {
        "colab": {
          "base_uri": "https://localhost:8080/",
          "height": 81
        },
        "id": "6XtwBTTtUPoz",
        "outputId": "038294bd-73e8-4355-ba5e-29756e9865a1"
      },
      "execution_count": null,
      "outputs": [
        {
          "output_type": "execute_result",
          "data": {
            "text/plain": [
              "                     Balanced Accuracy  Precision    Recall        F1  \\\n",
              "Logistic Regression           0.594512        1.0  0.189024  0.317949   \n",
              "\n",
              "                          auc  \n",
              "Logistic Regression  0.914964  "
            ],
            "text/html": [
              "\n",
              "  <div id=\"df-3137f172-80c2-405b-89f4-6285f13655ff\">\n",
              "    <div class=\"colab-df-container\">\n",
              "      <div>\n",
              "<style scoped>\n",
              "    .dataframe tbody tr th:only-of-type {\n",
              "        vertical-align: middle;\n",
              "    }\n",
              "\n",
              "    .dataframe tbody tr th {\n",
              "        vertical-align: top;\n",
              "    }\n",
              "\n",
              "    .dataframe thead th {\n",
              "        text-align: right;\n",
              "    }\n",
              "</style>\n",
              "<table border=\"1\" class=\"dataframe\">\n",
              "  <thead>\n",
              "    <tr style=\"text-align: right;\">\n",
              "      <th></th>\n",
              "      <th>Balanced Accuracy</th>\n",
              "      <th>Precision</th>\n",
              "      <th>Recall</th>\n",
              "      <th>F1</th>\n",
              "      <th>auc</th>\n",
              "    </tr>\n",
              "  </thead>\n",
              "  <tbody>\n",
              "    <tr>\n",
              "      <th>Logistic Regression</th>\n",
              "      <td>0.594512</td>\n",
              "      <td>1.0</td>\n",
              "      <td>0.189024</td>\n",
              "      <td>0.317949</td>\n",
              "      <td>0.914964</td>\n",
              "    </tr>\n",
              "  </tbody>\n",
              "</table>\n",
              "</div>\n",
              "      <button class=\"colab-df-convert\" onclick=\"convertToInteractive('df-3137f172-80c2-405b-89f4-6285f13655ff')\"\n",
              "              title=\"Convert this dataframe to an interactive table.\"\n",
              "              style=\"display:none;\">\n",
              "        \n",
              "  <svg xmlns=\"http://www.w3.org/2000/svg\" height=\"24px\"viewBox=\"0 0 24 24\"\n",
              "       width=\"24px\">\n",
              "    <path d=\"M0 0h24v24H0V0z\" fill=\"none\"/>\n",
              "    <path d=\"M18.56 5.44l.94 2.06.94-2.06 2.06-.94-2.06-.94-.94-2.06-.94 2.06-2.06.94zm-11 1L8.5 8.5l.94-2.06 2.06-.94-2.06-.94L8.5 2.5l-.94 2.06-2.06.94zm10 10l.94 2.06.94-2.06 2.06-.94-2.06-.94-.94-2.06-.94 2.06-2.06.94z\"/><path d=\"M17.41 7.96l-1.37-1.37c-.4-.4-.92-.59-1.43-.59-.52 0-1.04.2-1.43.59L10.3 9.45l-7.72 7.72c-.78.78-.78 2.05 0 2.83L4 21.41c.39.39.9.59 1.41.59.51 0 1.02-.2 1.41-.59l7.78-7.78 2.81-2.81c.8-.78.8-2.07 0-2.86zM5.41 20L4 18.59l7.72-7.72 1.47 1.35L5.41 20z\"/>\n",
              "  </svg>\n",
              "      </button>\n",
              "      \n",
              "  <style>\n",
              "    .colab-df-container {\n",
              "      display:flex;\n",
              "      flex-wrap:wrap;\n",
              "      gap: 12px;\n",
              "    }\n",
              "\n",
              "    .colab-df-convert {\n",
              "      background-color: #E8F0FE;\n",
              "      border: none;\n",
              "      border-radius: 50%;\n",
              "      cursor: pointer;\n",
              "      display: none;\n",
              "      fill: #1967D2;\n",
              "      height: 32px;\n",
              "      padding: 0 0 0 0;\n",
              "      width: 32px;\n",
              "    }\n",
              "\n",
              "    .colab-df-convert:hover {\n",
              "      background-color: #E2EBFA;\n",
              "      box-shadow: 0px 1px 2px rgba(60, 64, 67, 0.3), 0px 1px 3px 1px rgba(60, 64, 67, 0.15);\n",
              "      fill: #174EA6;\n",
              "    }\n",
              "\n",
              "    [theme=dark] .colab-df-convert {\n",
              "      background-color: #3B4455;\n",
              "      fill: #D2E3FC;\n",
              "    }\n",
              "\n",
              "    [theme=dark] .colab-df-convert:hover {\n",
              "      background-color: #434B5C;\n",
              "      box-shadow: 0px 1px 3px 1px rgba(0, 0, 0, 0.15);\n",
              "      filter: drop-shadow(0px 1px 2px rgba(0, 0, 0, 0.3));\n",
              "      fill: #FFFFFF;\n",
              "    }\n",
              "  </style>\n",
              "\n",
              "      <script>\n",
              "        const buttonEl =\n",
              "          document.querySelector('#df-3137f172-80c2-405b-89f4-6285f13655ff button.colab-df-convert');\n",
              "        buttonEl.style.display =\n",
              "          google.colab.kernel.accessAllowed ? 'block' : 'none';\n",
              "\n",
              "        async function convertToInteractive(key) {\n",
              "          const element = document.querySelector('#df-3137f172-80c2-405b-89f4-6285f13655ff');\n",
              "          const dataTable =\n",
              "            await google.colab.kernel.invokeFunction('convertToInteractive',\n",
              "                                                     [key], {});\n",
              "          if (!dataTable) return;\n",
              "\n",
              "          const docLinkHtml = 'Like what you see? Visit the ' +\n",
              "            '<a target=\"_blank\" href=https://colab.research.google.com/notebooks/data_table.ipynb>data table notebook</a>'\n",
              "            + ' to learn more about interactive tables.';\n",
              "          element.innerHTML = '';\n",
              "          dataTable['output_type'] = 'display_data';\n",
              "          await google.colab.output.renderOutput(dataTable, element);\n",
              "          const docLink = document.createElement('div');\n",
              "          docLink.innerHTML = docLinkHtml;\n",
              "          element.appendChild(docLink);\n",
              "        }\n",
              "      </script>\n",
              "    </div>\n",
              "  </div>\n",
              "  "
            ]
          },
          "metadata": {},
          "execution_count": 477
        }
      ]
    },
    {
      "cell_type": "markdown",
      "metadata": {
        "hidden": true,
        "id": "FnGcNkE70uMZ"
      },
      "source": [
        "### 6.1.1 Classification Report"
      ]
    },
    {
      "cell_type": "code",
      "execution_count": null,
      "metadata": {
        "ExecuteTime": {
          "end_time": "2021-01-11T18:49:27.359204Z",
          "start_time": "2021-01-11T18:49:27.138782Z"
        },
        "hidden": true,
        "id": "reo9SebM0uMZ",
        "outputId": "c5d78fff-f65d-4693-fd3c-7c7a3de97f94",
        "colab": {
          "base_uri": "https://localhost:8080/"
        }
      },
      "outputs": [
        {
          "output_type": "stream",
          "name": "stdout",
          "text": [
            "              precision    recall  f1-score   support\n",
            "\n",
            "           0       1.00      1.00      1.00    127089\n",
            "           1       1.00      0.19      0.32       164\n",
            "\n",
            "    accuracy                           1.00    127253\n",
            "   macro avg       1.00      0.59      0.66    127253\n",
            "weighted avg       1.00      1.00      1.00    127253\n",
            "\n"
          ]
        }
      ],
      "source": [
        "print(classification_report(y_test, y_pred))"
      ]
    },
    {
      "cell_type": "markdown",
      "metadata": {
        "hidden": true,
        "id": "np2-mHkP0uMb"
      },
      "source": [
        "## 6.2 K Nearest Neighbors"
      ]
    },
    {
      "cell_type": "code",
      "execution_count": null,
      "metadata": {
        "ExecuteTime": {
          "end_time": "2021-01-11T18:49:57.229314Z",
          "start_time": "2021-01-11T18:49:45.059296Z"
        },
        "hidden": true,
        "id": "Ee5PoNnf0uMc"
      },
      "outputs": [],
      "source": [
        "knn = KNeighborsClassifier()\n",
        "knn.fit(X_train_cs, y_train)\n",
        "\n",
        "y_pred = knn.predict(X_test_cs)\n",
        "y_probs = knn.predict_proba(X_test_cs)"
      ]
    },
    {
      "cell_type": "code",
      "source": [
        "knn_results = ml_scores('K Nearest Neighbors', y_test, y_pred,y_probs)\n",
        "knn_results"
      ],
      "metadata": {
        "colab": {
          "base_uri": "https://localhost:8080/",
          "height": 81
        },
        "id": "8h6gUkgaUpov",
        "outputId": "0c03ed50-df62-4355-90da-5ce2063b9dfc"
      },
      "execution_count": null,
      "outputs": [
        {
          "output_type": "execute_result",
          "data": {
            "text/plain": [
              "                     Balanced Accuracy  Precision    Recall        F1      auc\n",
              "K Nearest Neighbors           0.628041   0.954545  0.256098  0.403846  0.76482"
            ],
            "text/html": [
              "\n",
              "  <div id=\"df-20760f6c-6928-4aa1-9753-c5905b5d8d69\">\n",
              "    <div class=\"colab-df-container\">\n",
              "      <div>\n",
              "<style scoped>\n",
              "    .dataframe tbody tr th:only-of-type {\n",
              "        vertical-align: middle;\n",
              "    }\n",
              "\n",
              "    .dataframe tbody tr th {\n",
              "        vertical-align: top;\n",
              "    }\n",
              "\n",
              "    .dataframe thead th {\n",
              "        text-align: right;\n",
              "    }\n",
              "</style>\n",
              "<table border=\"1\" class=\"dataframe\">\n",
              "  <thead>\n",
              "    <tr style=\"text-align: right;\">\n",
              "      <th></th>\n",
              "      <th>Balanced Accuracy</th>\n",
              "      <th>Precision</th>\n",
              "      <th>Recall</th>\n",
              "      <th>F1</th>\n",
              "      <th>auc</th>\n",
              "    </tr>\n",
              "  </thead>\n",
              "  <tbody>\n",
              "    <tr>\n",
              "      <th>K Nearest Neighbors</th>\n",
              "      <td>0.628041</td>\n",
              "      <td>0.954545</td>\n",
              "      <td>0.256098</td>\n",
              "      <td>0.403846</td>\n",
              "      <td>0.76482</td>\n",
              "    </tr>\n",
              "  </tbody>\n",
              "</table>\n",
              "</div>\n",
              "      <button class=\"colab-df-convert\" onclick=\"convertToInteractive('df-20760f6c-6928-4aa1-9753-c5905b5d8d69')\"\n",
              "              title=\"Convert this dataframe to an interactive table.\"\n",
              "              style=\"display:none;\">\n",
              "        \n",
              "  <svg xmlns=\"http://www.w3.org/2000/svg\" height=\"24px\"viewBox=\"0 0 24 24\"\n",
              "       width=\"24px\">\n",
              "    <path d=\"M0 0h24v24H0V0z\" fill=\"none\"/>\n",
              "    <path d=\"M18.56 5.44l.94 2.06.94-2.06 2.06-.94-2.06-.94-.94-2.06-.94 2.06-2.06.94zm-11 1L8.5 8.5l.94-2.06 2.06-.94-2.06-.94L8.5 2.5l-.94 2.06-2.06.94zm10 10l.94 2.06.94-2.06 2.06-.94-2.06-.94-.94-2.06-.94 2.06-2.06.94z\"/><path d=\"M17.41 7.96l-1.37-1.37c-.4-.4-.92-.59-1.43-.59-.52 0-1.04.2-1.43.59L10.3 9.45l-7.72 7.72c-.78.78-.78 2.05 0 2.83L4 21.41c.39.39.9.59 1.41.59.51 0 1.02-.2 1.41-.59l7.78-7.78 2.81-2.81c.8-.78.8-2.07 0-2.86zM5.41 20L4 18.59l7.72-7.72 1.47 1.35L5.41 20z\"/>\n",
              "  </svg>\n",
              "      </button>\n",
              "      \n",
              "  <style>\n",
              "    .colab-df-container {\n",
              "      display:flex;\n",
              "      flex-wrap:wrap;\n",
              "      gap: 12px;\n",
              "    }\n",
              "\n",
              "    .colab-df-convert {\n",
              "      background-color: #E8F0FE;\n",
              "      border: none;\n",
              "      border-radius: 50%;\n",
              "      cursor: pointer;\n",
              "      display: none;\n",
              "      fill: #1967D2;\n",
              "      height: 32px;\n",
              "      padding: 0 0 0 0;\n",
              "      width: 32px;\n",
              "    }\n",
              "\n",
              "    .colab-df-convert:hover {\n",
              "      background-color: #E2EBFA;\n",
              "      box-shadow: 0px 1px 2px rgba(60, 64, 67, 0.3), 0px 1px 3px 1px rgba(60, 64, 67, 0.15);\n",
              "      fill: #174EA6;\n",
              "    }\n",
              "\n",
              "    [theme=dark] .colab-df-convert {\n",
              "      background-color: #3B4455;\n",
              "      fill: #D2E3FC;\n",
              "    }\n",
              "\n",
              "    [theme=dark] .colab-df-convert:hover {\n",
              "      background-color: #434B5C;\n",
              "      box-shadow: 0px 1px 3px 1px rgba(0, 0, 0, 0.15);\n",
              "      filter: drop-shadow(0px 1px 2px rgba(0, 0, 0, 0.3));\n",
              "      fill: #FFFFFF;\n",
              "    }\n",
              "  </style>\n",
              "\n",
              "      <script>\n",
              "        const buttonEl =\n",
              "          document.querySelector('#df-20760f6c-6928-4aa1-9753-c5905b5d8d69 button.colab-df-convert');\n",
              "        buttonEl.style.display =\n",
              "          google.colab.kernel.accessAllowed ? 'block' : 'none';\n",
              "\n",
              "        async function convertToInteractive(key) {\n",
              "          const element = document.querySelector('#df-20760f6c-6928-4aa1-9753-c5905b5d8d69');\n",
              "          const dataTable =\n",
              "            await google.colab.kernel.invokeFunction('convertToInteractive',\n",
              "                                                     [key], {});\n",
              "          if (!dataTable) return;\n",
              "\n",
              "          const docLinkHtml = 'Like what you see? Visit the ' +\n",
              "            '<a target=\"_blank\" href=https://colab.research.google.com/notebooks/data_table.ipynb>data table notebook</a>'\n",
              "            + ' to learn more about interactive tables.';\n",
              "          element.innerHTML = '';\n",
              "          dataTable['output_type'] = 'display_data';\n",
              "          await google.colab.output.renderOutput(dataTable, element);\n",
              "          const docLink = document.createElement('div');\n",
              "          docLink.innerHTML = docLinkHtml;\n",
              "          element.appendChild(docLink);\n",
              "        }\n",
              "      </script>\n",
              "    </div>\n",
              "  </div>\n",
              "  "
            ]
          },
          "metadata": {},
          "execution_count": 480
        }
      ]
    },
    {
      "cell_type": "markdown",
      "metadata": {
        "hidden": true,
        "id": "JBg10oHd0uMc"
      },
      "source": [
        "### 6.2.1 Classification Report"
      ]
    },
    {
      "cell_type": "code",
      "execution_count": null,
      "metadata": {
        "ExecuteTime": {
          "end_time": "2021-01-11T18:49:57.762156Z",
          "start_time": "2021-01-11T18:49:57.586973Z"
        },
        "hidden": true,
        "id": "Xh48347H0uMc",
        "outputId": "2f175770-4678-4477-ff91-ed5b5b44ed8e",
        "colab": {
          "base_uri": "https://localhost:8080/"
        }
      },
      "outputs": [
        {
          "output_type": "stream",
          "name": "stdout",
          "text": [
            "              precision    recall  f1-score   support\n",
            "\n",
            "           0       1.00      1.00      1.00    127089\n",
            "           1       0.95      0.26      0.40       164\n",
            "\n",
            "    accuracy                           1.00    127253\n",
            "   macro avg       0.98      0.63      0.70    127253\n",
            "weighted avg       1.00      1.00      1.00    127253\n",
            "\n"
          ]
        }
      ],
      "source": [
        "print(classification_report(y_test, y_pred))"
      ]
    },
    {
      "cell_type": "markdown",
      "metadata": {
        "hidden": true,
        "id": "Tb_UjDh40uMe"
      },
      "source": [
        "## 6.3 Random Forest"
      ]
    },
    {
      "cell_type": "code",
      "execution_count": null,
      "metadata": {
        "ExecuteTime": {
          "end_time": "2021-01-11T19:10:42.703370Z",
          "start_time": "2021-01-11T19:09:56.805739Z"
        },
        "hidden": true,
        "id": "5UZoCC-30uMe"
      },
      "outputs": [],
      "source": [
        "rf = RandomForestClassifier(class_weight='balanced')\n",
        "rf.fit(X_train_cs, y_train)\n",
        "\n",
        "y_pred = rf.predict(X_test_cs)\n",
        "y_probs = rf.predict_proba(X_test_cs)\n"
      ]
    },
    {
      "cell_type": "code",
      "source": [
        "rf_results = ml_scores('Random Forest', y_test, y_pred,y_probs)\n",
        "rf_results"
      ],
      "metadata": {
        "colab": {
          "base_uri": "https://localhost:8080/",
          "height": 81
        },
        "id": "CNS4IL_DVAbG",
        "outputId": "174ecd18-7831-442b-eef9-d038e33dbd02"
      },
      "execution_count": null,
      "outputs": [
        {
          "output_type": "execute_result",
          "data": {
            "text/plain": [
              "               Balanced Accuracy  Precision    Recall        F1       auc\n",
              "Random Forest           0.884135   0.976744  0.768293  0.860068  0.983481"
            ],
            "text/html": [
              "\n",
              "  <div id=\"df-6e7cf3aa-b6cb-4192-bce3-bcecf03ba727\">\n",
              "    <div class=\"colab-df-container\">\n",
              "      <div>\n",
              "<style scoped>\n",
              "    .dataframe tbody tr th:only-of-type {\n",
              "        vertical-align: middle;\n",
              "    }\n",
              "\n",
              "    .dataframe tbody tr th {\n",
              "        vertical-align: top;\n",
              "    }\n",
              "\n",
              "    .dataframe thead th {\n",
              "        text-align: right;\n",
              "    }\n",
              "</style>\n",
              "<table border=\"1\" class=\"dataframe\">\n",
              "  <thead>\n",
              "    <tr style=\"text-align: right;\">\n",
              "      <th></th>\n",
              "      <th>Balanced Accuracy</th>\n",
              "      <th>Precision</th>\n",
              "      <th>Recall</th>\n",
              "      <th>F1</th>\n",
              "      <th>auc</th>\n",
              "    </tr>\n",
              "  </thead>\n",
              "  <tbody>\n",
              "    <tr>\n",
              "      <th>Random Forest</th>\n",
              "      <td>0.884135</td>\n",
              "      <td>0.976744</td>\n",
              "      <td>0.768293</td>\n",
              "      <td>0.860068</td>\n",
              "      <td>0.983481</td>\n",
              "    </tr>\n",
              "  </tbody>\n",
              "</table>\n",
              "</div>\n",
              "      <button class=\"colab-df-convert\" onclick=\"convertToInteractive('df-6e7cf3aa-b6cb-4192-bce3-bcecf03ba727')\"\n",
              "              title=\"Convert this dataframe to an interactive table.\"\n",
              "              style=\"display:none;\">\n",
              "        \n",
              "  <svg xmlns=\"http://www.w3.org/2000/svg\" height=\"24px\"viewBox=\"0 0 24 24\"\n",
              "       width=\"24px\">\n",
              "    <path d=\"M0 0h24v24H0V0z\" fill=\"none\"/>\n",
              "    <path d=\"M18.56 5.44l.94 2.06.94-2.06 2.06-.94-2.06-.94-.94-2.06-.94 2.06-2.06.94zm-11 1L8.5 8.5l.94-2.06 2.06-.94-2.06-.94L8.5 2.5l-.94 2.06-2.06.94zm10 10l.94 2.06.94-2.06 2.06-.94-2.06-.94-.94-2.06-.94 2.06-2.06.94z\"/><path d=\"M17.41 7.96l-1.37-1.37c-.4-.4-.92-.59-1.43-.59-.52 0-1.04.2-1.43.59L10.3 9.45l-7.72 7.72c-.78.78-.78 2.05 0 2.83L4 21.41c.39.39.9.59 1.41.59.51 0 1.02-.2 1.41-.59l7.78-7.78 2.81-2.81c.8-.78.8-2.07 0-2.86zM5.41 20L4 18.59l7.72-7.72 1.47 1.35L5.41 20z\"/>\n",
              "  </svg>\n",
              "      </button>\n",
              "      \n",
              "  <style>\n",
              "    .colab-df-container {\n",
              "      display:flex;\n",
              "      flex-wrap:wrap;\n",
              "      gap: 12px;\n",
              "    }\n",
              "\n",
              "    .colab-df-convert {\n",
              "      background-color: #E8F0FE;\n",
              "      border: none;\n",
              "      border-radius: 50%;\n",
              "      cursor: pointer;\n",
              "      display: none;\n",
              "      fill: #1967D2;\n",
              "      height: 32px;\n",
              "      padding: 0 0 0 0;\n",
              "      width: 32px;\n",
              "    }\n",
              "\n",
              "    .colab-df-convert:hover {\n",
              "      background-color: #E2EBFA;\n",
              "      box-shadow: 0px 1px 2px rgba(60, 64, 67, 0.3), 0px 1px 3px 1px rgba(60, 64, 67, 0.15);\n",
              "      fill: #174EA6;\n",
              "    }\n",
              "\n",
              "    [theme=dark] .colab-df-convert {\n",
              "      background-color: #3B4455;\n",
              "      fill: #D2E3FC;\n",
              "    }\n",
              "\n",
              "    [theme=dark] .colab-df-convert:hover {\n",
              "      background-color: #434B5C;\n",
              "      box-shadow: 0px 1px 3px 1px rgba(0, 0, 0, 0.15);\n",
              "      filter: drop-shadow(0px 1px 2px rgba(0, 0, 0, 0.3));\n",
              "      fill: #FFFFFF;\n",
              "    }\n",
              "  </style>\n",
              "\n",
              "      <script>\n",
              "        const buttonEl =\n",
              "          document.querySelector('#df-6e7cf3aa-b6cb-4192-bce3-bcecf03ba727 button.colab-df-convert');\n",
              "        buttonEl.style.display =\n",
              "          google.colab.kernel.accessAllowed ? 'block' : 'none';\n",
              "\n",
              "        async function convertToInteractive(key) {\n",
              "          const element = document.querySelector('#df-6e7cf3aa-b6cb-4192-bce3-bcecf03ba727');\n",
              "          const dataTable =\n",
              "            await google.colab.kernel.invokeFunction('convertToInteractive',\n",
              "                                                     [key], {});\n",
              "          if (!dataTable) return;\n",
              "\n",
              "          const docLinkHtml = 'Like what you see? Visit the ' +\n",
              "            '<a target=\"_blank\" href=https://colab.research.google.com/notebooks/data_table.ipynb>data table notebook</a>'\n",
              "            + ' to learn more about interactive tables.';\n",
              "          element.innerHTML = '';\n",
              "          dataTable['output_type'] = 'display_data';\n",
              "          await google.colab.output.renderOutput(dataTable, element);\n",
              "          const docLink = document.createElement('div');\n",
              "          docLink.innerHTML = docLinkHtml;\n",
              "          element.appendChild(docLink);\n",
              "        }\n",
              "      </script>\n",
              "    </div>\n",
              "  </div>\n",
              "  "
            ]
          },
          "metadata": {},
          "execution_count": 483
        }
      ]
    },
    {
      "cell_type": "markdown",
      "metadata": {
        "hidden": true,
        "id": "DBuV7tbp0uMf"
      },
      "source": [
        "### 6.3.1 Classification Report"
      ]
    },
    {
      "cell_type": "code",
      "execution_count": null,
      "metadata": {
        "ExecuteTime": {
          "end_time": "2021-01-11T19:10:43.220005Z",
          "start_time": "2021-01-11T19:10:43.043253Z"
        },
        "hidden": true,
        "id": "AffS9aJI0uMf",
        "outputId": "27012455-00c0-4329-fc67-80f3491a0084",
        "colab": {
          "base_uri": "https://localhost:8080/"
        }
      },
      "outputs": [
        {
          "output_type": "stream",
          "name": "stdout",
          "text": [
            "              precision    recall  f1-score   support\n",
            "\n",
            "           0       1.00      1.00      1.00    127089\n",
            "           1       0.98      0.77      0.86       164\n",
            "\n",
            "    accuracy                           1.00    127253\n",
            "   macro avg       0.99      0.88      0.93    127253\n",
            "weighted avg       1.00      1.00      1.00    127253\n",
            "\n"
          ]
        }
      ],
      "source": [
        "print(classification_report(y_test, y_pred))"
      ]
    },
    {
      "cell_type": "markdown",
      "metadata": {
        "hidden": true,
        "id": "50QQo5zV0uMk"
      },
      "source": [
        "## 6.4 XGBoost"
      ]
    },
    {
      "cell_type": "code",
      "execution_count": null,
      "metadata": {
        "ExecuteTime": {
          "end_time": "2021-01-11T19:17:29.668827Z",
          "start_time": "2021-01-11T19:17:03.475475Z"
        },
        "hidden": true,
        "id": "wu6Y_cZS0uMl"
      },
      "outputs": [],
      "source": [
        "xgb = XGBClassifier()\n",
        "xgb.fit(X_train_cs, y_train)\n",
        "\n",
        "y_pred = xgb.predict(X_test_cs)\n",
        "y_probs = xgb.predict_proba(X_test_cs)"
      ]
    },
    {
      "cell_type": "code",
      "source": [
        "xgb_results = ml_scores('XGB', y_test, y_pred,y_probs)\n",
        "xgb_results"
      ],
      "metadata": {
        "colab": {
          "base_uri": "https://localhost:8080/",
          "height": 81
        },
        "id": "8tDgK5B4VJX5",
        "outputId": "9e52d14a-e92e-4346-96ed-d7b260f924f8"
      },
      "execution_count": null,
      "outputs": [
        {
          "output_type": "execute_result",
          "data": {
            "text/plain": [
              "     Balanced Accuracy  Precision    Recall        F1       auc\n",
              "XGB           0.905456   0.943262  0.810976  0.872131  0.999525"
            ],
            "text/html": [
              "\n",
              "  <div id=\"df-0d95169a-10cc-4892-8ca3-f4ece2e2d83a\">\n",
              "    <div class=\"colab-df-container\">\n",
              "      <div>\n",
              "<style scoped>\n",
              "    .dataframe tbody tr th:only-of-type {\n",
              "        vertical-align: middle;\n",
              "    }\n",
              "\n",
              "    .dataframe tbody tr th {\n",
              "        vertical-align: top;\n",
              "    }\n",
              "\n",
              "    .dataframe thead th {\n",
              "        text-align: right;\n",
              "    }\n",
              "</style>\n",
              "<table border=\"1\" class=\"dataframe\">\n",
              "  <thead>\n",
              "    <tr style=\"text-align: right;\">\n",
              "      <th></th>\n",
              "      <th>Balanced Accuracy</th>\n",
              "      <th>Precision</th>\n",
              "      <th>Recall</th>\n",
              "      <th>F1</th>\n",
              "      <th>auc</th>\n",
              "    </tr>\n",
              "  </thead>\n",
              "  <tbody>\n",
              "    <tr>\n",
              "      <th>XGB</th>\n",
              "      <td>0.905456</td>\n",
              "      <td>0.943262</td>\n",
              "      <td>0.810976</td>\n",
              "      <td>0.872131</td>\n",
              "      <td>0.999525</td>\n",
              "    </tr>\n",
              "  </tbody>\n",
              "</table>\n",
              "</div>\n",
              "      <button class=\"colab-df-convert\" onclick=\"convertToInteractive('df-0d95169a-10cc-4892-8ca3-f4ece2e2d83a')\"\n",
              "              title=\"Convert this dataframe to an interactive table.\"\n",
              "              style=\"display:none;\">\n",
              "        \n",
              "  <svg xmlns=\"http://www.w3.org/2000/svg\" height=\"24px\"viewBox=\"0 0 24 24\"\n",
              "       width=\"24px\">\n",
              "    <path d=\"M0 0h24v24H0V0z\" fill=\"none\"/>\n",
              "    <path d=\"M18.56 5.44l.94 2.06.94-2.06 2.06-.94-2.06-.94-.94-2.06-.94 2.06-2.06.94zm-11 1L8.5 8.5l.94-2.06 2.06-.94-2.06-.94L8.5 2.5l-.94 2.06-2.06.94zm10 10l.94 2.06.94-2.06 2.06-.94-2.06-.94-.94-2.06-.94 2.06-2.06.94z\"/><path d=\"M17.41 7.96l-1.37-1.37c-.4-.4-.92-.59-1.43-.59-.52 0-1.04.2-1.43.59L10.3 9.45l-7.72 7.72c-.78.78-.78 2.05 0 2.83L4 21.41c.39.39.9.59 1.41.59.51 0 1.02-.2 1.41-.59l7.78-7.78 2.81-2.81c.8-.78.8-2.07 0-2.86zM5.41 20L4 18.59l7.72-7.72 1.47 1.35L5.41 20z\"/>\n",
              "  </svg>\n",
              "      </button>\n",
              "      \n",
              "  <style>\n",
              "    .colab-df-container {\n",
              "      display:flex;\n",
              "      flex-wrap:wrap;\n",
              "      gap: 12px;\n",
              "    }\n",
              "\n",
              "    .colab-df-convert {\n",
              "      background-color: #E8F0FE;\n",
              "      border: none;\n",
              "      border-radius: 50%;\n",
              "      cursor: pointer;\n",
              "      display: none;\n",
              "      fill: #1967D2;\n",
              "      height: 32px;\n",
              "      padding: 0 0 0 0;\n",
              "      width: 32px;\n",
              "    }\n",
              "\n",
              "    .colab-df-convert:hover {\n",
              "      background-color: #E2EBFA;\n",
              "      box-shadow: 0px 1px 2px rgba(60, 64, 67, 0.3), 0px 1px 3px 1px rgba(60, 64, 67, 0.15);\n",
              "      fill: #174EA6;\n",
              "    }\n",
              "\n",
              "    [theme=dark] .colab-df-convert {\n",
              "      background-color: #3B4455;\n",
              "      fill: #D2E3FC;\n",
              "    }\n",
              "\n",
              "    [theme=dark] .colab-df-convert:hover {\n",
              "      background-color: #434B5C;\n",
              "      box-shadow: 0px 1px 3px 1px rgba(0, 0, 0, 0.15);\n",
              "      filter: drop-shadow(0px 1px 2px rgba(0, 0, 0, 0.3));\n",
              "      fill: #FFFFFF;\n",
              "    }\n",
              "  </style>\n",
              "\n",
              "      <script>\n",
              "        const buttonEl =\n",
              "          document.querySelector('#df-0d95169a-10cc-4892-8ca3-f4ece2e2d83a button.colab-df-convert');\n",
              "        buttonEl.style.display =\n",
              "          google.colab.kernel.accessAllowed ? 'block' : 'none';\n",
              "\n",
              "        async function convertToInteractive(key) {\n",
              "          const element = document.querySelector('#df-0d95169a-10cc-4892-8ca3-f4ece2e2d83a');\n",
              "          const dataTable =\n",
              "            await google.colab.kernel.invokeFunction('convertToInteractive',\n",
              "                                                     [key], {});\n",
              "          if (!dataTable) return;\n",
              "\n",
              "          const docLinkHtml = 'Like what you see? Visit the ' +\n",
              "            '<a target=\"_blank\" href=https://colab.research.google.com/notebooks/data_table.ipynb>data table notebook</a>'\n",
              "            + ' to learn more about interactive tables.';\n",
              "          element.innerHTML = '';\n",
              "          dataTable['output_type'] = 'display_data';\n",
              "          await google.colab.output.renderOutput(dataTable, element);\n",
              "          const docLink = document.createElement('div');\n",
              "          docLink.innerHTML = docLinkHtml;\n",
              "          element.appendChild(docLink);\n",
              "        }\n",
              "      </script>\n",
              "    </div>\n",
              "  </div>\n",
              "  "
            ]
          },
          "metadata": {},
          "execution_count": 486
        }
      ]
    },
    {
      "cell_type": "markdown",
      "metadata": {
        "hidden": true,
        "id": "25gJxlpv0uMl"
      },
      "source": [
        "### 6.4.1 Classification Report"
      ]
    },
    {
      "cell_type": "code",
      "execution_count": null,
      "metadata": {
        "ExecuteTime": {
          "end_time": "2021-01-11T19:17:30.279678Z",
          "start_time": "2021-01-11T19:17:30.052006Z"
        },
        "hidden": true,
        "colab": {
          "base_uri": "https://localhost:8080/"
        },
        "id": "IYpiYB7Z0uMl",
        "outputId": "cfaf198c-fea5-441b-c7fe-924848481715"
      },
      "outputs": [
        {
          "output_type": "stream",
          "name": "stdout",
          "text": [
            "              precision    recall  f1-score   support\n",
            "\n",
            "           0       1.00      1.00      1.00    127089\n",
            "           1       0.94      0.81      0.87       164\n",
            "\n",
            "    accuracy                           1.00    127253\n",
            "   macro avg       0.97      0.91      0.94    127253\n",
            "weighted avg       1.00      1.00      1.00    127253\n",
            "\n"
          ]
        }
      ],
      "source": [
        "print(classification_report(y_test, y_pred))"
      ]
    },
    {
      "cell_type": "markdown",
      "metadata": {
        "hidden": true,
        "id": "AOMnagDB0uMn"
      },
      "source": [
        "### 6.5  Performance"
      ]
    },
    {
      "cell_type": "code",
      "source": [
        "modeling_performance = pd.concat([lg_results, knn_results,rf_results, xgb_results,])\n",
        "modeling_performance.sort_values(by=\"auc\", ascending=False)"
      ],
      "metadata": {
        "colab": {
          "base_uri": "https://localhost:8080/",
          "height": 175
        },
        "id": "NYyviPNaT1pr",
        "outputId": "51053dcd-477f-4d2d-d45b-9b5cf16dd9c3"
      },
      "execution_count": null,
      "outputs": [
        {
          "output_type": "execute_result",
          "data": {
            "text/plain": [
              "                     Balanced Accuracy  Precision    Recall        F1  \\\n",
              "XGB                           0.905456   0.943262  0.810976  0.872131   \n",
              "Random Forest                 0.884135   0.976744  0.768293  0.860068   \n",
              "Logistic Regression           0.594512   1.000000  0.189024  0.317949   \n",
              "K Nearest Neighbors           0.628041   0.954545  0.256098  0.403846   \n",
              "\n",
              "                          auc  \n",
              "XGB                  0.999525  \n",
              "Random Forest        0.983481  \n",
              "Logistic Regression  0.914964  \n",
              "K Nearest Neighbors  0.764820  "
            ],
            "text/html": [
              "\n",
              "  <div id=\"df-386f85e4-1a87-4755-84a3-c3d7adbd4c35\">\n",
              "    <div class=\"colab-df-container\">\n",
              "      <div>\n",
              "<style scoped>\n",
              "    .dataframe tbody tr th:only-of-type {\n",
              "        vertical-align: middle;\n",
              "    }\n",
              "\n",
              "    .dataframe tbody tr th {\n",
              "        vertical-align: top;\n",
              "    }\n",
              "\n",
              "    .dataframe thead th {\n",
              "        text-align: right;\n",
              "    }\n",
              "</style>\n",
              "<table border=\"1\" class=\"dataframe\">\n",
              "  <thead>\n",
              "    <tr style=\"text-align: right;\">\n",
              "      <th></th>\n",
              "      <th>Balanced Accuracy</th>\n",
              "      <th>Precision</th>\n",
              "      <th>Recall</th>\n",
              "      <th>F1</th>\n",
              "      <th>auc</th>\n",
              "    </tr>\n",
              "  </thead>\n",
              "  <tbody>\n",
              "    <tr>\n",
              "      <th>XGB</th>\n",
              "      <td>0.905456</td>\n",
              "      <td>0.943262</td>\n",
              "      <td>0.810976</td>\n",
              "      <td>0.872131</td>\n",
              "      <td>0.999525</td>\n",
              "    </tr>\n",
              "    <tr>\n",
              "      <th>Random Forest</th>\n",
              "      <td>0.884135</td>\n",
              "      <td>0.976744</td>\n",
              "      <td>0.768293</td>\n",
              "      <td>0.860068</td>\n",
              "      <td>0.983481</td>\n",
              "    </tr>\n",
              "    <tr>\n",
              "      <th>Logistic Regression</th>\n",
              "      <td>0.594512</td>\n",
              "      <td>1.000000</td>\n",
              "      <td>0.189024</td>\n",
              "      <td>0.317949</td>\n",
              "      <td>0.914964</td>\n",
              "    </tr>\n",
              "    <tr>\n",
              "      <th>K Nearest Neighbors</th>\n",
              "      <td>0.628041</td>\n",
              "      <td>0.954545</td>\n",
              "      <td>0.256098</td>\n",
              "      <td>0.403846</td>\n",
              "      <td>0.764820</td>\n",
              "    </tr>\n",
              "  </tbody>\n",
              "</table>\n",
              "</div>\n",
              "      <button class=\"colab-df-convert\" onclick=\"convertToInteractive('df-386f85e4-1a87-4755-84a3-c3d7adbd4c35')\"\n",
              "              title=\"Convert this dataframe to an interactive table.\"\n",
              "              style=\"display:none;\">\n",
              "        \n",
              "  <svg xmlns=\"http://www.w3.org/2000/svg\" height=\"24px\"viewBox=\"0 0 24 24\"\n",
              "       width=\"24px\">\n",
              "    <path d=\"M0 0h24v24H0V0z\" fill=\"none\"/>\n",
              "    <path d=\"M18.56 5.44l.94 2.06.94-2.06 2.06-.94-2.06-.94-.94-2.06-.94 2.06-2.06.94zm-11 1L8.5 8.5l.94-2.06 2.06-.94-2.06-.94L8.5 2.5l-.94 2.06-2.06.94zm10 10l.94 2.06.94-2.06 2.06-.94-2.06-.94-.94-2.06-.94 2.06-2.06.94z\"/><path d=\"M17.41 7.96l-1.37-1.37c-.4-.4-.92-.59-1.43-.59-.52 0-1.04.2-1.43.59L10.3 9.45l-7.72 7.72c-.78.78-.78 2.05 0 2.83L4 21.41c.39.39.9.59 1.41.59.51 0 1.02-.2 1.41-.59l7.78-7.78 2.81-2.81c.8-.78.8-2.07 0-2.86zM5.41 20L4 18.59l7.72-7.72 1.47 1.35L5.41 20z\"/>\n",
              "  </svg>\n",
              "      </button>\n",
              "      \n",
              "  <style>\n",
              "    .colab-df-container {\n",
              "      display:flex;\n",
              "      flex-wrap:wrap;\n",
              "      gap: 12px;\n",
              "    }\n",
              "\n",
              "    .colab-df-convert {\n",
              "      background-color: #E8F0FE;\n",
              "      border: none;\n",
              "      border-radius: 50%;\n",
              "      cursor: pointer;\n",
              "      display: none;\n",
              "      fill: #1967D2;\n",
              "      height: 32px;\n",
              "      padding: 0 0 0 0;\n",
              "      width: 32px;\n",
              "    }\n",
              "\n",
              "    .colab-df-convert:hover {\n",
              "      background-color: #E2EBFA;\n",
              "      box-shadow: 0px 1px 2px rgba(60, 64, 67, 0.3), 0px 1px 3px 1px rgba(60, 64, 67, 0.15);\n",
              "      fill: #174EA6;\n",
              "    }\n",
              "\n",
              "    [theme=dark] .colab-df-convert {\n",
              "      background-color: #3B4455;\n",
              "      fill: #D2E3FC;\n",
              "    }\n",
              "\n",
              "    [theme=dark] .colab-df-convert:hover {\n",
              "      background-color: #434B5C;\n",
              "      box-shadow: 0px 1px 3px 1px rgba(0, 0, 0, 0.15);\n",
              "      filter: drop-shadow(0px 1px 2px rgba(0, 0, 0, 0.3));\n",
              "      fill: #FFFFFF;\n",
              "    }\n",
              "  </style>\n",
              "\n",
              "      <script>\n",
              "        const buttonEl =\n",
              "          document.querySelector('#df-386f85e4-1a87-4755-84a3-c3d7adbd4c35 button.colab-df-convert');\n",
              "        buttonEl.style.display =\n",
              "          google.colab.kernel.accessAllowed ? 'block' : 'none';\n",
              "\n",
              "        async function convertToInteractive(key) {\n",
              "          const element = document.querySelector('#df-386f85e4-1a87-4755-84a3-c3d7adbd4c35');\n",
              "          const dataTable =\n",
              "            await google.colab.kernel.invokeFunction('convertToInteractive',\n",
              "                                                     [key], {});\n",
              "          if (!dataTable) return;\n",
              "\n",
              "          const docLinkHtml = 'Like what you see? Visit the ' +\n",
              "            '<a target=\"_blank\" href=https://colab.research.google.com/notebooks/data_table.ipynb>data table notebook</a>'\n",
              "            + ' to learn more about interactive tables.';\n",
              "          element.innerHTML = '';\n",
              "          dataTable['output_type'] = 'display_data';\n",
              "          await google.colab.output.renderOutput(dataTable, element);\n",
              "          const docLink = document.createElement('div');\n",
              "          docLink.innerHTML = docLinkHtml;\n",
              "          element.appendChild(docLink);\n",
              "        }\n",
              "      </script>\n",
              "    </div>\n",
              "  </div>\n",
              "  "
            ]
          },
          "metadata": {},
          "execution_count": 488
        }
      ]
    },
    {
      "cell_type": "markdown",
      "metadata": {
        "heading_collapsed": true,
        "id": "IXIvs1rX0uMo"
      },
      "source": [
        "# 7.0 Hyperparameter Fine Tuning"
      ]
    },
    {
      "cell_type": "code",
      "execution_count": null,
      "metadata": {
        "ExecuteTime": {
          "end_time": "2021-01-11T19:22:05.640133Z",
          "start_time": "2021-01-11T19:22:05.633309Z"
        },
        "hidden": true,
        "id": "8fsgS1uG0uMo"
      },
      "outputs": [],
      "source": [
        "auc = make_scorer(roc_auc_score)"
      ]
    },
    {
      "cell_type": "code",
      "execution_count": null,
      "metadata": {
        "ExecuteTime": {
          "end_time": "2021-01-11T20:55:31.712716Z",
          "start_time": "2021-01-11T20:55:31.709317Z"
        },
        "hidden": true,
        "id": "cVRJqzqU0uMp"
      },
      "outputs": [],
      "source": [
        "best_params = {'booster': 'gbtree', 'eta': 0.3, 'scale_pos_weight': 1}"
      ]
    },
    {
      "cell_type": "markdown",
      "metadata": {
        "hidden": true,
        "id": "rE-ATrzh0uMp"
      },
      "source": [
        "## 8 Results"
      ]
    },
    {
      "cell_type": "code",
      "execution_count": null,
      "metadata": {
        "ExecuteTime": {
          "end_time": "2021-01-11T20:55:31.724999Z",
          "start_time": "2021-01-11T20:55:31.722348Z"
        },
        "hidden": true,
        "id": "CmQpayl70uMp"
      },
      "outputs": [],
      "source": [
        "xgb_gs = XGBClassifier(\n",
        "    booster=best_params['booster'],\n",
        "    eta=best_params['eta'],\n",
        "    scale_pos_weight=best_params['scale_pos_weight']\n",
        ")"
      ]
    },
    {
      "cell_type": "code",
      "execution_count": null,
      "metadata": {
        "ExecuteTime": {
          "end_time": "2021-01-11T20:55:52.745584Z",
          "start_time": "2021-01-11T20:55:31.726949Z"
        },
        "hidden": true,
        "colab": {
          "base_uri": "https://localhost:8080/",
          "height": 248
        },
        "id": "0hKNMm4c0uMp",
        "outputId": "c1c360be-cdee-4600-ee18-fc10906e6adb"
      },
      "outputs": [
        {
          "output_type": "execute_result",
          "data": {
            "text/plain": [
              "XGBClassifier(base_score=None, booster='gbtree', callbacks=None,\n",
              "              colsample_bylevel=None, colsample_bynode=None,\n",
              "              colsample_bytree=None, early_stopping_rounds=None,\n",
              "              enable_categorical=False, eta=0.3, eval_metric=None,\n",
              "              feature_types=None, gamma=None, gpu_id=None, grow_policy=None,\n",
              "              importance_type=None, interaction_constraints=None,\n",
              "              learning_rate=None, max_bin=None, max_cat_threshold=None,\n",
              "              max_cat_to_onehot=None, max_delta_step=None, max_depth=None,\n",
              "              max_leaves=None, min_child_weight=None, missing=nan,\n",
              "              monotone_constraints=None, n_estimators=100, n_jobs=None,\n",
              "              num_parallel_tree=None, predictor=None, ...)"
            ],
            "text/html": [
              "<style>#sk-container-id-11 {color: black;background-color: white;}#sk-container-id-11 pre{padding: 0;}#sk-container-id-11 div.sk-toggleable {background-color: white;}#sk-container-id-11 label.sk-toggleable__label {cursor: pointer;display: block;width: 100%;margin-bottom: 0;padding: 0.3em;box-sizing: border-box;text-align: center;}#sk-container-id-11 label.sk-toggleable__label-arrow:before {content: \"▸\";float: left;margin-right: 0.25em;color: #696969;}#sk-container-id-11 label.sk-toggleable__label-arrow:hover:before {color: black;}#sk-container-id-11 div.sk-estimator:hover label.sk-toggleable__label-arrow:before {color: black;}#sk-container-id-11 div.sk-toggleable__content {max-height: 0;max-width: 0;overflow: hidden;text-align: left;background-color: #f0f8ff;}#sk-container-id-11 div.sk-toggleable__content pre {margin: 0.2em;color: black;border-radius: 0.25em;background-color: #f0f8ff;}#sk-container-id-11 input.sk-toggleable__control:checked~div.sk-toggleable__content {max-height: 200px;max-width: 100%;overflow: auto;}#sk-container-id-11 input.sk-toggleable__control:checked~label.sk-toggleable__label-arrow:before {content: \"▾\";}#sk-container-id-11 div.sk-estimator input.sk-toggleable__control:checked~label.sk-toggleable__label {background-color: #d4ebff;}#sk-container-id-11 div.sk-label input.sk-toggleable__control:checked~label.sk-toggleable__label {background-color: #d4ebff;}#sk-container-id-11 input.sk-hidden--visually {border: 0;clip: rect(1px 1px 1px 1px);clip: rect(1px, 1px, 1px, 1px);height: 1px;margin: -1px;overflow: hidden;padding: 0;position: absolute;width: 1px;}#sk-container-id-11 div.sk-estimator {font-family: monospace;background-color: #f0f8ff;border: 1px dotted black;border-radius: 0.25em;box-sizing: border-box;margin-bottom: 0.5em;}#sk-container-id-11 div.sk-estimator:hover {background-color: #d4ebff;}#sk-container-id-11 div.sk-parallel-item::after {content: \"\";width: 100%;border-bottom: 1px solid gray;flex-grow: 1;}#sk-container-id-11 div.sk-label:hover label.sk-toggleable__label {background-color: #d4ebff;}#sk-container-id-11 div.sk-serial::before {content: \"\";position: absolute;border-left: 1px solid gray;box-sizing: border-box;top: 0;bottom: 0;left: 50%;z-index: 0;}#sk-container-id-11 div.sk-serial {display: flex;flex-direction: column;align-items: center;background-color: white;padding-right: 0.2em;padding-left: 0.2em;position: relative;}#sk-container-id-11 div.sk-item {position: relative;z-index: 1;}#sk-container-id-11 div.sk-parallel {display: flex;align-items: stretch;justify-content: center;background-color: white;position: relative;}#sk-container-id-11 div.sk-item::before, #sk-container-id-11 div.sk-parallel-item::before {content: \"\";position: absolute;border-left: 1px solid gray;box-sizing: border-box;top: 0;bottom: 0;left: 50%;z-index: -1;}#sk-container-id-11 div.sk-parallel-item {display: flex;flex-direction: column;z-index: 1;position: relative;background-color: white;}#sk-container-id-11 div.sk-parallel-item:first-child::after {align-self: flex-end;width: 50%;}#sk-container-id-11 div.sk-parallel-item:last-child::after {align-self: flex-start;width: 50%;}#sk-container-id-11 div.sk-parallel-item:only-child::after {width: 0;}#sk-container-id-11 div.sk-dashed-wrapped {border: 1px dashed gray;margin: 0 0.4em 0.5em 0.4em;box-sizing: border-box;padding-bottom: 0.4em;background-color: white;}#sk-container-id-11 div.sk-label label {font-family: monospace;font-weight: bold;display: inline-block;line-height: 1.2em;}#sk-container-id-11 div.sk-label-container {text-align: center;}#sk-container-id-11 div.sk-container {/* jupyter's `normalize.less` sets `[hidden] { display: none; }` but bootstrap.min.css set `[hidden] { display: none !important; }` so we also need the `!important` here to be able to override the default hidden behavior on the sphinx rendered scikit-learn.org. See: https://github.com/scikit-learn/scikit-learn/issues/21755 */display: inline-block !important;position: relative;}#sk-container-id-11 div.sk-text-repr-fallback {display: none;}</style><div id=\"sk-container-id-11\" class=\"sk-top-container\"><div class=\"sk-text-repr-fallback\"><pre>XGBClassifier(base_score=None, booster=&#x27;gbtree&#x27;, callbacks=None,\n",
              "              colsample_bylevel=None, colsample_bynode=None,\n",
              "              colsample_bytree=None, early_stopping_rounds=None,\n",
              "              enable_categorical=False, eta=0.3, eval_metric=None,\n",
              "              feature_types=None, gamma=None, gpu_id=None, grow_policy=None,\n",
              "              importance_type=None, interaction_constraints=None,\n",
              "              learning_rate=None, max_bin=None, max_cat_threshold=None,\n",
              "              max_cat_to_onehot=None, max_delta_step=None, max_depth=None,\n",
              "              max_leaves=None, min_child_weight=None, missing=nan,\n",
              "              monotone_constraints=None, n_estimators=100, n_jobs=None,\n",
              "              num_parallel_tree=None, predictor=None, ...)</pre><b>In a Jupyter environment, please rerun this cell to show the HTML representation or trust the notebook. <br />On GitHub, the HTML representation is unable to render, please try loading this page with nbviewer.org.</b></div><div class=\"sk-container\" hidden><div class=\"sk-item\"><div class=\"sk-estimator sk-toggleable\"><input class=\"sk-toggleable__control sk-hidden--visually\" id=\"sk-estimator-id-11\" type=\"checkbox\" checked><label for=\"sk-estimator-id-11\" class=\"sk-toggleable__label sk-toggleable__label-arrow\">XGBClassifier</label><div class=\"sk-toggleable__content\"><pre>XGBClassifier(base_score=None, booster=&#x27;gbtree&#x27;, callbacks=None,\n",
              "              colsample_bylevel=None, colsample_bynode=None,\n",
              "              colsample_bytree=None, early_stopping_rounds=None,\n",
              "              enable_categorical=False, eta=0.3, eval_metric=None,\n",
              "              feature_types=None, gamma=None, gpu_id=None, grow_policy=None,\n",
              "              importance_type=None, interaction_constraints=None,\n",
              "              learning_rate=None, max_bin=None, max_cat_threshold=None,\n",
              "              max_cat_to_onehot=None, max_delta_step=None, max_depth=None,\n",
              "              max_leaves=None, min_child_weight=None, missing=nan,\n",
              "              monotone_constraints=None, n_estimators=100, n_jobs=None,\n",
              "              num_parallel_tree=None, predictor=None, ...)</pre></div></div></div></div></div>"
            ]
          },
          "metadata": {},
          "execution_count": 492
        }
      ],
      "source": [
        "xgb_gs.fit(X_train_cs, y_train)"
      ]
    },
    {
      "cell_type": "code",
      "execution_count": null,
      "metadata": {
        "ExecuteTime": {
          "end_time": "2021-01-11T20:55:53.028663Z",
          "start_time": "2021-01-11T20:55:52.747809Z"
        },
        "hidden": true,
        "colab": {
          "base_uri": "https://localhost:8080/"
        },
        "id": "6f0ZtJ3S0uMq",
        "outputId": "c5687dc0-1621-4569-b262-35066f7a6a43"
      },
      "outputs": [
        {
          "output_type": "stream",
          "name": "stdout",
          "text": [
            "0.999995607616942\n"
          ]
        }
      ],
      "source": [
        "y_pred = xgb_gs.predict(X_train_cs)\n",
        "probs = xgb_gs.predict_proba(X_train_cs)\n",
        "print(roc_auc_score(y_train, probs[:,1]))"
      ]
    },
    {
      "cell_type": "markdown",
      "metadata": {
        "heading_collapsed": true,
        "id": "OxaGTqtZ0uMq"
      },
      "source": [
        "# 9.0 Conclusions"
      ]
    },
    {
      "cell_type": "markdown",
      "metadata": {
        "hidden": true,
        "id": "7A6_zsQU0uMq"
      },
      "source": [
        "## 9.1 Final Model"
      ]
    },
    {
      "cell_type": "code",
      "execution_count": null,
      "metadata": {
        "ExecuteTime": {
          "end_time": "2021-01-11T21:05:56.929387Z",
          "start_time": "2021-01-11T21:05:24.082949Z"
        },
        "hidden": true,
        "colab": {
          "base_uri": "https://localhost:8080/",
          "height": 248
        },
        "id": "e4l8WGOv0uMv",
        "outputId": "c9e87fd5-118d-47e1-a9e2-5d5e2d3009f7"
      },
      "outputs": [
        {
          "output_type": "execute_result",
          "data": {
            "text/plain": [
              "XGBClassifier(base_score=None, booster='gbtree', callbacks=None,\n",
              "              colsample_bylevel=None, colsample_bynode=None,\n",
              "              colsample_bytree=None, early_stopping_rounds=None,\n",
              "              enable_categorical=False, eta=0.3, eval_metric=None,\n",
              "              feature_types=None, gamma=None, gpu_id=None, grow_policy=None,\n",
              "              importance_type=None, interaction_constraints=None,\n",
              "              learning_rate=None, max_bin=None, max_cat_threshold=None,\n",
              "              max_cat_to_onehot=None, max_delta_step=None, max_depth=None,\n",
              "              max_leaves=None, min_child_weight=None, missing=nan,\n",
              "              monotone_constraints=None, n_estimators=100, n_jobs=None,\n",
              "              num_parallel_tree=None, predictor=None, ...)"
            ],
            "text/html": [
              "<style>#sk-container-id-12 {color: black;background-color: white;}#sk-container-id-12 pre{padding: 0;}#sk-container-id-12 div.sk-toggleable {background-color: white;}#sk-container-id-12 label.sk-toggleable__label {cursor: pointer;display: block;width: 100%;margin-bottom: 0;padding: 0.3em;box-sizing: border-box;text-align: center;}#sk-container-id-12 label.sk-toggleable__label-arrow:before {content: \"▸\";float: left;margin-right: 0.25em;color: #696969;}#sk-container-id-12 label.sk-toggleable__label-arrow:hover:before {color: black;}#sk-container-id-12 div.sk-estimator:hover label.sk-toggleable__label-arrow:before {color: black;}#sk-container-id-12 div.sk-toggleable__content {max-height: 0;max-width: 0;overflow: hidden;text-align: left;background-color: #f0f8ff;}#sk-container-id-12 div.sk-toggleable__content pre {margin: 0.2em;color: black;border-radius: 0.25em;background-color: #f0f8ff;}#sk-container-id-12 input.sk-toggleable__control:checked~div.sk-toggleable__content {max-height: 200px;max-width: 100%;overflow: auto;}#sk-container-id-12 input.sk-toggleable__control:checked~label.sk-toggleable__label-arrow:before {content: \"▾\";}#sk-container-id-12 div.sk-estimator input.sk-toggleable__control:checked~label.sk-toggleable__label {background-color: #d4ebff;}#sk-container-id-12 div.sk-label input.sk-toggleable__control:checked~label.sk-toggleable__label {background-color: #d4ebff;}#sk-container-id-12 input.sk-hidden--visually {border: 0;clip: rect(1px 1px 1px 1px);clip: rect(1px, 1px, 1px, 1px);height: 1px;margin: -1px;overflow: hidden;padding: 0;position: absolute;width: 1px;}#sk-container-id-12 div.sk-estimator {font-family: monospace;background-color: #f0f8ff;border: 1px dotted black;border-radius: 0.25em;box-sizing: border-box;margin-bottom: 0.5em;}#sk-container-id-12 div.sk-estimator:hover {background-color: #d4ebff;}#sk-container-id-12 div.sk-parallel-item::after {content: \"\";width: 100%;border-bottom: 1px solid gray;flex-grow: 1;}#sk-container-id-12 div.sk-label:hover label.sk-toggleable__label {background-color: #d4ebff;}#sk-container-id-12 div.sk-serial::before {content: \"\";position: absolute;border-left: 1px solid gray;box-sizing: border-box;top: 0;bottom: 0;left: 50%;z-index: 0;}#sk-container-id-12 div.sk-serial {display: flex;flex-direction: column;align-items: center;background-color: white;padding-right: 0.2em;padding-left: 0.2em;position: relative;}#sk-container-id-12 div.sk-item {position: relative;z-index: 1;}#sk-container-id-12 div.sk-parallel {display: flex;align-items: stretch;justify-content: center;background-color: white;position: relative;}#sk-container-id-12 div.sk-item::before, #sk-container-id-12 div.sk-parallel-item::before {content: \"\";position: absolute;border-left: 1px solid gray;box-sizing: border-box;top: 0;bottom: 0;left: 50%;z-index: -1;}#sk-container-id-12 div.sk-parallel-item {display: flex;flex-direction: column;z-index: 1;position: relative;background-color: white;}#sk-container-id-12 div.sk-parallel-item:first-child::after {align-self: flex-end;width: 50%;}#sk-container-id-12 div.sk-parallel-item:last-child::after {align-self: flex-start;width: 50%;}#sk-container-id-12 div.sk-parallel-item:only-child::after {width: 0;}#sk-container-id-12 div.sk-dashed-wrapped {border: 1px dashed gray;margin: 0 0.4em 0.5em 0.4em;box-sizing: border-box;padding-bottom: 0.4em;background-color: white;}#sk-container-id-12 div.sk-label label {font-family: monospace;font-weight: bold;display: inline-block;line-height: 1.2em;}#sk-container-id-12 div.sk-label-container {text-align: center;}#sk-container-id-12 div.sk-container {/* jupyter's `normalize.less` sets `[hidden] { display: none; }` but bootstrap.min.css set `[hidden] { display: none !important; }` so we also need the `!important` here to be able to override the default hidden behavior on the sphinx rendered scikit-learn.org. See: https://github.com/scikit-learn/scikit-learn/issues/21755 */display: inline-block !important;position: relative;}#sk-container-id-12 div.sk-text-repr-fallback {display: none;}</style><div id=\"sk-container-id-12\" class=\"sk-top-container\"><div class=\"sk-text-repr-fallback\"><pre>XGBClassifier(base_score=None, booster=&#x27;gbtree&#x27;, callbacks=None,\n",
              "              colsample_bylevel=None, colsample_bynode=None,\n",
              "              colsample_bytree=None, early_stopping_rounds=None,\n",
              "              enable_categorical=False, eta=0.3, eval_metric=None,\n",
              "              feature_types=None, gamma=None, gpu_id=None, grow_policy=None,\n",
              "              importance_type=None, interaction_constraints=None,\n",
              "              learning_rate=None, max_bin=None, max_cat_threshold=None,\n",
              "              max_cat_to_onehot=None, max_delta_step=None, max_depth=None,\n",
              "              max_leaves=None, min_child_weight=None, missing=nan,\n",
              "              monotone_constraints=None, n_estimators=100, n_jobs=None,\n",
              "              num_parallel_tree=None, predictor=None, ...)</pre><b>In a Jupyter environment, please rerun this cell to show the HTML representation or trust the notebook. <br />On GitHub, the HTML representation is unable to render, please try loading this page with nbviewer.org.</b></div><div class=\"sk-container\" hidden><div class=\"sk-item\"><div class=\"sk-estimator sk-toggleable\"><input class=\"sk-toggleable__control sk-hidden--visually\" id=\"sk-estimator-id-12\" type=\"checkbox\" checked><label for=\"sk-estimator-id-12\" class=\"sk-toggleable__label sk-toggleable__label-arrow\">XGBClassifier</label><div class=\"sk-toggleable__content\"><pre>XGBClassifier(base_score=None, booster=&#x27;gbtree&#x27;, callbacks=None,\n",
              "              colsample_bylevel=None, colsample_bynode=None,\n",
              "              colsample_bytree=None, early_stopping_rounds=None,\n",
              "              enable_categorical=False, eta=0.3, eval_metric=None,\n",
              "              feature_types=None, gamma=None, gpu_id=None, grow_policy=None,\n",
              "              importance_type=None, interaction_constraints=None,\n",
              "              learning_rate=None, max_bin=None, max_cat_threshold=None,\n",
              "              max_cat_to_onehot=None, max_delta_step=None, max_depth=None,\n",
              "              max_leaves=None, min_child_weight=None, missing=nan,\n",
              "              monotone_constraints=None, n_estimators=100, n_jobs=None,\n",
              "              num_parallel_tree=None, predictor=None, ...)</pre></div></div></div></div></div>"
            ]
          },
          "metadata": {},
          "execution_count": 494
        }
      ],
      "source": [
        "final_model = XGBClassifier(\n",
        "    booster=best_params['booster'],\n",
        "    eta=best_params['eta'],\n",
        "    scale_pos_weight=best_params['scale_pos_weight']\n",
        ")\n",
        "\n",
        "final_model.fit(X_params_cs, y_train)\n",
        "\n"
      ]
    },
    {
      "cell_type": "code",
      "source": [
        "joblib.dump(final_model, 'model_cycle1.joblib')"
      ],
      "metadata": {
        "id": "5wdYGMyPBGp5",
        "colab": {
          "base_uri": "https://localhost:8080/"
        },
        "outputId": "8e2ba6f8-0a2b-474b-cbda-24387b747dca"
      },
      "execution_count": null,
      "outputs": [
        {
          "output_type": "execute_result",
          "data": {
            "text/plain": [
              "['model_cycle1.joblib']"
            ]
          },
          "metadata": {},
          "execution_count": 495
        }
      ]
    },
    {
      "cell_type": "markdown",
      "source": [
        "# 10 Validating Results"
      ],
      "metadata": {
        "id": "hcfd4XeywSNO"
      }
    },
    {
      "cell_type": "markdown",
      "source": [
        "# 10.1 Undersampling\n",
        ""
      ],
      "metadata": {
        "id": "RJ76SFRQ2Ep_"
      }
    },
    {
      "cell_type": "code",
      "source": [
        "df10 = df4.copy()\n",
        "df10"
      ],
      "metadata": {
        "colab": {
          "base_uri": "https://localhost:8080/",
          "height": 488
        },
        "id": "7yt8SsEtwF6m",
        "outputId": "b42a945e-3751-4203-b6d1-d6ce2c5936fd"
      },
      "execution_count": null,
      "outputs": [
        {
          "output_type": "execute_result",
          "data": {
            "text/plain": [
              "        step      type     amount name_orig  oldbalance_org  newbalance_orig  \\\n",
              "0        283   CASH_IN  210329.84         C      3778062.79       3988392.64   \n",
              "1        132  CASH_OUT  215489.19         C        21518.00             0.00   \n",
              "2        355     DEBIT    4431.05         C        20674.00         16242.95   \n",
              "3        135  CASH_OUT  214026.20         C        46909.73             0.00   \n",
              "4        381  CASH_OUT    8858.45         C            0.00             0.00   \n",
              "...      ...       ...        ...       ...             ...              ...   \n",
              "636257   351  CASH_OUT   28761.10         C            0.00             0.00   \n",
              "636258   184  CASH_OUT  167820.71         C        62265.00             0.00   \n",
              "636259    35   PAYMENT    8898.12         C        30808.00         21909.88   \n",
              "636260   277  CASH_OUT  176147.90         C        83669.00             0.00   \n",
              "636261   304  CASH_OUT   95142.89         C            0.00             0.00   \n",
              "\n",
              "       name_dest  oldbalance_dest  newbalance_dest  is_fraud  \\\n",
              "0              C       1519266.60       1308936.76         0   \n",
              "1              C       6345756.55       6794954.89         0   \n",
              "2              C         80876.56         85307.61         0   \n",
              "3              C      13467450.36      13681476.56         0   \n",
              "4              C       1667180.58       1676039.03         0   \n",
              "...          ...              ...              ...       ...   \n",
              "636257         C        328534.52        357295.62         0   \n",
              "636258         C        106429.48        274250.18         0   \n",
              "636259         M             0.00             0.00         0   \n",
              "636260         C             0.00        176147.90         0   \n",
              "636261         C        431380.07        526522.96         0   \n",
              "\n",
              "        is_flagged_fraud  step_days  step_weeks  diff_new_old_balance  \\\n",
              "0                      0  11.791667    1.684524             210329.85   \n",
              "1                      0   5.500000    0.785714             -21518.00   \n",
              "2                      0  14.791667    2.113095              -4431.05   \n",
              "3                      0   5.625000    0.803571             -46909.73   \n",
              "4                      0  15.875000    2.267857                  0.00   \n",
              "...                  ...        ...         ...                   ...   \n",
              "636257                 0  14.625000    2.089286                  0.00   \n",
              "636258                 0   7.666667    1.095238             -62265.00   \n",
              "636259                 0   1.458333    0.208333              -8898.12   \n",
              "636260                 0  11.541667    1.648810             -83669.00   \n",
              "636261                 0  12.666667    1.809524                  0.00   \n",
              "\n",
              "        diff_new_old_destiny  \n",
              "0                 -210329.84  \n",
              "1                  449198.34  \n",
              "2                    4431.05  \n",
              "3                  214026.20  \n",
              "4                    8858.45  \n",
              "...                      ...  \n",
              "636257              28761.10  \n",
              "636258             167820.70  \n",
              "636259                  0.00  \n",
              "636260             176147.90  \n",
              "636261              95142.89  \n",
              "\n",
              "[636262 rows x 15 columns]"
            ],
            "text/html": [
              "\n",
              "  <div id=\"df-a73d0379-cb7b-4b97-940d-d4455e242814\">\n",
              "    <div class=\"colab-df-container\">\n",
              "      <div>\n",
              "<style scoped>\n",
              "    .dataframe tbody tr th:only-of-type {\n",
              "        vertical-align: middle;\n",
              "    }\n",
              "\n",
              "    .dataframe tbody tr th {\n",
              "        vertical-align: top;\n",
              "    }\n",
              "\n",
              "    .dataframe thead th {\n",
              "        text-align: right;\n",
              "    }\n",
              "</style>\n",
              "<table border=\"1\" class=\"dataframe\">\n",
              "  <thead>\n",
              "    <tr style=\"text-align: right;\">\n",
              "      <th></th>\n",
              "      <th>step</th>\n",
              "      <th>type</th>\n",
              "      <th>amount</th>\n",
              "      <th>name_orig</th>\n",
              "      <th>oldbalance_org</th>\n",
              "      <th>newbalance_orig</th>\n",
              "      <th>name_dest</th>\n",
              "      <th>oldbalance_dest</th>\n",
              "      <th>newbalance_dest</th>\n",
              "      <th>is_fraud</th>\n",
              "      <th>is_flagged_fraud</th>\n",
              "      <th>step_days</th>\n",
              "      <th>step_weeks</th>\n",
              "      <th>diff_new_old_balance</th>\n",
              "      <th>diff_new_old_destiny</th>\n",
              "    </tr>\n",
              "  </thead>\n",
              "  <tbody>\n",
              "    <tr>\n",
              "      <th>0</th>\n",
              "      <td>283</td>\n",
              "      <td>CASH_IN</td>\n",
              "      <td>210329.84</td>\n",
              "      <td>C</td>\n",
              "      <td>3778062.79</td>\n",
              "      <td>3988392.64</td>\n",
              "      <td>C</td>\n",
              "      <td>1519266.60</td>\n",
              "      <td>1308936.76</td>\n",
              "      <td>0</td>\n",
              "      <td>0</td>\n",
              "      <td>11.791667</td>\n",
              "      <td>1.684524</td>\n",
              "      <td>210329.85</td>\n",
              "      <td>-210329.84</td>\n",
              "    </tr>\n",
              "    <tr>\n",
              "      <th>1</th>\n",
              "      <td>132</td>\n",
              "      <td>CASH_OUT</td>\n",
              "      <td>215489.19</td>\n",
              "      <td>C</td>\n",
              "      <td>21518.00</td>\n",
              "      <td>0.00</td>\n",
              "      <td>C</td>\n",
              "      <td>6345756.55</td>\n",
              "      <td>6794954.89</td>\n",
              "      <td>0</td>\n",
              "      <td>0</td>\n",
              "      <td>5.500000</td>\n",
              "      <td>0.785714</td>\n",
              "      <td>-21518.00</td>\n",
              "      <td>449198.34</td>\n",
              "    </tr>\n",
              "    <tr>\n",
              "      <th>2</th>\n",
              "      <td>355</td>\n",
              "      <td>DEBIT</td>\n",
              "      <td>4431.05</td>\n",
              "      <td>C</td>\n",
              "      <td>20674.00</td>\n",
              "      <td>16242.95</td>\n",
              "      <td>C</td>\n",
              "      <td>80876.56</td>\n",
              "      <td>85307.61</td>\n",
              "      <td>0</td>\n",
              "      <td>0</td>\n",
              "      <td>14.791667</td>\n",
              "      <td>2.113095</td>\n",
              "      <td>-4431.05</td>\n",
              "      <td>4431.05</td>\n",
              "    </tr>\n",
              "    <tr>\n",
              "      <th>3</th>\n",
              "      <td>135</td>\n",
              "      <td>CASH_OUT</td>\n",
              "      <td>214026.20</td>\n",
              "      <td>C</td>\n",
              "      <td>46909.73</td>\n",
              "      <td>0.00</td>\n",
              "      <td>C</td>\n",
              "      <td>13467450.36</td>\n",
              "      <td>13681476.56</td>\n",
              "      <td>0</td>\n",
              "      <td>0</td>\n",
              "      <td>5.625000</td>\n",
              "      <td>0.803571</td>\n",
              "      <td>-46909.73</td>\n",
              "      <td>214026.20</td>\n",
              "    </tr>\n",
              "    <tr>\n",
              "      <th>4</th>\n",
              "      <td>381</td>\n",
              "      <td>CASH_OUT</td>\n",
              "      <td>8858.45</td>\n",
              "      <td>C</td>\n",
              "      <td>0.00</td>\n",
              "      <td>0.00</td>\n",
              "      <td>C</td>\n",
              "      <td>1667180.58</td>\n",
              "      <td>1676039.03</td>\n",
              "      <td>0</td>\n",
              "      <td>0</td>\n",
              "      <td>15.875000</td>\n",
              "      <td>2.267857</td>\n",
              "      <td>0.00</td>\n",
              "      <td>8858.45</td>\n",
              "    </tr>\n",
              "    <tr>\n",
              "      <th>...</th>\n",
              "      <td>...</td>\n",
              "      <td>...</td>\n",
              "      <td>...</td>\n",
              "      <td>...</td>\n",
              "      <td>...</td>\n",
              "      <td>...</td>\n",
              "      <td>...</td>\n",
              "      <td>...</td>\n",
              "      <td>...</td>\n",
              "      <td>...</td>\n",
              "      <td>...</td>\n",
              "      <td>...</td>\n",
              "      <td>...</td>\n",
              "      <td>...</td>\n",
              "      <td>...</td>\n",
              "    </tr>\n",
              "    <tr>\n",
              "      <th>636257</th>\n",
              "      <td>351</td>\n",
              "      <td>CASH_OUT</td>\n",
              "      <td>28761.10</td>\n",
              "      <td>C</td>\n",
              "      <td>0.00</td>\n",
              "      <td>0.00</td>\n",
              "      <td>C</td>\n",
              "      <td>328534.52</td>\n",
              "      <td>357295.62</td>\n",
              "      <td>0</td>\n",
              "      <td>0</td>\n",
              "      <td>14.625000</td>\n",
              "      <td>2.089286</td>\n",
              "      <td>0.00</td>\n",
              "      <td>28761.10</td>\n",
              "    </tr>\n",
              "    <tr>\n",
              "      <th>636258</th>\n",
              "      <td>184</td>\n",
              "      <td>CASH_OUT</td>\n",
              "      <td>167820.71</td>\n",
              "      <td>C</td>\n",
              "      <td>62265.00</td>\n",
              "      <td>0.00</td>\n",
              "      <td>C</td>\n",
              "      <td>106429.48</td>\n",
              "      <td>274250.18</td>\n",
              "      <td>0</td>\n",
              "      <td>0</td>\n",
              "      <td>7.666667</td>\n",
              "      <td>1.095238</td>\n",
              "      <td>-62265.00</td>\n",
              "      <td>167820.70</td>\n",
              "    </tr>\n",
              "    <tr>\n",
              "      <th>636259</th>\n",
              "      <td>35</td>\n",
              "      <td>PAYMENT</td>\n",
              "      <td>8898.12</td>\n",
              "      <td>C</td>\n",
              "      <td>30808.00</td>\n",
              "      <td>21909.88</td>\n",
              "      <td>M</td>\n",
              "      <td>0.00</td>\n",
              "      <td>0.00</td>\n",
              "      <td>0</td>\n",
              "      <td>0</td>\n",
              "      <td>1.458333</td>\n",
              "      <td>0.208333</td>\n",
              "      <td>-8898.12</td>\n",
              "      <td>0.00</td>\n",
              "    </tr>\n",
              "    <tr>\n",
              "      <th>636260</th>\n",
              "      <td>277</td>\n",
              "      <td>CASH_OUT</td>\n",
              "      <td>176147.90</td>\n",
              "      <td>C</td>\n",
              "      <td>83669.00</td>\n",
              "      <td>0.00</td>\n",
              "      <td>C</td>\n",
              "      <td>0.00</td>\n",
              "      <td>176147.90</td>\n",
              "      <td>0</td>\n",
              "      <td>0</td>\n",
              "      <td>11.541667</td>\n",
              "      <td>1.648810</td>\n",
              "      <td>-83669.00</td>\n",
              "      <td>176147.90</td>\n",
              "    </tr>\n",
              "    <tr>\n",
              "      <th>636261</th>\n",
              "      <td>304</td>\n",
              "      <td>CASH_OUT</td>\n",
              "      <td>95142.89</td>\n",
              "      <td>C</td>\n",
              "      <td>0.00</td>\n",
              "      <td>0.00</td>\n",
              "      <td>C</td>\n",
              "      <td>431380.07</td>\n",
              "      <td>526522.96</td>\n",
              "      <td>0</td>\n",
              "      <td>0</td>\n",
              "      <td>12.666667</td>\n",
              "      <td>1.809524</td>\n",
              "      <td>0.00</td>\n",
              "      <td>95142.89</td>\n",
              "    </tr>\n",
              "  </tbody>\n",
              "</table>\n",
              "<p>636262 rows × 15 columns</p>\n",
              "</div>\n",
              "      <button class=\"colab-df-convert\" onclick=\"convertToInteractive('df-a73d0379-cb7b-4b97-940d-d4455e242814')\"\n",
              "              title=\"Convert this dataframe to an interactive table.\"\n",
              "              style=\"display:none;\">\n",
              "        \n",
              "  <svg xmlns=\"http://www.w3.org/2000/svg\" height=\"24px\"viewBox=\"0 0 24 24\"\n",
              "       width=\"24px\">\n",
              "    <path d=\"M0 0h24v24H0V0z\" fill=\"none\"/>\n",
              "    <path d=\"M18.56 5.44l.94 2.06.94-2.06 2.06-.94-2.06-.94-.94-2.06-.94 2.06-2.06.94zm-11 1L8.5 8.5l.94-2.06 2.06-.94-2.06-.94L8.5 2.5l-.94 2.06-2.06.94zm10 10l.94 2.06.94-2.06 2.06-.94-2.06-.94-.94-2.06-.94 2.06-2.06.94z\"/><path d=\"M17.41 7.96l-1.37-1.37c-.4-.4-.92-.59-1.43-.59-.52 0-1.04.2-1.43.59L10.3 9.45l-7.72 7.72c-.78.78-.78 2.05 0 2.83L4 21.41c.39.39.9.59 1.41.59.51 0 1.02-.2 1.41-.59l7.78-7.78 2.81-2.81c.8-.78.8-2.07 0-2.86zM5.41 20L4 18.59l7.72-7.72 1.47 1.35L5.41 20z\"/>\n",
              "  </svg>\n",
              "      </button>\n",
              "      \n",
              "  <style>\n",
              "    .colab-df-container {\n",
              "      display:flex;\n",
              "      flex-wrap:wrap;\n",
              "      gap: 12px;\n",
              "    }\n",
              "\n",
              "    .colab-df-convert {\n",
              "      background-color: #E8F0FE;\n",
              "      border: none;\n",
              "      border-radius: 50%;\n",
              "      cursor: pointer;\n",
              "      display: none;\n",
              "      fill: #1967D2;\n",
              "      height: 32px;\n",
              "      padding: 0 0 0 0;\n",
              "      width: 32px;\n",
              "    }\n",
              "\n",
              "    .colab-df-convert:hover {\n",
              "      background-color: #E2EBFA;\n",
              "      box-shadow: 0px 1px 2px rgba(60, 64, 67, 0.3), 0px 1px 3px 1px rgba(60, 64, 67, 0.15);\n",
              "      fill: #174EA6;\n",
              "    }\n",
              "\n",
              "    [theme=dark] .colab-df-convert {\n",
              "      background-color: #3B4455;\n",
              "      fill: #D2E3FC;\n",
              "    }\n",
              "\n",
              "    [theme=dark] .colab-df-convert:hover {\n",
              "      background-color: #434B5C;\n",
              "      box-shadow: 0px 1px 3px 1px rgba(0, 0, 0, 0.15);\n",
              "      filter: drop-shadow(0px 1px 2px rgba(0, 0, 0, 0.3));\n",
              "      fill: #FFFFFF;\n",
              "    }\n",
              "  </style>\n",
              "\n",
              "      <script>\n",
              "        const buttonEl =\n",
              "          document.querySelector('#df-a73d0379-cb7b-4b97-940d-d4455e242814 button.colab-df-convert');\n",
              "        buttonEl.style.display =\n",
              "          google.colab.kernel.accessAllowed ? 'block' : 'none';\n",
              "\n",
              "        async function convertToInteractive(key) {\n",
              "          const element = document.querySelector('#df-a73d0379-cb7b-4b97-940d-d4455e242814');\n",
              "          const dataTable =\n",
              "            await google.colab.kernel.invokeFunction('convertToInteractive',\n",
              "                                                     [key], {});\n",
              "          if (!dataTable) return;\n",
              "\n",
              "          const docLinkHtml = 'Like what you see? Visit the ' +\n",
              "            '<a target=\"_blank\" href=https://colab.research.google.com/notebooks/data_table.ipynb>data table notebook</a>'\n",
              "            + ' to learn more about interactive tables.';\n",
              "          element.innerHTML = '';\n",
              "          dataTable['output_type'] = 'display_data';\n",
              "          await google.colab.output.renderOutput(dataTable, element);\n",
              "          const docLink = document.createElement('div');\n",
              "          docLink.innerHTML = docLinkHtml;\n",
              "          element.appendChild(docLink);\n",
              "        }\n",
              "      </script>\n",
              "    </div>\n",
              "  </div>\n",
              "  "
            ]
          },
          "metadata": {},
          "execution_count": 496
        }
      ]
    },
    {
      "cell_type": "code",
      "source": [
        "\n",
        "\n",
        "Fraudulent_Transaction = df10[df10.is_fraud ==1]\n",
        "Not_Fraudulent_Transaction = df10[df10.is_fraud ==0]"
      ],
      "metadata": {
        "id": "lZu9MGSNwg2z"
      },
      "execution_count": null,
      "outputs": []
    },
    {
      "cell_type": "code",
      "source": [
        "print('Fraudulent Transaction: {}'.format(len(Fraudulent_Transaction)))\n",
        "print('Not Fraudulent Transaction: {}'.format(len(Not_Fraudulent_Transaction)))\n",
        ""
      ],
      "metadata": {
        "colab": {
          "base_uri": "https://localhost:8080/"
        },
        "id": "qNRB7WbP66Lg",
        "outputId": "26dffb15-ca02-4148-87cb-8612b4719a9c"
      },
      "execution_count": null,
      "outputs": [
        {
          "output_type": "stream",
          "name": "stdout",
          "text": [
            "Fraudulent Transaction: 821\n",
            "Not Fraudulent Transaction: 635441\n"
          ]
        }
      ]
    },
    {
      "cell_type": "markdown",
      "source": [
        "Building a sample dataset containing similar distribution of Non Fraudulent transactions and Fraudulent transactions. This rectifies the class-imbalance and helps our machine learning model to perform better predictions.\n",
        "\n",
        "Since we want to build a model that detects Fraud, we base our sampling on the number of transactions classed as fraudulent in our original dataset.\n",
        "\n",
        "Fraudulent transactions: 8213"
      ],
      "metadata": {
        "id": "bgjxsbvS2HfE"
      }
    },
    {
      "cell_type": "code",
      "source": [
        "Non_Fraudulent_Sample = Not_Fraudulent_Transaction.sample(n=8213)"
      ],
      "metadata": {
        "id": "o_SGwD3O7Bg2"
      },
      "execution_count": null,
      "outputs": []
    },
    {
      "cell_type": "code",
      "source": [
        "df10= pd.concat([Non_Fraudulent_Sample, Fraudulent_Transaction], axis=0)"
      ],
      "metadata": {
        "id": "KfXg6Xec7F6d"
      },
      "execution_count": null,
      "outputs": []
    },
    {
      "cell_type": "code",
      "source": [
        "df10.describe()"
      ],
      "metadata": {
        "colab": {
          "base_uri": "https://localhost:8080/",
          "height": 364
        },
        "id": "fY70hGrD7NfZ",
        "outputId": "fffa0d68-f69d-4135-8bf3-594fc402ab61"
      },
      "execution_count": null,
      "outputs": [
        {
          "output_type": "execute_result",
          "data": {
            "text/plain": [
              "              step        amount  oldbalance_org  newbalance_orig  \\\n",
              "count  9034.000000  9.034000e+03    9.034000e+03     9.034000e+03   \n",
              "mean    254.158291  2.952740e+05    8.856966e+05     7.781284e+05   \n",
              "std     154.137225  1.029081e+06    2.892204e+06     2.786457e+06   \n",
              "min       1.000000  0.000000e+00    0.000000e+00     0.000000e+00   \n",
              "25%     155.000000  1.554872e+04    0.000000e+00     0.000000e+00   \n",
              "50%     252.000000  9.007549e+04    2.010300e+04     0.000000e+00   \n",
              "75%     351.000000  2.354676e+05    1.798264e+05     1.106282e+05   \n",
              "max     742.000000  3.239349e+07    3.767004e+07     3.439305e+07   \n",
              "\n",
              "       oldbalance_dest  newbalance_dest     is_fraud  is_flagged_fraud  \\\n",
              "count     9.034000e+03     9.034000e+03  9034.000000       9034.000000   \n",
              "mean      1.050647e+06     1.226529e+06     0.090879          0.000221   \n",
              "std       3.330859e+06     3.657424e+06     0.287453          0.014878   \n",
              "min       0.000000e+00     0.000000e+00     0.000000          0.000000   \n",
              "25%       0.000000e+00     0.000000e+00     0.000000          0.000000   \n",
              "50%       7.734059e+04     1.864069e+05     0.000000          0.000000   \n",
              "75%       8.881773e+05     1.122655e+06     0.000000          0.000000   \n",
              "max       1.390260e+08     1.426189e+08     1.000000          1.000000   \n",
              "\n",
              "         step_days   step_weeks  diff_new_old_balance  diff_new_old_destiny  \n",
              "count  9034.000000  9034.000000          9.034000e+03          9.034000e+03  \n",
              "mean     10.589929     1.512847         -1.075682e+05          1.758823e+05  \n",
              "std       6.422384     0.917483          8.409452e+05          9.033622e+05  \n",
              "min       0.041667     0.005952         -1.000000e+07         -2.172566e+06  \n",
              "25%       6.458333     0.922619         -1.626171e+04          0.000000e+00  \n",
              "50%      10.500000     1.500000         -4.695500e+01          0.000000e+00  \n",
              "75%      14.625000     2.089286          0.000000e+00          1.551661e+05  \n",
              "max      30.916667     4.416667          7.847283e+05          3.239349e+07  "
            ],
            "text/html": [
              "\n",
              "  <div id=\"df-e2e7946c-8a8b-4d4a-b060-d337bbc3eaf3\">\n",
              "    <div class=\"colab-df-container\">\n",
              "      <div>\n",
              "<style scoped>\n",
              "    .dataframe tbody tr th:only-of-type {\n",
              "        vertical-align: middle;\n",
              "    }\n",
              "\n",
              "    .dataframe tbody tr th {\n",
              "        vertical-align: top;\n",
              "    }\n",
              "\n",
              "    .dataframe thead th {\n",
              "        text-align: right;\n",
              "    }\n",
              "</style>\n",
              "<table border=\"1\" class=\"dataframe\">\n",
              "  <thead>\n",
              "    <tr style=\"text-align: right;\">\n",
              "      <th></th>\n",
              "      <th>step</th>\n",
              "      <th>amount</th>\n",
              "      <th>oldbalance_org</th>\n",
              "      <th>newbalance_orig</th>\n",
              "      <th>oldbalance_dest</th>\n",
              "      <th>newbalance_dest</th>\n",
              "      <th>is_fraud</th>\n",
              "      <th>is_flagged_fraud</th>\n",
              "      <th>step_days</th>\n",
              "      <th>step_weeks</th>\n",
              "      <th>diff_new_old_balance</th>\n",
              "      <th>diff_new_old_destiny</th>\n",
              "    </tr>\n",
              "  </thead>\n",
              "  <tbody>\n",
              "    <tr>\n",
              "      <th>count</th>\n",
              "      <td>9034.000000</td>\n",
              "      <td>9.034000e+03</td>\n",
              "      <td>9.034000e+03</td>\n",
              "      <td>9.034000e+03</td>\n",
              "      <td>9.034000e+03</td>\n",
              "      <td>9.034000e+03</td>\n",
              "      <td>9034.000000</td>\n",
              "      <td>9034.000000</td>\n",
              "      <td>9034.000000</td>\n",
              "      <td>9034.000000</td>\n",
              "      <td>9.034000e+03</td>\n",
              "      <td>9.034000e+03</td>\n",
              "    </tr>\n",
              "    <tr>\n",
              "      <th>mean</th>\n",
              "      <td>254.158291</td>\n",
              "      <td>2.952740e+05</td>\n",
              "      <td>8.856966e+05</td>\n",
              "      <td>7.781284e+05</td>\n",
              "      <td>1.050647e+06</td>\n",
              "      <td>1.226529e+06</td>\n",
              "      <td>0.090879</td>\n",
              "      <td>0.000221</td>\n",
              "      <td>10.589929</td>\n",
              "      <td>1.512847</td>\n",
              "      <td>-1.075682e+05</td>\n",
              "      <td>1.758823e+05</td>\n",
              "    </tr>\n",
              "    <tr>\n",
              "      <th>std</th>\n",
              "      <td>154.137225</td>\n",
              "      <td>1.029081e+06</td>\n",
              "      <td>2.892204e+06</td>\n",
              "      <td>2.786457e+06</td>\n",
              "      <td>3.330859e+06</td>\n",
              "      <td>3.657424e+06</td>\n",
              "      <td>0.287453</td>\n",
              "      <td>0.014878</td>\n",
              "      <td>6.422384</td>\n",
              "      <td>0.917483</td>\n",
              "      <td>8.409452e+05</td>\n",
              "      <td>9.033622e+05</td>\n",
              "    </tr>\n",
              "    <tr>\n",
              "      <th>min</th>\n",
              "      <td>1.000000</td>\n",
              "      <td>0.000000e+00</td>\n",
              "      <td>0.000000e+00</td>\n",
              "      <td>0.000000e+00</td>\n",
              "      <td>0.000000e+00</td>\n",
              "      <td>0.000000e+00</td>\n",
              "      <td>0.000000</td>\n",
              "      <td>0.000000</td>\n",
              "      <td>0.041667</td>\n",
              "      <td>0.005952</td>\n",
              "      <td>-1.000000e+07</td>\n",
              "      <td>-2.172566e+06</td>\n",
              "    </tr>\n",
              "    <tr>\n",
              "      <th>25%</th>\n",
              "      <td>155.000000</td>\n",
              "      <td>1.554872e+04</td>\n",
              "      <td>0.000000e+00</td>\n",
              "      <td>0.000000e+00</td>\n",
              "      <td>0.000000e+00</td>\n",
              "      <td>0.000000e+00</td>\n",
              "      <td>0.000000</td>\n",
              "      <td>0.000000</td>\n",
              "      <td>6.458333</td>\n",
              "      <td>0.922619</td>\n",
              "      <td>-1.626171e+04</td>\n",
              "      <td>0.000000e+00</td>\n",
              "    </tr>\n",
              "    <tr>\n",
              "      <th>50%</th>\n",
              "      <td>252.000000</td>\n",
              "      <td>9.007549e+04</td>\n",
              "      <td>2.010300e+04</td>\n",
              "      <td>0.000000e+00</td>\n",
              "      <td>7.734059e+04</td>\n",
              "      <td>1.864069e+05</td>\n",
              "      <td>0.000000</td>\n",
              "      <td>0.000000</td>\n",
              "      <td>10.500000</td>\n",
              "      <td>1.500000</td>\n",
              "      <td>-4.695500e+01</td>\n",
              "      <td>0.000000e+00</td>\n",
              "    </tr>\n",
              "    <tr>\n",
              "      <th>75%</th>\n",
              "      <td>351.000000</td>\n",
              "      <td>2.354676e+05</td>\n",
              "      <td>1.798264e+05</td>\n",
              "      <td>1.106282e+05</td>\n",
              "      <td>8.881773e+05</td>\n",
              "      <td>1.122655e+06</td>\n",
              "      <td>0.000000</td>\n",
              "      <td>0.000000</td>\n",
              "      <td>14.625000</td>\n",
              "      <td>2.089286</td>\n",
              "      <td>0.000000e+00</td>\n",
              "      <td>1.551661e+05</td>\n",
              "    </tr>\n",
              "    <tr>\n",
              "      <th>max</th>\n",
              "      <td>742.000000</td>\n",
              "      <td>3.239349e+07</td>\n",
              "      <td>3.767004e+07</td>\n",
              "      <td>3.439305e+07</td>\n",
              "      <td>1.390260e+08</td>\n",
              "      <td>1.426189e+08</td>\n",
              "      <td>1.000000</td>\n",
              "      <td>1.000000</td>\n",
              "      <td>30.916667</td>\n",
              "      <td>4.416667</td>\n",
              "      <td>7.847283e+05</td>\n",
              "      <td>3.239349e+07</td>\n",
              "    </tr>\n",
              "  </tbody>\n",
              "</table>\n",
              "</div>\n",
              "      <button class=\"colab-df-convert\" onclick=\"convertToInteractive('df-e2e7946c-8a8b-4d4a-b060-d337bbc3eaf3')\"\n",
              "              title=\"Convert this dataframe to an interactive table.\"\n",
              "              style=\"display:none;\">\n",
              "        \n",
              "  <svg xmlns=\"http://www.w3.org/2000/svg\" height=\"24px\"viewBox=\"0 0 24 24\"\n",
              "       width=\"24px\">\n",
              "    <path d=\"M0 0h24v24H0V0z\" fill=\"none\"/>\n",
              "    <path d=\"M18.56 5.44l.94 2.06.94-2.06 2.06-.94-2.06-.94-.94-2.06-.94 2.06-2.06.94zm-11 1L8.5 8.5l.94-2.06 2.06-.94-2.06-.94L8.5 2.5l-.94 2.06-2.06.94zm10 10l.94 2.06.94-2.06 2.06-.94-2.06-.94-.94-2.06-.94 2.06-2.06.94z\"/><path d=\"M17.41 7.96l-1.37-1.37c-.4-.4-.92-.59-1.43-.59-.52 0-1.04.2-1.43.59L10.3 9.45l-7.72 7.72c-.78.78-.78 2.05 0 2.83L4 21.41c.39.39.9.59 1.41.59.51 0 1.02-.2 1.41-.59l7.78-7.78 2.81-2.81c.8-.78.8-2.07 0-2.86zM5.41 20L4 18.59l7.72-7.72 1.47 1.35L5.41 20z\"/>\n",
              "  </svg>\n",
              "      </button>\n",
              "      \n",
              "  <style>\n",
              "    .colab-df-container {\n",
              "      display:flex;\n",
              "      flex-wrap:wrap;\n",
              "      gap: 12px;\n",
              "    }\n",
              "\n",
              "    .colab-df-convert {\n",
              "      background-color: #E8F0FE;\n",
              "      border: none;\n",
              "      border-radius: 50%;\n",
              "      cursor: pointer;\n",
              "      display: none;\n",
              "      fill: #1967D2;\n",
              "      height: 32px;\n",
              "      padding: 0 0 0 0;\n",
              "      width: 32px;\n",
              "    }\n",
              "\n",
              "    .colab-df-convert:hover {\n",
              "      background-color: #E2EBFA;\n",
              "      box-shadow: 0px 1px 2px rgba(60, 64, 67, 0.3), 0px 1px 3px 1px rgba(60, 64, 67, 0.15);\n",
              "      fill: #174EA6;\n",
              "    }\n",
              "\n",
              "    [theme=dark] .colab-df-convert {\n",
              "      background-color: #3B4455;\n",
              "      fill: #D2E3FC;\n",
              "    }\n",
              "\n",
              "    [theme=dark] .colab-df-convert:hover {\n",
              "      background-color: #434B5C;\n",
              "      box-shadow: 0px 1px 3px 1px rgba(0, 0, 0, 0.15);\n",
              "      filter: drop-shadow(0px 1px 2px rgba(0, 0, 0, 0.3));\n",
              "      fill: #FFFFFF;\n",
              "    }\n",
              "  </style>\n",
              "\n",
              "      <script>\n",
              "        const buttonEl =\n",
              "          document.querySelector('#df-e2e7946c-8a8b-4d4a-b060-d337bbc3eaf3 button.colab-df-convert');\n",
              "        buttonEl.style.display =\n",
              "          google.colab.kernel.accessAllowed ? 'block' : 'none';\n",
              "\n",
              "        async function convertToInteractive(key) {\n",
              "          const element = document.querySelector('#df-e2e7946c-8a8b-4d4a-b060-d337bbc3eaf3');\n",
              "          const dataTable =\n",
              "            await google.colab.kernel.invokeFunction('convertToInteractive',\n",
              "                                                     [key], {});\n",
              "          if (!dataTable) return;\n",
              "\n",
              "          const docLinkHtml = 'Like what you see? Visit the ' +\n",
              "            '<a target=\"_blank\" href=https://colab.research.google.com/notebooks/data_table.ipynb>data table notebook</a>'\n",
              "            + ' to learn more about interactive tables.';\n",
              "          element.innerHTML = '';\n",
              "          dataTable['output_type'] = 'display_data';\n",
              "          await google.colab.output.renderOutput(dataTable, element);\n",
              "          const docLink = document.createElement('div');\n",
              "          docLink.innerHTML = docLinkHtml;\n",
              "          element.appendChild(docLink);\n",
              "        }\n",
              "      </script>\n",
              "    </div>\n",
              "  </div>\n",
              "  "
            ]
          },
          "metadata": {},
          "execution_count": 501
        }
      ]
    },
    {
      "cell_type": "markdown",
      "source": [
        "### 10.1.1 Data Preprocessing"
      ],
      "metadata": {
        "id": "j5lul5wv_zU6"
      }
    },
    {
      "cell_type": "code",
      "source": [
        "y = df10['is_fraud']\n",
        "X = df10.drop(columns=['is_fraud', 'is_flagged_fraud', 'name_orig', 'name_dest',\n",
        "                      'step_weeks', 'step_days'], axis=1)"
      ],
      "metadata": {
        "id": "EhRFa4W37dTR"
      },
      "execution_count": null,
      "outputs": []
    },
    {
      "cell_type": "markdown",
      "source": [
        "Train Test Split, one hot encoder and Rescaling"
      ],
      "metadata": {
        "id": "5vWi4CXP_6E_"
      }
    },
    {
      "cell_type": "code",
      "source": [
        "# spliting into train and test\n",
        "X_train, X_test, y_train, y_test = train_test_split(X, y, test_size=.2, stratify=y)\n",
        "\n",
        "ohe = OneHotEncoder(cols=['type'], use_cat_names=True)\n",
        "\n",
        "X_train = ohe.fit_transform(X_train)\n",
        "X_test = ohe.transform(X_test)\n",
        "\n",
        "num_columns = ['amount', 'oldbalance_org', 'newbalance_orig', 'oldbalance_dest', 'newbalance_dest',\n",
        "               'diff_new_old_balance', 'diff_new_old_destiny']\n",
        "mm = MinMaxScaler()\n",
        "X_params = X_train.copy()\n",
        "\n",
        "X_train[num_columns] = mm.fit_transform(X_train[num_columns])\n",
        "X_test[num_columns] = mm.transform(X_test[num_columns])\n",
        "\n",
        "X_params[num_columns] = mm.fit_transform(X_train[num_columns])\n",
        "X_test[num_columns] = mm.transform(X_test[num_columns])"
      ],
      "metadata": {
        "id": "eBi8dGDe7vRB"
      },
      "execution_count": null,
      "outputs": []
    },
    {
      "cell_type": "code",
      "source": [
        "final_columns_selected = ['step', 'oldbalance_org',\n",
        "                          'newbalance_orig', 'newbalance_dest',\n",
        "                          'diff_new_old_balance', 'diff_new_old_destiny',\n",
        "                          'type_TRANSFER']"
      ],
      "metadata": {
        "id": "-wa9-Q3u7wBW"
      },
      "execution_count": null,
      "outputs": []
    },
    {
      "cell_type": "code",
      "source": [
        "X_train_cs = X_train[final_columns_selected]\n",
        "\n",
        "X_test_cs = X_test[final_columns_selected]\n",
        "\n",
        "X_params_cs = X_params[final_columns_selected]"
      ],
      "metadata": {
        "id": "orq31kLn8Lq9"
      },
      "execution_count": null,
      "outputs": []
    },
    {
      "cell_type": "markdown",
      "source": [
        "## 10.1.2 Loading the model"
      ],
      "metadata": {
        "id": "Kgc4Z2FZAHCf"
      }
    },
    {
      "cell_type": "code",
      "source": [
        "model = joblib.load('models/model_cycle1.joblib')"
      ],
      "metadata": {
        "id": "etkTxFRc8MOp"
      },
      "execution_count": null,
      "outputs": []
    },
    {
      "cell_type": "code",
      "source": [
        "xgb.fit(X_train_cs, y_train)\n",
        "\n",
        "y_pred = xgb.predict(X_test_cs)\n",
        "y_probs = xgb.predict_proba(X_test_cs)"
      ],
      "metadata": {
        "id": "vx3dYETE9LKt"
      },
      "execution_count": null,
      "outputs": []
    },
    {
      "cell_type": "markdown",
      "source": [
        "Results"
      ],
      "metadata": {
        "id": "W6SDCwSfALxb"
      }
    },
    {
      "cell_type": "code",
      "source": [
        "xgb_results = ml_scores('XGB', y_test, y_pred,y_probs)\n",
        "xgb_results"
      ],
      "metadata": {
        "colab": {
          "base_uri": "https://localhost:8080/",
          "height": 81
        },
        "id": "gz7QpXj79L5L",
        "outputId": "69f34d19-1ba6-45e1-8fb5-49306e77d946"
      },
      "execution_count": null,
      "outputs": [
        {
          "output_type": "execute_result",
          "data": {
            "text/plain": [
              "     Balanced Accuracy  Precision    Recall        F1       auc\n",
              "XGB           0.953051   0.973856  0.908537  0.940063  0.991045"
            ],
            "text/html": [
              "\n",
              "  <div id=\"df-475e3aeb-f6e4-4e92-88bf-d5ffd89a1f39\">\n",
              "    <div class=\"colab-df-container\">\n",
              "      <div>\n",
              "<style scoped>\n",
              "    .dataframe tbody tr th:only-of-type {\n",
              "        vertical-align: middle;\n",
              "    }\n",
              "\n",
              "    .dataframe tbody tr th {\n",
              "        vertical-align: top;\n",
              "    }\n",
              "\n",
              "    .dataframe thead th {\n",
              "        text-align: right;\n",
              "    }\n",
              "</style>\n",
              "<table border=\"1\" class=\"dataframe\">\n",
              "  <thead>\n",
              "    <tr style=\"text-align: right;\">\n",
              "      <th></th>\n",
              "      <th>Balanced Accuracy</th>\n",
              "      <th>Precision</th>\n",
              "      <th>Recall</th>\n",
              "      <th>F1</th>\n",
              "      <th>auc</th>\n",
              "    </tr>\n",
              "  </thead>\n",
              "  <tbody>\n",
              "    <tr>\n",
              "      <th>XGB</th>\n",
              "      <td>0.953051</td>\n",
              "      <td>0.973856</td>\n",
              "      <td>0.908537</td>\n",
              "      <td>0.940063</td>\n",
              "      <td>0.991045</td>\n",
              "    </tr>\n",
              "  </tbody>\n",
              "</table>\n",
              "</div>\n",
              "      <button class=\"colab-df-convert\" onclick=\"convertToInteractive('df-475e3aeb-f6e4-4e92-88bf-d5ffd89a1f39')\"\n",
              "              title=\"Convert this dataframe to an interactive table.\"\n",
              "              style=\"display:none;\">\n",
              "        \n",
              "  <svg xmlns=\"http://www.w3.org/2000/svg\" height=\"24px\"viewBox=\"0 0 24 24\"\n",
              "       width=\"24px\">\n",
              "    <path d=\"M0 0h24v24H0V0z\" fill=\"none\"/>\n",
              "    <path d=\"M18.56 5.44l.94 2.06.94-2.06 2.06-.94-2.06-.94-.94-2.06-.94 2.06-2.06.94zm-11 1L8.5 8.5l.94-2.06 2.06-.94-2.06-.94L8.5 2.5l-.94 2.06-2.06.94zm10 10l.94 2.06.94-2.06 2.06-.94-2.06-.94-.94-2.06-.94 2.06-2.06.94z\"/><path d=\"M17.41 7.96l-1.37-1.37c-.4-.4-.92-.59-1.43-.59-.52 0-1.04.2-1.43.59L10.3 9.45l-7.72 7.72c-.78.78-.78 2.05 0 2.83L4 21.41c.39.39.9.59 1.41.59.51 0 1.02-.2 1.41-.59l7.78-7.78 2.81-2.81c.8-.78.8-2.07 0-2.86zM5.41 20L4 18.59l7.72-7.72 1.47 1.35L5.41 20z\"/>\n",
              "  </svg>\n",
              "      </button>\n",
              "      \n",
              "  <style>\n",
              "    .colab-df-container {\n",
              "      display:flex;\n",
              "      flex-wrap:wrap;\n",
              "      gap: 12px;\n",
              "    }\n",
              "\n",
              "    .colab-df-convert {\n",
              "      background-color: #E8F0FE;\n",
              "      border: none;\n",
              "      border-radius: 50%;\n",
              "      cursor: pointer;\n",
              "      display: none;\n",
              "      fill: #1967D2;\n",
              "      height: 32px;\n",
              "      padding: 0 0 0 0;\n",
              "      width: 32px;\n",
              "    }\n",
              "\n",
              "    .colab-df-convert:hover {\n",
              "      background-color: #E2EBFA;\n",
              "      box-shadow: 0px 1px 2px rgba(60, 64, 67, 0.3), 0px 1px 3px 1px rgba(60, 64, 67, 0.15);\n",
              "      fill: #174EA6;\n",
              "    }\n",
              "\n",
              "    [theme=dark] .colab-df-convert {\n",
              "      background-color: #3B4455;\n",
              "      fill: #D2E3FC;\n",
              "    }\n",
              "\n",
              "    [theme=dark] .colab-df-convert:hover {\n",
              "      background-color: #434B5C;\n",
              "      box-shadow: 0px 1px 3px 1px rgba(0, 0, 0, 0.15);\n",
              "      filter: drop-shadow(0px 1px 2px rgba(0, 0, 0, 0.3));\n",
              "      fill: #FFFFFF;\n",
              "    }\n",
              "  </style>\n",
              "\n",
              "      <script>\n",
              "        const buttonEl =\n",
              "          document.querySelector('#df-475e3aeb-f6e4-4e92-88bf-d5ffd89a1f39 button.colab-df-convert');\n",
              "        buttonEl.style.display =\n",
              "          google.colab.kernel.accessAllowed ? 'block' : 'none';\n",
              "\n",
              "        async function convertToInteractive(key) {\n",
              "          const element = document.querySelector('#df-475e3aeb-f6e4-4e92-88bf-d5ffd89a1f39');\n",
              "          const dataTable =\n",
              "            await google.colab.kernel.invokeFunction('convertToInteractive',\n",
              "                                                     [key], {});\n",
              "          if (!dataTable) return;\n",
              "\n",
              "          const docLinkHtml = 'Like what you see? Visit the ' +\n",
              "            '<a target=\"_blank\" href=https://colab.research.google.com/notebooks/data_table.ipynb>data table notebook</a>'\n",
              "            + ' to learn more about interactive tables.';\n",
              "          element.innerHTML = '';\n",
              "          dataTable['output_type'] = 'display_data';\n",
              "          await google.colab.output.renderOutput(dataTable, element);\n",
              "          const docLink = document.createElement('div');\n",
              "          docLink.innerHTML = docLinkHtml;\n",
              "          element.appendChild(docLink);\n",
              "        }\n",
              "      </script>\n",
              "    </div>\n",
              "  </div>\n",
              "  "
            ]
          },
          "metadata": {},
          "execution_count": 508
        }
      ]
    }
  ],
  "metadata": {
    "kernelspec": {
      "display_name": "Python 3",
      "language": "python",
      "name": "python3"
    },
    "language_info": {
      "codemirror_mode": {
        "name": "ipython",
        "version": 3
      },
      "file_extension": ".py",
      "mimetype": "text/x-python",
      "name": "python",
      "nbconvert_exporter": "python",
      "pygments_lexer": "ipython3",
      "version": "3.8.5"
    },
    "colab": {
      "provenance": [],
      "include_colab_link": true
    }
  },
  "nbformat": 4,
  "nbformat_minor": 0
}